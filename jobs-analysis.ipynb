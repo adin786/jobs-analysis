{
 "cells": [
  {
   "cell_type": "markdown",
   "id": "c730cc22-df68-46ca-b76c-75784e9e126a",
   "metadata": {},
   "source": [
    "# Indeed.com - Job Description Analyis\n",
    "I will use NLP (natural language processing) to analyse job adverts scraped from the uk.Indeed.com jobs website\n",
    "\n",
    "I will focus on UK based jobs in the data industry, mainly in Scottish companies to start with, keeping the data gathering steps manageable, possibly expanding the study to the rest of the UK later.\n",
    "\n",
    "I will write my own web scraper using the Requests and BeautifulSoup libraries.  I plan to process the text data using the nltk library\n",
    "\n",
    "## Motivation\n",
    "Suppose I am running a hypothetical data analytics company.  I have been approached by another company who are hoping to build and recruit a data analytics team.  Since they don't have an existing data analytics team, I have been given a list of skills and experience they think they need.  My challenge is to classify what job title they should be marketing their vacancy for.  Should it be a Data Scientist, or a Data Engineer etc.\n",
    "\n",
    "I am also (hypothetically) working with candidates to best tailor their CV, project portfolio etc to optimise for the things that data industry recruiters are looking for.  My study should be able to generate a list of the key things for each of the major data professions.\n",
    "\n",
    "## Sections (rough outline)\n",
    "- Scrape the data\n",
    "- Data cleaning\n",
    "- Data exploration\n",
    "  - Extracting the list of top skills requirements for each of the main disciplines\n",
    "  - Picking out common phrases to reference in an optimised CV\n",
    "- Feature engineering\n",
    "  - Job description length\n",
    "  - Years of experience mentioned\n",
    "  - Salary range (if enough data available)\n",
    "  - Key tech stack tools included, cloud platforms, databases, NLP, dashboards etc.\n",
    "  - Mentioning remote, flexible working etc\n",
    "- Model Building\n",
    "  - Classifier for labelling a job ad, with the most approproate job title.\n",
    "  - Na   svieve Bayes\n",
    "- Model Tuning\n",
    "\n"
   ]
  },
  {
   "cell_type": "code",
   "execution_count": 1,
   "id": "00bd8709-d06a-4333-a228-6389d45f56eb",
   "metadata": {},
   "outputs": [],
   "source": [
    "import pandas as pd\n",
    "import numpy as np\n",
    "import seaborn as sns\n",
    "import matplotlib.pyplot as plt\n",
    "import nltk\n",
    "import re\n",
    "import pprint as pp\n",
    "import os\n",
    "import indeed.IndeedScraper as ind\n",
    "from wordcloud import WordCloud"
   ]
  },
  {
   "cell_type": "markdown",
   "id": "cbf24925-bb38-4f09-a206-3f109d8a2818",
   "metadata": {},
   "source": [
    "# Scrape the data"
   ]
  },
  {
   "cell_type": "code",
   "execution_count": 2,
   "id": "0da52dc3-d610-42bd-90da-1c1d7f0d1c34",
   "metadata": {},
   "outputs": [
    {
     "name": "stdout",
     "output_type": "stream",
     "text": [
      "Data read from .csv (2991 rows, 13 columns)\n"
     ]
    }
   ],
   "source": [
    "# Manually trigger running the scraper or just loading existing data\n",
    "scrape_new = False\n",
    "\n",
    "f_name = 'data/data.csv'\n",
    "if scrape_new or not os.path.isfile(f_name):\n",
    "    ind.batch_scrape([('Data Scientist', 'Scotland'),\n",
    "                      ('Data Engineer', 'Scotland'),\n",
    "                      ('Data Analyst', 'Scotland'),\n",
    "                      ('Business Analyst', 'Scotland'),\n",
    "                      ('Machine Learning Engineer', 'Scotland'),\n",
    "                      ('Machine Learning', 'Scotland'),\n",
    "                      ('Artificial Intelligence', 'Scotland'),\n",
    "                      ('AI', 'Scotland'),\n",
    "                      ('Data', 'Scotland')],\n",
    "                     pages=20,\n",
    "                     delay=5,\n",
    "                     append=False)\n",
    "    df = pd.read_csv(f_name, index_col=0)\n",
    "else:\n",
    "    df = pd.read_csv(f_name, index_col=0)\n",
    "    print(f'Data read from .csv ({len(df)} rows, {len(df.columns)} columns)')"
   ]
  },
  {
   "cell_type": "code",
   "execution_count": 3,
   "id": "57bec6f9-53a4-42c5-a8a0-17c761d5bf26",
   "metadata": {},
   "outputs": [
    {
     "name": "stdout",
     "output_type": "stream",
     "text": [
      "<class 'pandas.core.frame.DataFrame'>\n",
      "Int64Index: 2991 entries, 0 to 2990\n",
      "Data columns (total 13 columns):\n",
      " #   Column            Non-Null Count  Dtype \n",
      "---  ------            --------------  ----- \n",
      " 0   title             2991 non-null   object\n",
      " 1   id                2991 non-null   object\n",
      " 2   company           2991 non-null   object\n",
      " 3   url               2991 non-null   object\n",
      " 4   location          2991 non-null   object\n",
      " 5   summary           2991 non-null   object\n",
      " 6   date              2991 non-null   object\n",
      " 7   description       2991 non-null   object\n",
      " 8   description_html  2991 non-null   object\n",
      " 9   page_format       2991 non-null   int64 \n",
      " 10  salary            877 non-null    object\n",
      " 11  query_title       2991 non-null   object\n",
      " 12  query_loc         2991 non-null   object\n",
      "dtypes: int64(1), object(12)\n",
      "memory usage: 327.1+ KB\n"
     ]
    }
   ],
   "source": [
    "df.info()"
   ]
  },
  {
   "cell_type": "markdown",
   "id": "8e06ae99-3f0d-4fd7-9ed4-94c8944a1e6e",
   "metadata": {},
   "source": [
    "# Data cleaning"
   ]
  },
  {
   "cell_type": "markdown",
   "id": "d186825e-c2e8-40b6-bc87-6290a0233b6a",
   "metadata": {},
   "source": [
    "## Drop duplicates\n",
    "Some (not all) duplicates are removed by the scraping routine.\n",
    "\n",
    "Check if there are any duplicates in the \"id\" column.  Since the scraped csv data was simply multiple search queries, then results appended into one big csv file.  It's possible for there to be some duplicates where id numbers are the same, between the multiple batches."
   ]
  },
  {
   "cell_type": "code",
   "execution_count": 4,
   "id": "1a7c9638-05ab-4cca-8d9d-93da506da8ef",
   "metadata": {},
   "outputs": [
    {
     "name": "stdout",
     "output_type": "stream",
     "text": [
      "Number of duplicate rows: 569\n"
     ]
    }
   ],
   "source": [
    "count = df.duplicated('id').sum()\n",
    "print(f'Number of duplicate rows: {count}')"
   ]
  },
  {
   "cell_type": "code",
   "execution_count": 5,
   "id": "b624eccb-0afe-479a-84cc-10b98b02e9d8",
   "metadata": {},
   "outputs": [
    {
     "name": "stdout",
     "output_type": "stream",
     "text": [
      "Number of rows before dropping duplicates: 2991\n",
      "Number of rows after dropping duplicates:  2422\n"
     ]
    }
   ],
   "source": [
    "print(f'Number of rows before dropping duplicates: {len(df)}')\n",
    "df = df.drop_duplicates('id', ignore_index=True)\n",
    "print(f'Number of rows after dropping duplicates:  {len(df)}')"
   ]
  },
  {
   "cell_type": "markdown",
   "id": "1037200d-2f81-4b5a-bb2b-237c01fd6aa3",
   "metadata": {},
   "source": [
    "## Fix column dtypes"
   ]
  },
  {
   "cell_type": "code",
   "execution_count": 6,
   "id": "3f41cb6b-710f-4379-b254-b5a4dc0e1494",
   "metadata": {},
   "outputs": [],
   "source": [
    "# Turn query_title into categorical column\n",
    "df.loc[:,'query_title'] = df['query_title'].astype('category')"
   ]
  },
  {
   "cell_type": "markdown",
   "id": "97709100-cc43-44db-8e67-699c5800f625",
   "metadata": {},
   "source": [
    "## Lowercase"
   ]
  },
  {
   "cell_type": "code",
   "execution_count": 7,
   "id": "ba938845-7030-42d8-a3d1-32adb4cf6aea",
   "metadata": {},
   "outputs": [],
   "source": [
    "# Switch text columns to lowercase\n",
    "df.loc[:,'title'] = df['title'].str.lower()\n",
    "df.loc[:,'description'] = df['description'].str.lower()"
   ]
  },
  {
   "cell_type": "markdown",
   "id": "7173e91a-3493-4605-ac8f-a48fc27c133f",
   "metadata": {},
   "source": [
    "## Clean up job titles\n",
    "Looks like some of the job titles were prefixed with \"new...\".  This will interfere with the word matching"
   ]
  },
  {
   "cell_type": "code",
   "execution_count": 8,
   "id": "8269856c-a5d4-4bfd-bef5-728353888761",
   "metadata": {},
   "outputs": [
    {
     "data": {
      "text/plain": [
       "['newdata science lecturer (international development)',\n",
       " 'newanalytics coordinator',\n",
       " 'newreporting analyst',\n",
       " 'newpolicy analyst',\n",
       " 'newwind analyst']"
      ]
     },
     "execution_count": 8,
     "metadata": {},
     "output_type": "execute_result"
    }
   ],
   "source": [
    "# Show first 5 rows beginning with \"new\" prefix\n",
    "mask = df.title.str.contains('^new', regex=True)\n",
    "df.loc[mask,'title'].iloc[:5].tolist()"
   ]
  },
  {
   "cell_type": "code",
   "execution_count": 9,
   "id": "7134b996-e775-4012-86b4-e4d07d5fa057",
   "metadata": {
    "tags": []
   },
   "outputs": [
    {
     "name": "stdout",
     "output_type": "stream",
     "text": [
      "Number of rows with \"new\" prefix: 0\n"
     ]
    }
   ],
   "source": [
    "# Drop the \"new\" prefix\n",
    "df.loc[:,'title'] = df.title.agg(lambda x: re.sub('^new','',x,1))\n",
    "\n",
    "# Check that none with prefix still exist\n",
    "mask = df.title.str.contains('^new', regex=True)\n",
    "count = len(df[mask].title.iloc[:10].tolist())\n",
    "print(f'Number of rows with \"new\" prefix: {count}')"
   ]
  },
  {
   "cell_type": "markdown",
   "id": "117abb64-cf31-4906-a7c5-2d6609fa5a98",
   "metadata": {},
   "source": [
    "# Location data\n",
    "\n",
    "Came across the library `geopy`.  Could use this to engineer some additional lat/lon features for plotting on a map.  Unless tableau already allows place names.\n",
    "\n",
    "Geopy uses OSM nominatim service with delay between requests\n",
    "\n",
    "Might use https://pypi.org/project/postcodes-io-api/ also"
   ]
  },
  {
   "cell_type": "code",
   "execution_count": 10,
   "id": "10a367cc-b897-403d-b296-085329deb984",
   "metadata": {},
   "outputs": [],
   "source": [
    "# from geopy.geocoders import Nominatim\n",
    "# geolocator = Nominatim(user_agent=\"jobs-analysis\")\n",
    "# location = geolocator.geocode(\"175 5th Avenue NYC\")"
   ]
  },
  {
   "cell_type": "markdown",
   "id": "ca7c035a-b016-4329-994f-28372803ad92",
   "metadata": {},
   "source": [
    "## Combine these into a preprocessing function"
   ]
  },
  {
   "cell_type": "code",
   "execution_count": 11,
   "id": "157c50ec-dd42-482c-81b3-208e05060be4",
   "metadata": {},
   "outputs": [
    {
     "name": "stdout",
     "output_type": "stream",
     "text": [
      "BEFORE:(2991, 13)\n",
      "AFTER: (2422, 13)\n"
     ]
    },
    {
     "name": "stderr",
     "output_type": "stream",
     "text": [
      "C:\\Users\\adin7\\.conda\\envs\\jobs-analysis\\lib\\site-packages\\pandas\\core\\indexing.py:1676: SettingWithCopyWarning: \n",
      "A value is trying to be set on a copy of a slice from a DataFrame.\n",
      "Try using .loc[row_indexer,col_indexer] = value instead\n",
      "\n",
      "See the caveats in the documentation: https://pandas.pydata.org/pandas-docs/stable/user_guide/indexing.html#returning-a-view-versus-a-copy\n",
      "  self._setitem_single_column(ilocs[0], value, pi)\n"
     ]
    }
   ],
   "source": [
    "# Clean up dataframe\n",
    "def pre_processing_basic(df):\n",
    "    '''Pre process the dataframe in a basic way'''\n",
    "    \n",
    "    # Drop duplicates\n",
    "    df = df.drop_duplicates('id', ignore_index=True)\n",
    "    \n",
    "    # Fix column types\n",
    "    df.loc[:,'query_title'] = df['query_title'].astype('category')\n",
    "    \n",
    "    # Lower case\n",
    "    df.loc[:,'title'] = df['title'].str.lower()\n",
    "    df.loc[:,'description'] = df['description'].str.lower()\n",
    "    \n",
    "    # Remove \"new...\" prefix from some job titles\n",
    "    df.loc[:,'title'] = df.title.agg(lambda x: re.sub('^new','',x,1))    \n",
    "    \n",
    "    return df\n",
    "\n",
    "# Load the data fresh and run the preprocessor\n",
    "df = pd.read_csv(f_name, index_col=0)\n",
    "print(f'BEFORE:{df.shape}')\n",
    "df_preprocessed = pre_processing_basic(df.copy())\n",
    "print(f'AFTER: {df_preprocessed.shape}')"
   ]
  },
  {
   "cell_type": "markdown",
   "id": "d9c91c58-11b7-47ea-822a-65a960a02b08",
   "metadata": {},
   "source": [
    "# Feature Engineering"
   ]
  },
  {
   "cell_type": "markdown",
   "id": "7964b742-0d73-43f4-8670-649bab3d970c",
   "metadata": {},
   "source": [
    "## Detect simple keywords/phrases\n",
    "Based on intuition about the job types. There should be some key skills, programming languages, tools etc that are specific to each job. So if I can categorise each job with some of these, then there is a chance of training an ML model to classify the jobs using them."
   ]
  },
  {
   "cell_type": "code",
   "execution_count": 12,
   "id": "1ef30bbc-a293-4049-b4ec-84c99ef0a48c",
   "metadata": {},
   "outputs": [],
   "source": [
    "def add_single_skill(df, skill, col, verbose=False):\n",
    "    '''Generalised function to detect keyword/phrases\n",
    "    Adds a new column with value == True if the regex pattern is matched'''\n",
    "    \n",
    "    df.loc[:,col] = False\n",
    "    for i, row in df.iterrows():\n",
    "        doc = row.description\n",
    "        match = re.search(f'{skill}',doc)\n",
    "        \n",
    "        if match is not None:\n",
    "            numchars = 20\n",
    "            start = (match.start() - numchars) if (match.start() >= numchars) else 0\n",
    "            end = (match.end() + numchars) if (match.end() <= len(doc)) else len(doc)\n",
    "            context = doc[start:end]\n",
    "            if verbose: print(fr'Found:[{col} @ {i:<3}]  ...{context}...')\n",
    "            df.loc[i, col] = True\n",
    "            \n",
    "    if verbose: print(f'Jobs tagged with {col}: {df.loc[:, col].sum()}')\n",
    "    return df"
   ]
  },
  {
   "cell_type": "code",
   "execution_count": 13,
   "id": "a3451493-b859-4f4f-9d74-00b9beb91c26",
   "metadata": {
    "tags": []
   },
   "outputs": [],
   "source": [
    "# Use this function to generate a load of columns for each keyword/phrase\n",
    "def add_all_skills(df, verbose=False):\n",
    "    df = add_single_skill(df, 'python', 'is_python', verbose=verbose);\n",
    "    df = add_single_skill(df, '\\sr(\\s|[.,]\\s)', 'is_r', verbose=verbose);\n",
    "    df = add_single_skill(df, 'spark', 'is_spark', verbose=verbose);\n",
    "    df = add_single_skill(df, 'java[\\s,.]', 'is_java', verbose=verbose);\n",
    "    df = add_single_skill(df, 'javascript', 'is_javascript', verbose=verbose);\n",
    "    df = add_single_skill(df, 'hadoop', 'is_hadoop', verbose=verbose);\n",
    "    df = add_single_skill(df, '[\\s\\(]aws|amazon web', 'is_aws', verbose=verbose);\n",
    "    df = add_single_skill(df, '[\\s\\(]gcp|google cloud', 'is_gcp', verbose=verbose);\n",
    "    df = add_single_skill(df, 'azure', 'is_azure', verbose=verbose);\n",
    "    df = add_single_skill(df, 'nosql', 'is_nosql', verbose=verbose);\n",
    "    df = add_single_skill(df, '[^o]sql', 'is_sql', verbose=verbose);\n",
    "    df = add_single_skill(df, 'mongodb', 'is_mongodb', verbose=verbose);\n",
    "    df = add_single_skill(df, 'kubernetes', 'is_kubernetes', verbose=verbose);\n",
    "    df = add_single_skill(df, 'kafka', 'is_kafka', verbose=verbose);\n",
    "    df = add_single_skill(df, 'hive', 'is_hive', verbose=verbose);\n",
    "    df = add_single_skill(df, 'nlp|natural language', 'is_nlp', verbose=verbose);\n",
    "    df = add_single_skill(df, 'tensorflow', 'is_tensorflow', verbose=verbose);\n",
    "    df = add_single_skill(df, 'keras', 'is_keras', verbose=verbose);\n",
    "    df = add_single_skill(df, 'pytorch', 'is_pytorch', verbose=verbose);\n",
    "    df = add_single_skill(df, 'sklearn|sci-?kit-?learn', 'is_sklearn', verbose=verbose);\n",
    "    df = add_single_skill(df, 'deep learning', 'is_dl', verbose=verbose);\n",
    "    df = add_single_skill(df, 'etl|extract[,-]? ?transform[,-]? ?load', 'is_etl', verbose=verbose);\n",
    "    df = add_single_skill(df, 'excel', 'is_excel', verbose=verbose);\n",
    "    df = add_single_skill(df, 'ml', 'is_ml', verbose=verbose);\n",
    "    df = add_single_skill(df, 'a\\.i\\.|[\\s\\(]ai(\\s|[.,]\\s)|artificial intelligence', 'is_ai', verbose=verbose);\n",
    "    df = add_single_skill(df, 'statistics|stats', 'is_stats', verbose=verbose);\n",
    "    df = add_single_skill(df, 'data[- ]?mining', 'is_data_mining', verbose=verbose);\n",
    "    df = add_single_skill(df, 'data[- ]?analysis|data[- ]?analytics', 'is_data_analytics', verbose=verbose);\n",
    "    df = add_single_skill(df, 'big[ -]?data', 'is_big_data', verbose=verbose);\n",
    "    df = add_single_skill(df, 'computer vision|machine vision', 'is_com_vision', verbose=verbose);\n",
    "    df = add_single_skill(df, 'c\\+\\+', 'is_c_plus_plus', verbose=verbose);\n",
    "    df = add_single_skill(df, '\\ssas(\\s|[.,]\\s)', 'is_sas', verbose=verbose);\n",
    "    df = add_single_skill(df, 'matlab', 'is_matlab', verbose=verbose);\n",
    "    df = add_single_skill(df, 'tableau', 'is_tableau', verbose=verbose);\n",
    "    df = add_single_skill(df, 'power[- ]?bi', 'is_power_bi', verbose=verbose);\n",
    "    df = add_single_skill(df, 'prediction|predictive', 'is_predictive', verbose=verbose);\n",
    "    df = add_single_skill(df, 'story[- ]?telling| story ', 'is_story', verbose=verbose);\n",
    "    df = add_single_skill(df, 'presentation|presenting|present', 'is_presenting', verbose=verbose);\n",
    "    df = add_single_skill(df, 'trader|trading', 'is_trading', verbose=verbose);\n",
    "    df = add_single_skill(df, 'jupyter', 'is_jupyter', verbose=verbose);\n",
    "    df = add_single_skill(df, 'airflow', 'is_airflow', verbose=verbose);\n",
    "    df = add_single_skill(df, 'databricks', 'is_databricks', verbose=verbose);\n",
    "    df = add_single_skill(df, 'cloud', 'is_cloud', verbose=verbose);\n",
    "    df = add_single_skill(df, 'dev[-]?ops', 'is_devops', verbose=verbose);\n",
    "    \n",
    "    return df"
   ]
  },
  {
   "cell_type": "code",
   "execution_count": 14,
   "id": "95088377-e004-4f6d-8125-f626a6e56666",
   "metadata": {
    "scrolled": true,
    "tags": []
   },
   "outputs": [],
   "source": [
    "df_preprocessed = add_all_skills(df_preprocessed, verbose=False)"
   ]
  },
  {
   "cell_type": "markdown",
   "id": "49f56810-34b1-4f7d-8236-b905503fce2e",
   "metadata": {},
   "source": [
    "## Extract the target variable \"job title\"\n",
    "Note this method of setting the target variable depends on the roles being accurately described already.  Might be an action for the future, that I could scrape the wikipedia etc page for each job title, and match up with skills etc according to that."
   ]
  },
  {
   "cell_type": "code",
   "execution_count": 15,
   "id": "94cdf3bb-22bf-48df-89e8-6c2cf149e59b",
   "metadata": {
    "tags": []
   },
   "outputs": [
    {
     "name": "stdout",
     "output_type": "stream",
     "text": [
      "Count of unmatched: 656\n",
      "Cound of matched:   1766 \n"
     ]
    }
   ],
   "source": [
    "def add_target_variable(df):\n",
    "    count_unmatched = 0\n",
    "    for index, row in df.iterrows():\n",
    "        title = row.title\n",
    "        title_simplified = 'Data Scientist' if 'data scientist' in title else '-'\n",
    "\n",
    "        if re.match('.*data.*scien(tist|ce).*', title) is not None:\n",
    "            title_simplified = 'data scientist'\n",
    "        elif 'nlp' in title:\n",
    "            title_simplified = 'nlp'\n",
    "        elif 'data analyst' in title:\n",
    "            title_simplified = 'data analyst'\n",
    "        elif re.match('.*data.*analy(st|tics).*', title) is not None:\n",
    "            title_simplified = 'data analyst'\n",
    "        elif 'data engineer' in title or 'cloud engineer' in title:\n",
    "            title_simplified = 'data engineer'\n",
    "        elif 'business analyst' in title:\n",
    "            title_simplified = 'business analyst'\n",
    "        elif re.match('.*(business.*(intel|analy(sis|st))|bi).*', title) is not None:\n",
    "            title_simplified = 'business intelligence'\n",
    "        elif re.match('.*machine.*learning.*', title) is not None:\n",
    "            title_simplified = 'machine learning engineer'\n",
    "        elif re.match('.*(artificial.*intelligence|\\sai\\s).*', title) is not None:\n",
    "            title_simplified = 'ai'\n",
    "        elif re.match('.*software.*engineer.*', title) is not None:\n",
    "            title_simplified = 'software engineer'\n",
    "        elif re.match('.*analy(st|tics).*', title) is not None:\n",
    "            title_simplified = 'analyst'\n",
    "        elif 'systems' in title:\n",
    "            title_simplified = 'systems'\n",
    "        elif 'software develop' in title:\n",
    "            title_simplified = 'software developer'\n",
    "        elif 'developer' in title:\n",
    "            title_simplified = 'developer'\n",
    "        elif 'research' in title:\n",
    "            title_simplified = 'research'\n",
    "        elif 'scientist' in title:\n",
    "            title_simplified = 'scientist'\n",
    "        elif 'admin' in title:\n",
    "            title_simplified = 'admin'\n",
    "        elif 'devops' in title:\n",
    "            title_simplified = 'devops'\n",
    "        else:\n",
    "            title_simplified = 'other'\n",
    "#             print(f'Extracted: Query:\"{row.query_title}\" Title:\"{title}\"')\n",
    "            count_unmatched = count_unmatched + 1\n",
    "            \n",
    "        df.loc[index, 'title_simplified'] = title_simplified\n",
    "\n",
    "    print(f'Count of unmatched: {count_unmatched}')\n",
    "    print(f'Cound of matched:   {len(df)-count_unmatched} ')\n",
    "    return df\n",
    "\n",
    "df_preprocessed = add_target_variable(df_preprocessed)"
   ]
  },
  {
   "cell_type": "code",
   "execution_count": 16,
   "id": "1ecb0b79-8342-43a6-8d92-7521aa037d01",
   "metadata": {},
   "outputs": [
    {
     "data": {
      "text/plain": [
       "other                        656\n",
       "data scientist               306\n",
       "data analyst                 300\n",
       "business analyst             293\n",
       "analyst                      179\n",
       "business intelligence        143\n",
       "machine learning engineer    143\n",
       "research                      72\n",
       "software engineer             67\n",
       "admin                         54\n",
       "developer                     52\n",
       "data engineer                 47\n",
       "ai                            41\n",
       "systems                       21\n",
       "software developer            18\n",
       "scientist                     18\n",
       "devops                         7\n",
       "nlp                            5\n",
       "Name: title_simplified, dtype: int64"
      ]
     },
     "execution_count": 16,
     "metadata": {},
     "output_type": "execute_result"
    }
   ],
   "source": [
    "# Print list of simplified job titles and their counts\n",
    "value_counts = df_preprocessed.title_simplified.value_counts()\n",
    "value_counts"
   ]
  },
  {
   "cell_type": "code",
   "execution_count": 17,
   "id": "7ec88ba5-68f8-4a2c-900f-c0568b1b4ab7",
   "metadata": {},
   "outputs": [
    {
     "data": {
      "image/png": "[encoded data removed]",
      "text/plain": [
       "<Figure size 720x360 with 1 Axes>"
      ]
     },
     "metadata": {
      "needs_background": "light"
     },
     "output_type": "display_data"
    }
   ],
   "source": [
    "# Plot a bar chart\n",
    "\n",
    "# Code snippet from Stackoverflow to print values onto plot - https://stackoverflow.com/a/56780852\n",
    "def show_values_on_bars(axs, h_v=\"v\", space=0.4):\n",
    "    def _show_on_single_plot(ax):\n",
    "        if h_v == \"v\":\n",
    "            for p in ax.patches:\n",
    "                _x = p.get_x() + p.get_width() / 2\n",
    "                _y = p.get_y() + p.get_height()\n",
    "                value = int(p.get_height())\n",
    "                ax.text(_x, _y, value, ha=\"center\") \n",
    "        elif h_v == \"h\":\n",
    "            for p in ax.patches:\n",
    "                _x = p.get_x() + p.get_width() + float(space)\n",
    "                _y = p.get_y() + p.get_height() *  3/4\n",
    "                value = int(p.get_width())\n",
    "                ax.text(_x, _y, value, ha=\"left\")\n",
    "\n",
    "    if isinstance(axs, np.ndarray):\n",
    "        for idx, ax in np.ndenumerate(axs):\n",
    "            _show_on_single_plot(ax)\n",
    "    else:\n",
    "        _show_on_single_plot(axs)\n",
    "\n",
    "fig = plt.figure()\n",
    "fig.set_size_inches(10,5)\n",
    "ax = sns.barplot(y=value_counts.index, x=value_counts.values, palette='rocket');\n",
    "ax.set_title('Number of jobs with each value of [title_simplified]');\n",
    "ax.set_xlabel('Num jobs');\n",
    "show_values_on_bars(ax, \"h\", 0.3)"
   ]
  },
  {
   "cell_type": "markdown",
   "id": "fe778d78-c0a3-4985-8d50-5175d340b872",
   "metadata": {},
   "source": [
    "- Most common class in the dataset is \"other\".  I may undersample this class, or oversample the others if I think class imbalance is influencing the results.\n",
    "- There are lots of `analyst` jobs that aren't `data analyst` or `business analyst`.\n",
    "- Some job titles had very few mentions.  They aren't going to be a big enough category of their own so I should combine into another category, for example.\n",
    "  - `nlp` and `ai` combine with `data scientist`\n",
    "  - `systems` and `devops` combine with `software engineer`"
   ]
  },
  {
   "cell_type": "code",
   "execution_count": 18,
   "id": "bcc156e9-39ab-4ec3-af36-ab356f019c59",
   "metadata": {},
   "outputs": [
    {
     "name": "stdout",
     "output_type": "stream",
     "text": [
      "Number of \"nlp\" and \"ai\" jobs BEFORE: 46\n",
      "Number of \"nlp\" and \"ai\" jobs AFTER: 0\n"
     ]
    }
   ],
   "source": [
    "# Aggregate nlp and ai jobs to data scientist\n",
    "mask = df_preprocessed['title_simplified'].isin(['nlp','ai'])\n",
    "print(f'Number of \"nlp\" and \"ai\" jobs BEFORE: {mask.sum()}')\n",
    "\n",
    "df_preprocessed.loc[mask,'title_simplified'] = 'data scientist'\n",
    "mask = df_preprocessed['title_simplified'].isin(['nlp','ai'])\n",
    "print(f'Number of \"nlp\" and \"ai\" jobs AFTER: {mask.sum()}')"
   ]
  },
  {
   "cell_type": "code",
   "execution_count": 19,
   "id": "0b450639-6ba7-460e-9471-c992b1b199bd",
   "metadata": {},
   "outputs": [
    {
     "name": "stdout",
     "output_type": "stream",
     "text": [
      "Number of \"systems\" and \"devops\" jobs BEFORE: 28\n",
      "Number of \"systems\" and \"devops\" jobs AFTER: 0\n"
     ]
    }
   ],
   "source": [
    "# Aggregate systems and devops jobs to software engineer\n",
    "mask = df_preprocessed['title_simplified'].isin(['systems','devops'])\n",
    "print(f'Number of \"systems\" and \"devops\" jobs BEFORE: {mask.sum()}')\n",
    "\n",
    "df_preprocessed.loc[mask,'title_simplified'] = 'software engineer'\n",
    "mask = df_preprocessed['title_simplified'].isin(['systems','devops'])\n",
    "print(f'Number of \"systems\" and \"devops\" jobs AFTER: {mask.sum()}')"
   ]
  },
  {
   "cell_type": "code",
   "execution_count": 20,
   "id": "016e217b-d3e8-457a-870d-cedf98150fe6",
   "metadata": {},
   "outputs": [],
   "source": [
    "# Function to print the top skills appearing in a given category\n",
    "def get_top_skills(df, title, n, verbose=False):\n",
    "    df = df[df.title_simplified == title]\n",
    "    skills_freq = dict()\n",
    "    \n",
    "    skills = [x for x in df.columns.tolist() if 'is_' in x]\n",
    "    for skill in skills:\n",
    "        skills_freq[skill] = df[skill].sum()\n",
    "        \n",
    "    skills_sorted = sorted(skills_freq.items(), key=lambda x: x[1], reverse=True)\n",
    "\n",
    "    # skills_top, counts_top = zip(*skills_sorted)\n",
    "    if verbose:\n",
    "        print(f'Top {n} skills for: \"{title}\"')\n",
    "        for s, c in skills_sorted[:n]:\n",
    "            print(f'Skill: {s:-<30} Freq: {c/len(df)*100:.0f}%')\n",
    "        print('')\n",
    "        \n",
    "    return skills_sorted"
   ]
  },
  {
   "cell_type": "code",
   "execution_count": 21,
   "id": "6914e12a-80bf-40ff-ba7e-cdfbb9f1422d",
   "metadata": {},
   "outputs": [
    {
     "name": "stdout",
     "output_type": "stream",
     "text": [
      "Top 5 skills for: \"admin\"\n",
      "Skill: is_excel---------------------- Freq: 78%\n",
      "Skill: is_presenting----------------- Freq: 11%\n",
      "Skill: is_sql------------------------ Freq: 9%\n",
      "Skill: is_ml------------------------- Freq: 9%\n",
      "Skill: is_etl------------------------ Freq: 7%\n",
      "\n",
      "Top 5 skills for: \"data scientist\"\n",
      "Skill: is_python--------------------- Freq: 72%\n",
      "Skill: is_sql------------------------ Freq: 48%\n",
      "Skill: is_excel---------------------- Freq: 43%\n",
      "Skill: is_stats---------------------- Freq: 39%\n",
      "Skill: is_ai------------------------- Freq: 38%\n",
      "\n",
      "Top 5 skills for: \"data engineer\"\n",
      "Skill: is_sql------------------------ Freq: 72%\n",
      "Skill: is_cloud---------------------- Freq: 66%\n",
      "Skill: is_python--------------------- Freq: 62%\n",
      "Skill: is_etl------------------------ Freq: 45%\n",
      "Skill: is_excel---------------------- Freq: 40%\n",
      "\n",
      "Top 5 skills for: \"business analyst\"\n",
      "Skill: is_excel---------------------- Freq: 59%\n",
      "Skill: is_presenting----------------- Freq: 36%\n",
      "Skill: is_data_analytics------------- Freq: 13%\n",
      "Skill: is_ml------------------------- Freq: 10%\n",
      "Skill: is_cloud---------------------- Freq: 10%\n",
      "\n",
      "Top 5 skills for: \"machine learning engineer\"\n",
      "Skill: is_python--------------------- Freq: 71%\n",
      "Skill: is_ml------------------------- Freq: 59%\n",
      "Skill: is_ai------------------------- Freq: 47%\n",
      "Skill: is_tensorflow----------------- Freq: 38%\n",
      "Skill: is_excel---------------------- Freq: 35%\n",
      "\n",
      "Top 5 skills for: \"software engineer\"\n",
      "Skill: is_ai------------------------- Freq: 62%\n",
      "Skill: is_excel---------------------- Freq: 51%\n",
      "Skill: is_cloud---------------------- Freq: 43%\n",
      "Skill: is_python--------------------- Freq: 40%\n",
      "Skill: is_ml------------------------- Freq: 37%\n",
      "\n"
     ]
    }
   ],
   "source": [
    "n = 5\n",
    "skills_sorted = get_top_skills(df_preprocessed, 'admin', n, verbose=True)\n",
    "skills_sorted = get_top_skills(df_preprocessed, 'data scientist', n, verbose=True)\n",
    "skills_sorted = get_top_skills(df_preprocessed, 'data engineer', n, verbose=True)  \n",
    "skills_sorted = get_top_skills(df_preprocessed, 'business analyst', n, verbose=True)\n",
    "skills_sorted = get_top_skills(df_preprocessed, 'machine learning engineer', n, verbose=True)\n",
    "skills_sorted = get_top_skills(df_preprocessed, 'software engineer', n, verbose=True)"
   ]
  },
  {
   "cell_type": "markdown",
   "id": "294a2bc8-4bd0-4645-811d-912e55fa7abc",
   "metadata": {},
   "source": [
    "- Clearly, each job title relates to different key skills, so this could be a reasonable predictor for a classifer\n",
    "- Data scientist jobs are most frequently asking for python, sql and stats experience\n",
    "  - 72% mentioned python, under 50% mentioned sql and excel/stats\n",
    "- Data engineers are most frequently asked for sql, cloud and python experience\n",
    "  - Python, SQL and \"cloud\" were mentioned in >62% of Data Engineer job ads\n",
    "- **Surprisingly**, a large number of software engineer jobs also make mention of \"ai\""
   ]
  },
  {
   "cell_type": "code",
   "execution_count": 22,
   "id": "f512230c-2dd6-4178-99c4-96b1600cb5f2",
   "metadata": {},
   "outputs": [
    {
     "data": {
      "text/html": [
       "<div>\n",
       "<style scoped>\n",
       "    .dataframe tbody tr th:only-of-type {\n",
       "        vertical-align: middle;\n",
       "    }\n",
       "\n",
       "    .dataframe tbody tr th {\n",
       "        vertical-align: top;\n",
       "    }\n",
       "\n",
       "    .dataframe thead th {\n",
       "        text-align: right;\n",
       "    }\n",
       "</style>\n",
       "<table border=\"1\" class=\"dataframe\">\n",
       "  <thead>\n",
       "    <tr style=\"text-align: right;\">\n",
       "      <th></th>\n",
       "      <th>is_ai</th>\n",
       "      <th>is_airflow</th>\n",
       "      <th>is_aws</th>\n",
       "      <th>is_azure</th>\n",
       "      <th>is_big_data</th>\n",
       "      <th>is_c_plus_plus</th>\n",
       "      <th>is_cloud</th>\n",
       "      <th>is_com_vision</th>\n",
       "      <th>is_data_analytics</th>\n",
       "      <th>is_data_mining</th>\n",
       "      <th>...</th>\n",
       "      <th>is_r</th>\n",
       "      <th>is_sas</th>\n",
       "      <th>is_sklearn</th>\n",
       "      <th>is_spark</th>\n",
       "      <th>is_sql</th>\n",
       "      <th>is_stats</th>\n",
       "      <th>is_story</th>\n",
       "      <th>is_tableau</th>\n",
       "      <th>is_tensorflow</th>\n",
       "      <th>is_trading</th>\n",
       "    </tr>\n",
       "    <tr>\n",
       "      <th>title_simplified</th>\n",
       "      <th></th>\n",
       "      <th></th>\n",
       "      <th></th>\n",
       "      <th></th>\n",
       "      <th></th>\n",
       "      <th></th>\n",
       "      <th></th>\n",
       "      <th></th>\n",
       "      <th></th>\n",
       "      <th></th>\n",
       "      <th></th>\n",
       "      <th></th>\n",
       "      <th></th>\n",
       "      <th></th>\n",
       "      <th></th>\n",
       "      <th></th>\n",
       "      <th></th>\n",
       "      <th></th>\n",
       "      <th></th>\n",
       "      <th></th>\n",
       "      <th></th>\n",
       "    </tr>\n",
       "  </thead>\n",
       "  <tbody>\n",
       "    <tr>\n",
       "      <th>admin</th>\n",
       "      <td>3</td>\n",
       "      <td>0</td>\n",
       "      <td>0</td>\n",
       "      <td>0</td>\n",
       "      <td>2</td>\n",
       "      <td>0</td>\n",
       "      <td>1</td>\n",
       "      <td>0</td>\n",
       "      <td>3</td>\n",
       "      <td>1</td>\n",
       "      <td>...</td>\n",
       "      <td>0</td>\n",
       "      <td>0</td>\n",
       "      <td>0</td>\n",
       "      <td>0</td>\n",
       "      <td>5</td>\n",
       "      <td>0</td>\n",
       "      <td>0</td>\n",
       "      <td>0</td>\n",
       "      <td>0</td>\n",
       "      <td>0</td>\n",
       "    </tr>\n",
       "    <tr>\n",
       "      <th>analyst</th>\n",
       "      <td>28</td>\n",
       "      <td>5</td>\n",
       "      <td>7</td>\n",
       "      <td>12</td>\n",
       "      <td>5</td>\n",
       "      <td>0</td>\n",
       "      <td>27</td>\n",
       "      <td>1</td>\n",
       "      <td>71</td>\n",
       "      <td>8</td>\n",
       "      <td>...</td>\n",
       "      <td>13</td>\n",
       "      <td>11</td>\n",
       "      <td>0</td>\n",
       "      <td>3</td>\n",
       "      <td>47</td>\n",
       "      <td>24</td>\n",
       "      <td>9</td>\n",
       "      <td>17</td>\n",
       "      <td>0</td>\n",
       "      <td>9</td>\n",
       "    </tr>\n",
       "    <tr>\n",
       "      <th>business analyst</th>\n",
       "      <td>9</td>\n",
       "      <td>0</td>\n",
       "      <td>2</td>\n",
       "      <td>12</td>\n",
       "      <td>4</td>\n",
       "      <td>0</td>\n",
       "      <td>29</td>\n",
       "      <td>1</td>\n",
       "      <td>39</td>\n",
       "      <td>0</td>\n",
       "      <td>...</td>\n",
       "      <td>2</td>\n",
       "      <td>1</td>\n",
       "      <td>0</td>\n",
       "      <td>1</td>\n",
       "      <td>20</td>\n",
       "      <td>6</td>\n",
       "      <td>8</td>\n",
       "      <td>4</td>\n",
       "      <td>0</td>\n",
       "      <td>8</td>\n",
       "    </tr>\n",
       "    <tr>\n",
       "      <th>business intelligence</th>\n",
       "      <td>22</td>\n",
       "      <td>5</td>\n",
       "      <td>20</td>\n",
       "      <td>9</td>\n",
       "      <td>19</td>\n",
       "      <td>2</td>\n",
       "      <td>33</td>\n",
       "      <td>0</td>\n",
       "      <td>26</td>\n",
       "      <td>3</td>\n",
       "      <td>...</td>\n",
       "      <td>10</td>\n",
       "      <td>3</td>\n",
       "      <td>0</td>\n",
       "      <td>9</td>\n",
       "      <td>47</td>\n",
       "      <td>5</td>\n",
       "      <td>4</td>\n",
       "      <td>16</td>\n",
       "      <td>0</td>\n",
       "      <td>6</td>\n",
       "    </tr>\n",
       "    <tr>\n",
       "      <th>data analyst</th>\n",
       "      <td>24</td>\n",
       "      <td>0</td>\n",
       "      <td>11</td>\n",
       "      <td>8</td>\n",
       "      <td>15</td>\n",
       "      <td>1</td>\n",
       "      <td>28</td>\n",
       "      <td>3</td>\n",
       "      <td>104</td>\n",
       "      <td>9</td>\n",
       "      <td>...</td>\n",
       "      <td>31</td>\n",
       "      <td>7</td>\n",
       "      <td>2</td>\n",
       "      <td>5</td>\n",
       "      <td>106</td>\n",
       "      <td>38</td>\n",
       "      <td>14</td>\n",
       "      <td>50</td>\n",
       "      <td>0</td>\n",
       "      <td>10</td>\n",
       "    </tr>\n",
       "    <tr>\n",
       "      <th>data engineer</th>\n",
       "      <td>7</td>\n",
       "      <td>3</td>\n",
       "      <td>17</td>\n",
       "      <td>13</td>\n",
       "      <td>9</td>\n",
       "      <td>5</td>\n",
       "      <td>31</td>\n",
       "      <td>0</td>\n",
       "      <td>6</td>\n",
       "      <td>0</td>\n",
       "      <td>...</td>\n",
       "      <td>8</td>\n",
       "      <td>3</td>\n",
       "      <td>0</td>\n",
       "      <td>13</td>\n",
       "      <td>34</td>\n",
       "      <td>4</td>\n",
       "      <td>1</td>\n",
       "      <td>4</td>\n",
       "      <td>0</td>\n",
       "      <td>0</td>\n",
       "    </tr>\n",
       "    <tr>\n",
       "      <th>data scientist</th>\n",
       "      <td>134</td>\n",
       "      <td>4</td>\n",
       "      <td>54</td>\n",
       "      <td>41</td>\n",
       "      <td>71</td>\n",
       "      <td>24</td>\n",
       "      <td>108</td>\n",
       "      <td>27</td>\n",
       "      <td>98</td>\n",
       "      <td>32</td>\n",
       "      <td>...</td>\n",
       "      <td>129</td>\n",
       "      <td>14</td>\n",
       "      <td>27</td>\n",
       "      <td>55</td>\n",
       "      <td>169</td>\n",
       "      <td>139</td>\n",
       "      <td>28</td>\n",
       "      <td>44</td>\n",
       "      <td>36</td>\n",
       "      <td>12</td>\n",
       "    </tr>\n",
       "    <tr>\n",
       "      <th>developer</th>\n",
       "      <td>30</td>\n",
       "      <td>1</td>\n",
       "      <td>11</td>\n",
       "      <td>4</td>\n",
       "      <td>5</td>\n",
       "      <td>6</td>\n",
       "      <td>19</td>\n",
       "      <td>1</td>\n",
       "      <td>4</td>\n",
       "      <td>0</td>\n",
       "      <td>...</td>\n",
       "      <td>1</td>\n",
       "      <td>2</td>\n",
       "      <td>0</td>\n",
       "      <td>0</td>\n",
       "      <td>20</td>\n",
       "      <td>2</td>\n",
       "      <td>0</td>\n",
       "      <td>2</td>\n",
       "      <td>1</td>\n",
       "      <td>3</td>\n",
       "    </tr>\n",
       "    <tr>\n",
       "      <th>machine learning engineer</th>\n",
       "      <td>67</td>\n",
       "      <td>3</td>\n",
       "      <td>32</td>\n",
       "      <td>11</td>\n",
       "      <td>21</td>\n",
       "      <td>40</td>\n",
       "      <td>37</td>\n",
       "      <td>24</td>\n",
       "      <td>17</td>\n",
       "      <td>9</td>\n",
       "      <td>...</td>\n",
       "      <td>5</td>\n",
       "      <td>0</td>\n",
       "      <td>20</td>\n",
       "      <td>23</td>\n",
       "      <td>24</td>\n",
       "      <td>33</td>\n",
       "      <td>3</td>\n",
       "      <td>3</td>\n",
       "      <td>54</td>\n",
       "      <td>3</td>\n",
       "    </tr>\n",
       "    <tr>\n",
       "      <th>other</th>\n",
       "      <td>379</td>\n",
       "      <td>4</td>\n",
       "      <td>71</td>\n",
       "      <td>39</td>\n",
       "      <td>71</td>\n",
       "      <td>67</td>\n",
       "      <td>166</td>\n",
       "      <td>28</td>\n",
       "      <td>65</td>\n",
       "      <td>7</td>\n",
       "      <td>...</td>\n",
       "      <td>21</td>\n",
       "      <td>11</td>\n",
       "      <td>1</td>\n",
       "      <td>14</td>\n",
       "      <td>57</td>\n",
       "      <td>45</td>\n",
       "      <td>24</td>\n",
       "      <td>16</td>\n",
       "      <td>17</td>\n",
       "      <td>22</td>\n",
       "    </tr>\n",
       "    <tr>\n",
       "      <th>research</th>\n",
       "      <td>49</td>\n",
       "      <td>0</td>\n",
       "      <td>5</td>\n",
       "      <td>3</td>\n",
       "      <td>5</td>\n",
       "      <td>18</td>\n",
       "      <td>11</td>\n",
       "      <td>11</td>\n",
       "      <td>7</td>\n",
       "      <td>1</td>\n",
       "      <td>...</td>\n",
       "      <td>4</td>\n",
       "      <td>1</td>\n",
       "      <td>3</td>\n",
       "      <td>1</td>\n",
       "      <td>3</td>\n",
       "      <td>15</td>\n",
       "      <td>2</td>\n",
       "      <td>0</td>\n",
       "      <td>11</td>\n",
       "      <td>3</td>\n",
       "    </tr>\n",
       "    <tr>\n",
       "      <th>scientist</th>\n",
       "      <td>7</td>\n",
       "      <td>0</td>\n",
       "      <td>1</td>\n",
       "      <td>0</td>\n",
       "      <td>1</td>\n",
       "      <td>5</td>\n",
       "      <td>0</td>\n",
       "      <td>2</td>\n",
       "      <td>7</td>\n",
       "      <td>0</td>\n",
       "      <td>...</td>\n",
       "      <td>6</td>\n",
       "      <td>2</td>\n",
       "      <td>6</td>\n",
       "      <td>1</td>\n",
       "      <td>0</td>\n",
       "      <td>7</td>\n",
       "      <td>0</td>\n",
       "      <td>0</td>\n",
       "      <td>1</td>\n",
       "      <td>0</td>\n",
       "    </tr>\n",
       "    <tr>\n",
       "      <th>software developer</th>\n",
       "      <td>13</td>\n",
       "      <td>0</td>\n",
       "      <td>6</td>\n",
       "      <td>6</td>\n",
       "      <td>2</td>\n",
       "      <td>3</td>\n",
       "      <td>5</td>\n",
       "      <td>1</td>\n",
       "      <td>2</td>\n",
       "      <td>0</td>\n",
       "      <td>...</td>\n",
       "      <td>0</td>\n",
       "      <td>0</td>\n",
       "      <td>0</td>\n",
       "      <td>0</td>\n",
       "      <td>7</td>\n",
       "      <td>2</td>\n",
       "      <td>0</td>\n",
       "      <td>1</td>\n",
       "      <td>1</td>\n",
       "      <td>1</td>\n",
       "    </tr>\n",
       "    <tr>\n",
       "      <th>software engineer</th>\n",
       "      <td>59</td>\n",
       "      <td>2</td>\n",
       "      <td>28</td>\n",
       "      <td>15</td>\n",
       "      <td>18</td>\n",
       "      <td>25</td>\n",
       "      <td>41</td>\n",
       "      <td>5</td>\n",
       "      <td>12</td>\n",
       "      <td>0</td>\n",
       "      <td>...</td>\n",
       "      <td>0</td>\n",
       "      <td>0</td>\n",
       "      <td>1</td>\n",
       "      <td>7</td>\n",
       "      <td>30</td>\n",
       "      <td>1</td>\n",
       "      <td>1</td>\n",
       "      <td>1</td>\n",
       "      <td>7</td>\n",
       "      <td>3</td>\n",
       "    </tr>\n",
       "    <tr>\n",
       "      <th>All</th>\n",
       "      <td>831</td>\n",
       "      <td>27</td>\n",
       "      <td>265</td>\n",
       "      <td>173</td>\n",
       "      <td>248</td>\n",
       "      <td>196</td>\n",
       "      <td>536</td>\n",
       "      <td>104</td>\n",
       "      <td>461</td>\n",
       "      <td>70</td>\n",
       "      <td>...</td>\n",
       "      <td>230</td>\n",
       "      <td>55</td>\n",
       "      <td>60</td>\n",
       "      <td>132</td>\n",
       "      <td>569</td>\n",
       "      <td>321</td>\n",
       "      <td>94</td>\n",
       "      <td>158</td>\n",
       "      <td>128</td>\n",
       "      <td>80</td>\n",
       "    </tr>\n",
       "  </tbody>\n",
       "</table>\n",
       "<p>15 rows × 44 columns</p>\n",
       "</div>"
      ],
      "text/plain": [
       "                           is_ai  is_airflow  is_aws  is_azure  is_big_data  \\\n",
       "title_simplified                                                              \n",
       "admin                          3           0       0         0            2   \n",
       "analyst                       28           5       7        12            5   \n",
       "business analyst               9           0       2        12            4   \n",
       "business intelligence         22           5      20         9           19   \n",
       "data analyst                  24           0      11         8           15   \n",
       "data engineer                  7           3      17        13            9   \n",
       "data scientist               134           4      54        41           71   \n",
       "developer                     30           1      11         4            5   \n",
       "machine learning engineer     67           3      32        11           21   \n",
       "other                        379           4      71        39           71   \n",
       "research                      49           0       5         3            5   \n",
       "scientist                      7           0       1         0            1   \n",
       "software developer            13           0       6         6            2   \n",
       "software engineer             59           2      28        15           18   \n",
       "All                          831          27     265       173          248   \n",
       "\n",
       "                           is_c_plus_plus  is_cloud  is_com_vision  \\\n",
       "title_simplified                                                     \n",
       "admin                                   0         1              0   \n",
       "analyst                                 0        27              1   \n",
       "business analyst                        0        29              1   \n",
       "business intelligence                   2        33              0   \n",
       "data analyst                            1        28              3   \n",
       "data engineer                           5        31              0   \n",
       "data scientist                         24       108             27   \n",
       "developer                               6        19              1   \n",
       "machine learning engineer              40        37             24   \n",
       "other                                  67       166             28   \n",
       "research                               18        11             11   \n",
       "scientist                               5         0              2   \n",
       "software developer                      3         5              1   \n",
       "software engineer                      25        41              5   \n",
       "All                                   196       536            104   \n",
       "\n",
       "                           is_data_analytics  is_data_mining  ...  is_r  \\\n",
       "title_simplified                                              ...         \n",
       "admin                                      3               1  ...     0   \n",
       "analyst                                   71               8  ...    13   \n",
       "business analyst                          39               0  ...     2   \n",
       "business intelligence                     26               3  ...    10   \n",
       "data analyst                             104               9  ...    31   \n",
       "data engineer                              6               0  ...     8   \n",
       "data scientist                            98              32  ...   129   \n",
       "developer                                  4               0  ...     1   \n",
       "machine learning engineer                 17               9  ...     5   \n",
       "other                                     65               7  ...    21   \n",
       "research                                   7               1  ...     4   \n",
       "scientist                                  7               0  ...     6   \n",
       "software developer                         2               0  ...     0   \n",
       "software engineer                         12               0  ...     0   \n",
       "All                                      461              70  ...   230   \n",
       "\n",
       "                           is_sas  is_sklearn  is_spark  is_sql  is_stats  \\\n",
       "title_simplified                                                            \n",
       "admin                           0           0         0       5         0   \n",
       "analyst                        11           0         3      47        24   \n",
       "business analyst                1           0         1      20         6   \n",
       "business intelligence           3           0         9      47         5   \n",
       "data analyst                    7           2         5     106        38   \n",
       "data engineer                   3           0        13      34         4   \n",
       "data scientist                 14          27        55     169       139   \n",
       "developer                       2           0         0      20         2   \n",
       "machine learning engineer       0          20        23      24        33   \n",
       "other                          11           1        14      57        45   \n",
       "research                        1           3         1       3        15   \n",
       "scientist                       2           6         1       0         7   \n",
       "software developer              0           0         0       7         2   \n",
       "software engineer               0           1         7      30         1   \n",
       "All                            55          60       132     569       321   \n",
       "\n",
       "                           is_story  is_tableau  is_tensorflow  is_trading  \n",
       "title_simplified                                                            \n",
       "admin                             0           0              0           0  \n",
       "analyst                           9          17              0           9  \n",
       "business analyst                  8           4              0           8  \n",
       "business intelligence             4          16              0           6  \n",
       "data analyst                     14          50              0          10  \n",
       "data engineer                     1           4              0           0  \n",
       "data scientist                   28          44             36          12  \n",
       "developer                         0           2              1           3  \n",
       "machine learning engineer         3           3             54           3  \n",
       "other                            24          16             17          22  \n",
       "research                          2           0             11           3  \n",
       "scientist                         0           0              1           0  \n",
       "software developer                0           1              1           1  \n",
       "software engineer                 1           1              7           3  \n",
       "All                              94         158            128          80  \n",
       "\n",
       "[15 rows x 44 columns]"
      ]
     },
     "execution_count": 22,
     "metadata": {},
     "output_type": "execute_result"
    }
   ],
   "source": [
    "# Compute a Pivot table\n",
    "cols = [x for x in df_preprocessed.columns.tolist() if 'is_' in x]\n",
    "piv = df_preprocessed.pivot_table(values=cols, index='title_simplified', aggfunc=np.sum, margins=True)\n",
    "piv"
   ]
  },
  {
   "cell_type": "code",
   "execution_count": 23,
   "id": "c1e40185-ab91-4f59-9ee8-173d5ad2305e",
   "metadata": {},
   "outputs": [
    {
     "data": {
      "image/png": "[encoded data removed]",
      "text/plain": [
       "<Figure size 1080x720 with 1 Axes>"
      ]
     },
     "metadata": {
      "needs_background": "light"
     },
     "output_type": "display_data"
    }
   ],
   "source": [
    "plt.figure(figsize=(15,10))\n",
    "order = [x for _, x in sorted(zip(piv.loc['All'], piv.columns.tolist()), key=lambda z: z[0], reverse=True)]\n",
    "ax = sns.barplot(y=piv.columns.tolist(), x=piv.loc['All',:], order=order, palette='rocket');\n",
    "show_values_on_bars(ax, \"h\", 0.3)"
   ]
  },
  {
   "cell_type": "markdown",
   "id": "9acc818a-b6c2-4274-834f-3c9101ad2e6b",
   "metadata": {},
   "source": [
    "- Excel is mentioned the most (this will be because it's the most demanded skill in the `others` category and that category is dominant in this dataset)\n",
    "- `ai` is a buzzword so it shows up often.\n",
    "- `presenting` is a soft skill that many types of roles seem to require"
   ]
  },
  {
   "cell_type": "markdown",
   "id": "6512b57c-c477-4bd0-8b75-8984ee540947",
   "metadata": {},
   "source": [
    "I am interested in Data Scientist roles, so let's plot the same thing, for the data scientist jobs only"
   ]
  },
  {
   "cell_type": "code",
   "execution_count": 24,
   "id": "3ce40a8e-860a-4d51-954c-41220a233f31",
   "metadata": {},
   "outputs": [
    {
     "data": {
      "image/png": "[encoded data removed]",
      "text/plain": [
       "<Figure size 1080x720 with 1 Axes>"
      ]
     },
     "metadata": {
      "needs_background": "light"
     },
     "output_type": "display_data"
    }
   ],
   "source": [
    "# Compute a Pivot table for data scientist jobs only\n",
    "mask = df_preprocessed['title_simplified'] == 'data scientist'\n",
    "\n",
    "piv2 = df_preprocessed[mask].pivot_table(values=cols, index='title_simplified', aggfunc=np.sum, margins=True)\n",
    "\n",
    "plt.figure(figsize=(15,10))\n",
    "order = [x for _, x in sorted(zip(piv2.loc['All'], piv2.columns.tolist()), key=lambda z: z[0], reverse=True)]\n",
    "ax = sns.barplot(y=piv2.columns.tolist(), x=piv2.loc['All',:], order=order, palette='rocket');\n",
    "show_values_on_bars(ax, \"h\", 0.3)"
   ]
  },
  {
   "cell_type": "code",
   "execution_count": 25,
   "id": "bd478bf0-1545-4794-afc6-16047e96ad86",
   "metadata": {},
   "outputs": [
    {
     "data": {
      "image/png": "[encoded data removed]",
      "text/plain": [
       "<Figure size 1080x504 with 2 Axes>"
      ]
     },
     "metadata": {
      "needs_background": "light"
     },
     "output_type": "display_data"
    }
   ],
   "source": [
    "# Plot a heatmap to visually see the most popularly requested skills for each job title.\n",
    "plt.figure(figsize=(15,7))\n",
    "sns.heatmap(piv, square=True);"
   ]
  },
  {
   "cell_type": "code",
   "execution_count": 26,
   "id": "b176b6fb-315a-4c8c-aba7-5aa2adc0b61a",
   "metadata": {},
   "outputs": [
    {
     "data": {
      "image/png": "[encoded data removed]",
      "text/plain": [
       "<Figure size 1080x504 with 2 Axes>"
      ]
     },
     "metadata": {
      "needs_background": "light"
     },
     "output_type": "display_data"
    }
   ],
   "source": [
    "# Class imbalance seems to be throwing off the \n",
    "count_per_job = [len(df_preprocessed[df_preprocessed['title_simplified'] == x]) for x in list(piv.index)]\n",
    "piv_normalised = piv.div(count_per_job, axis='rows')\n",
    "\n",
    "# Plot a normalised heatmap to visually see the most popularly requested skills for each job title.\n",
    "plt.figure(figsize=(15,7))\n",
    "sns.heatmap(piv_normalised, square=True,  cmap='rocket', vmin=0, vmax=1);"
   ]
  },
  {
   "cell_type": "markdown",
   "id": "f9652303-e43a-4667-a0c1-2ba3eb4ecd2a",
   "metadata": {},
   "source": [
    "This is much easier to interpret.\n",
    "- Looks like almost all job types require excel experience in high proportions\n",
    "- Only data engineers require \"databricks\" experience with any frequency.\n",
    "- There is no real demand for: airflow, jupyter, \n",
    "\n",
    "Ways to further imrove this visualisation:\n",
    "- Could sort the column ordering according to the total number of job ads for each one."
   ]
  },
  {
   "cell_type": "code",
   "execution_count": 27,
   "id": "e95bcc03-54fd-40d0-ab59-8682efb7cb19",
   "metadata": {},
   "outputs": [
    {
     "data": {
      "text/plain": [
       "['title',\n",
       " 'id',\n",
       " 'company',\n",
       " 'url',\n",
       " 'location',\n",
       " 'summary',\n",
       " 'date',\n",
       " 'description',\n",
       " 'description_html',\n",
       " 'page_format',\n",
       " 'salary',\n",
       " 'query_title',\n",
       " 'query_loc',\n",
       " 'is_python',\n",
       " 'is_r',\n",
       " 'is_spark',\n",
       " 'is_java',\n",
       " 'is_javascript',\n",
       " 'is_hadoop',\n",
       " 'is_aws',\n",
       " 'is_gcp',\n",
       " 'is_azure',\n",
       " 'is_nosql',\n",
       " 'is_sql',\n",
       " 'is_mongodb',\n",
       " 'is_kubernetes',\n",
       " 'is_kafka',\n",
       " 'is_hive',\n",
       " 'is_nlp',\n",
       " 'is_tensorflow',\n",
       " 'is_keras',\n",
       " 'is_pytorch',\n",
       " 'is_sklearn',\n",
       " 'is_dl',\n",
       " 'is_etl',\n",
       " 'is_excel',\n",
       " 'is_ml',\n",
       " 'is_ai',\n",
       " 'is_stats',\n",
       " 'is_data_mining',\n",
       " 'is_data_analytics',\n",
       " 'is_big_data',\n",
       " 'is_com_vision',\n",
       " 'is_c_plus_plus',\n",
       " 'is_sas',\n",
       " 'is_matlab',\n",
       " 'is_tableau',\n",
       " 'is_power_bi',\n",
       " 'is_predictive',\n",
       " 'is_story',\n",
       " 'is_presenting',\n",
       " 'is_trading',\n",
       " 'is_jupyter',\n",
       " 'is_airflow',\n",
       " 'is_databricks',\n",
       " 'is_cloud',\n",
       " 'is_devops',\n",
       " 'title_simplified']"
      ]
     },
     "execution_count": 27,
     "metadata": {},
     "output_type": "execute_result"
    }
   ],
   "source": [
    "df_preprocessed.columns.tolist()"
   ]
  },
  {
   "cell_type": "code",
   "execution_count": 28,
   "id": "0494f412-0c69-40e9-b5e0-9dd4601c25d0",
   "metadata": {},
   "outputs": [
    {
     "data": {
      "text/plain": [
       "['applied scientist recruiting engine',\n",
       " 'applied scientist (remote)',\n",
       " 'senior applied scientist',\n",
       " 'senior applied scientist (remote)',\n",
       " 'applied scientist (remote)',\n",
       " 'applied scientist',\n",
       " 'senior applied scientist - video advertising',\n",
       " 'senior applied scientist (remote)',\n",
       " 'applied scientist (remote)',\n",
       " 'applied scientist - threat reduction',\n",
       " 'senior algorithm engineer; scientist; physics, mat',\n",
       " 'application scientist',\n",
       " 'visiting scientist, ai',\n",
       " 'associate imaging scientist',\n",
       " 'membrane protein scientist',\n",
       " 'scientists, engineers technologists and leaders for cyber an...',\n",
       " 'ai scientist - computer vision',\n",
       " 'ai scientist - natural language processing']"
      ]
     },
     "execution_count": 28,
     "metadata": {},
     "output_type": "execute_result"
    }
   ],
   "source": [
    "df_preprocessed[df_preprocessed.title_simplified == 'scientist'].title.tolist()"
   ]
  },
  {
   "cell_type": "markdown",
   "id": "44f637b9-6377-49f7-a166-59672fbeb8a3",
   "metadata": {},
   "source": [
    "# Build a basic classification model"
   ]
  },
  {
   "cell_type": "markdown",
   "id": "3d51a702-3a42-4c7a-a059-4ef5fae3d5d2",
   "metadata": {},
   "source": [
    "## Reload the data fresh and run preprocessor"
   ]
  },
  {
   "cell_type": "code",
   "execution_count": 105,
   "id": "1c4df814-4aa3-49c7-af0f-5fd557d4f439",
   "metadata": {
    "scrolled": true,
    "tags": []
   },
   "outputs": [
    {
     "name": "stdout",
     "output_type": "stream",
     "text": [
      "Data read from .csv\n",
      ">> (2991 rows, 13 columns)\n",
      "\n",
      "Preprocessing complete\n",
      ">> (2422 rows, 13 columns)\n",
      "\n"
     ]
    },
    {
     "name": "stderr",
     "output_type": "stream",
     "text": [
      "C:\\Users\\adin7\\.conda\\envs\\jobs-analysis\\lib\\site-packages\\pandas\\core\\indexing.py:1676: SettingWithCopyWarning: \n",
      "A value is trying to be set on a copy of a slice from a DataFrame.\n",
      "Try using .loc[row_indexer,col_indexer] = value instead\n",
      "\n",
      "See the caveats in the documentation: https://pandas.pydata.org/pandas-docs/stable/user_guide/indexing.html#returning-a-view-versus-a-copy\n",
      "  self._setitem_single_column(ilocs[0], value, pi)\n"
     ]
    },
    {
     "name": "stdout",
     "output_type": "stream",
     "text": [
      "Skills extracted as feature columns\n",
      ">> (2422 rows, 57 columns)\n",
      "\n",
      "Count of unmatched: 656\n",
      "Cound of matched:   1766 \n",
      "Target variable added\n",
      ">> (18 unique job titles)\n"
     ]
    }
   ],
   "source": [
    "df = pd.read_csv(f_name, index_col=0)\n",
    "print(f'Data read from .csv\\n>> ({len(df)} rows, {len(df.columns)} columns)\\n')\n",
    "\n",
    "df = pre_processing_basic(df)\n",
    "print(f'Preprocessing complete\\n>> ({len(df)} rows, {len(df.columns)} columns)\\n')\n",
    "\n",
    "df = add_all_skills(df, verbose=False)\n",
    "print(f'Skills extracted as feature columns\\n>> ({len(df)} rows, {len(df.columns)} columns)\\n')\n",
    "\n",
    "df = add_target_variable(df)\n",
    "print(f'Target variable added\\n>> ({len(df.title_simplified.unique())} unique job titles)')"
   ]
  },
  {
   "cell_type": "markdown",
   "id": "a5109d98-bcd9-4d96-a548-da4d9e770a89",
   "metadata": {},
   "source": [
    "## Set up training and testing data"
   ]
  },
  {
   "cell_type": "code",
   "execution_count": 106,
   "id": "7cc6e4a5-8761-4e00-9072-9a8e89a48663",
   "metadata": {},
   "outputs": [
    {
     "name": "stdout",
     "output_type": "stream",
     "text": [
      "Dropped rows outside of selection\n",
      ">> (946 rows, 58 columns remaining)\n"
     ]
    }
   ],
   "source": [
    "# Drop everything but Data Analyst, Data Scientist, Data Engineer, Business Analyst\n",
    "df = df.drop(df[~df.title_simplified.isin(['data scientist', \n",
    "                                           'data analyst', \n",
    "                                           'data engineer', \n",
    "                                           'business analyst'])].index)\n",
    "print(f'Dropped rows outside of selection\\n>> ({len(df)} rows, {len(df.columns)} columns remaining)')"
   ]
  },
  {
   "cell_type": "code",
   "execution_count": 118,
   "id": "1d8db662-5df1-4a8d-be10-86765bb21e85",
   "metadata": {},
   "outputs": [],
   "source": [
    "from sklearn.model_selection import train_test_split\n",
    "\n",
    "# Assign X, y\n",
    "y = df.title_simplified\n",
    "X = df[['is_python', 'is_r', 'is_spark', 'is_java',\n",
    "       'is_javascript', 'is_hadoop', 'is_aws', 'is_gcp', 'is_azure',\n",
    "       'is_nosql', 'is_sql', 'is_mongodb', 'is_kubernetes', 'is_kafka',\n",
    "       'is_hive', 'is_nlp', 'is_tensorflow', 'is_keras', 'is_pytorch',\n",
    "       'is_sklearn', 'is_dl', 'is_etl', 'is_excel', 'is_ml', 'is_ai',\n",
    "       'is_stats', 'is_data_mining', 'is_data_analytics', 'is_big_data',\n",
    "       'is_com_vision', 'is_c_plus_plus', 'is_sas', 'is_matlab', 'is_tableau',\n",
    "       'is_power_bi', 'is_predictive', 'is_story', 'is_presenting',\n",
    "       'is_trading', 'is_jupyter', 'is_airflow', 'is_databricks', 'is_cloud',\n",
    "       'is_devops']]\n",
    "\n",
    "# train_test_split\n",
    "X_train, X_test, y_train, y_test = train_test_split(X, y, test_size=0.2, random_state=42)"
   ]
  },
  {
   "cell_type": "code",
   "execution_count": 108,
   "id": "c3df6662-626c-4b33-a8fb-6f6a5b62a667",
   "metadata": {},
   "outputs": [],
   "source": [
    "from sklearn.model_selection import train_test_split, cross_val_score\n",
    "from sklearn.preprocessing import StandardScaler, OrdinalEncoder, OneHotEncoder, LabelEncoder\n",
    "from sklearn.impute import SimpleImputer\n",
    "from sklearn.metrics import accuracy_score, plot_confusion_matrix, f1_score \n",
    "from sklearn.metrics import plot_roc_curve, roc_auc_score, precision_score, recall_score\n",
    "from sklearn.metrics import precision_recall_fscore_support, plot_precision_recall_curve\n",
    "from sklearn.model_selection import GridSearchCV, RandomizedSearchCV\n",
    "from sklearn.inspection import permutation_importance\n",
    "\n",
    "from sklearn.pipeline import Pipeline\n",
    "from sklearn.compose import ColumnTransformer\n",
    "from sklearn.svm import SVC\n",
    "from sklearn.linear_model import SGDClassifier\n",
    "from sklearn.linear_model import LogisticRegression\n",
    "from sklearn.tree import DecisionTreeClassifier\n",
    "from sklearn.ensemble import RandomForestClassifier\n",
    "from sklearn.dummy import DummyClassifier"
   ]
  },
  {
   "cell_type": "markdown",
   "id": "9a426e40-785d-428c-aa60-206cac6c6422",
   "metadata": {},
   "source": [
    "# Train a dummy classifier"
   ]
  },
  {
   "cell_type": "code",
   "execution_count": 109,
   "id": "07102de2-26ef-434a-9696-6f7c6a1d51f6",
   "metadata": {},
   "outputs": [
    {
     "name": "stdout",
     "output_type": "stream",
     "text": [
      "Dummy/null accuracy: 0.324\n"
     ]
    }
   ],
   "source": [
    "# Train a dummy classifier\n",
    "dummy_clf = DummyClassifier(strategy='most_frequent')\n",
    "dummy_clf.fit(X_train, y_train)\n",
    "\n",
    "y_pred = dummy_clf.predict(X_train)\n",
    "dummy_score = accuracy_score(y_train,y_pred)\n",
    "print(f'Dummy/null accuracy: {dummy_score:.3f}')"
   ]
  },
  {
   "cell_type": "code",
   "execution_count": 131,
   "id": "92d8465d-3b9c-4dbd-96be-f23c89e3aebb",
   "metadata": {},
   "outputs": [
    {
     "data": {
      "image/png": "[encoded data removed]",
      "text/plain": [
       "<Figure size 432x288 with 2 Axes>"
      ]
     },
     "metadata": {
      "needs_background": "light"
     },
     "output_type": "display_data"
    }
   ],
   "source": [
    "plot_confusion_matrix(dummy_clf, X_test, y_test, values_format='d', xticks_rotation='vertical');"
   ]
  },
  {
   "cell_type": "markdown",
   "id": "347f5760-873b-4a0b-b382-550063e71155",
   "metadata": {},
   "source": [
    "Dummy classifier always predicted \"data scientist\" (must be most frequent label in this dataset)."
   ]
  },
  {
   "cell_type": "code",
   "execution_count": 119,
   "id": "9a76c170-dcd3-46d0-90de-2e0cfcfae102",
   "metadata": {},
   "outputs": [
    {
     "data": {
      "text/plain": [
       "data scientist      245\n",
       "business analyst    237\n",
       "data analyst        231\n",
       "data engineer        43\n",
       "Name: title_simplified, dtype: int64"
      ]
     },
     "execution_count": 119,
     "metadata": {},
     "output_type": "execute_result"
    }
   ],
   "source": [
    "y_train.value_counts()"
   ]
  },
  {
   "cell_type": "markdown",
   "id": "8a18d641-985f-4386-b0a4-e6b72b1966a3",
   "metadata": {},
   "source": [
    "**data engineer** is underrepresented in this data.  We don't want the model to just learn the distributions, but to actually discern relationships between the individual labels."
   ]
  },
  {
   "cell_type": "code",
   "execution_count": 86,
   "id": "82986013-af3b-44a5-b8fb-98cd703731a3",
   "metadata": {},
   "outputs": [],
   "source": [
    "# from sklearn.utils import resample\n",
    "# X, y = resample(X, y, random_state=0)"
   ]
  },
  {
   "cell_type": "markdown",
   "id": "89d67f27-962f-4f10-b1dd-fee939c308ed",
   "metadata": {},
   "source": [
    "Oversampling using SMOTE from imbalanced-learn package\n",
    "\n",
    "Followed along with: https://machinelearningmastery.com/smote-oversampling-for-imbalanced-classification/"
   ]
  },
  {
   "cell_type": "code",
   "execution_count": 120,
   "id": "f697fe45-6979-42c6-8aab-2f3f29a65100",
   "metadata": {},
   "outputs": [
    {
     "data": {
      "text/plain": [
       "data analyst        245\n",
       "data engineer       245\n",
       "business analyst    245\n",
       "data scientist      245\n",
       "Name: title_simplified, dtype: int64"
      ]
     },
     "execution_count": 120,
     "metadata": {},
     "output_type": "execute_result"
    }
   ],
   "source": [
    "# Oversampling using SMOTE\n",
    "import imblearn\n",
    "from imblearn.over_sampling import SMOTE\n",
    "oversample = SMOTE()\n",
    "\n",
    "X_train, y_train = oversample.fit_resample(X_train, y_train)\n",
    "y_train.value_counts()"
   ]
  },
  {
   "cell_type": "markdown",
   "id": "843665c8-4c8f-454c-9263-6026433599d2",
   "metadata": {},
   "source": [
    "## Naive Bayes classifier from sklearn"
   ]
  },
  {
   "cell_type": "code",
   "execution_count": null,
   "id": "5a053048-42cd-4d15-9485-ca5000340ee6",
   "metadata": {},
   "outputs": [],
   "source": [
    "# Define a model pipeline\n",
    "# num_features = ['Fare']\n",
    "# num_transformer = Pipeline([('imputer', SimpleImputer(strategy='median')),\n",
    "#                             ('scaler', StandardScaler())])\n",
    " \n",
    "# cat_features = ['Title','Deck','Sex']\n",
    "# cat_transformer = OneHotEncoder(sparse=False,handle_unknown='ignore')\n",
    " \n",
    "# preprocessor = ColumnTransformer([('cats', cat_transformer, cat_features),\n",
    "#                                   ('nums', num_transformer, num_features)],\n",
    "#                                  remainder='drop')\n",
    " \n",
    "# logreg = Pipeline([('preprocessor', preprocessor),\n",
    "#                        ('logreg', LogisticRegression(max_iter=1000))])"
   ]
  },
  {
   "cell_type": "code",
   "execution_count": 123,
   "id": "9336f2ba-db94-4746-9c44-ae54c5d1e012",
   "metadata": {},
   "outputs": [],
   "source": [
    "from sklearn.naive_bayes import MultinomialNB\n",
    "\n",
    "clf_nb = MultinomialNB()"
   ]
  },
  {
   "cell_type": "code",
   "execution_count": 124,
   "id": "2fa227cb-2e7d-4d7b-bfee-1f81b2d94b58",
   "metadata": {},
   "outputs": [
    {
     "data": {
      "text/plain": [
       "MultinomialNB()"
      ]
     },
     "execution_count": 124,
     "metadata": {},
     "output_type": "execute_result"
    }
   ],
   "source": [
    "clf_nb.fit(X_train, y_train)"
   ]
  },
  {
   "cell_type": "code",
   "execution_count": 141,
   "id": "f69ac96f-7d8c-492c-b2dc-164add521b6e",
   "metadata": {},
   "outputs": [
    {
     "data": {
      "text/plain": [
       "0.6"
      ]
     },
     "execution_count": 141,
     "metadata": {},
     "output_type": "execute_result"
    }
   ],
   "source": [
    "accuracy_score(y_test, clf_nb.predict(X_test))"
   ]
  },
  {
   "cell_type": "code",
   "execution_count": 133,
   "id": "6c8cbd24-1eb9-4e55-8195-9f4e7ecf03bf",
   "metadata": {},
   "outputs": [
    {
     "data": {
      "text/plain": [
       "<sklearn.metrics._plot.confusion_matrix.ConfusionMatrixDisplay at 0x288c9cfb0a0>"
      ]
     },
     "execution_count": 133,
     "metadata": {},
     "output_type": "execute_result"
    },
    {
     "data": {
      "image/png": "[encoded data removed]",
      "text/plain": [
       "<Figure size 432x288 with 2 Axes>"
      ]
     },
     "metadata": {
      "needs_background": "light"
     },
     "output_type": "display_data"
    }
   ],
   "source": [
    "plot_confusion_matrix(clf_nb, X_test, y_test, values_format='d', xticks_rotation='vertical')"
   ]
  },
  {
   "cell_type": "markdown",
   "id": "d8f265d5-9793-4cec-ab88-8ff432898455",
   "metadata": {},
   "source": [
    "So on first pass, the naive bayes was able to achieve 60% accuracy. Not terrible!\n",
    "- Seems to have issue distinguishing between **data analyst** and **business analyst** probably not surprising\n",
    "- data analysts frequently mis-labelled as business analysts\n",
    "- data scientists classified reasonably well.  Often mis-classified as data analyst\n",
    "- data engineers classified quite accurately, but strongly influenced by 1 error, not much data in this test set\n",
    "- business analysts were often classified accurately."
   ]
  },
  {
   "cell_type": "markdown",
   "id": "7540318f-8773-451e-8e6c-2b0fdf3291f6",
   "metadata": {},
   "source": [
    "# Try a decision tree"
   ]
  },
  {
   "cell_type": "code",
   "execution_count": 143,
   "id": "420e8e8e-1a20-4301-95a5-ccef4bde5eed",
   "metadata": {},
   "outputs": [
    {
     "data": {
      "text/plain": [
       "DecisionTreeClassifier(max_depth=3)"
      ]
     },
     "execution_count": 143,
     "metadata": {},
     "output_type": "execute_result"
    }
   ],
   "source": [
    "clf_tree = DecisionTreeClassifier(max_depth=3)\n",
    "clf_tree.fit(X_train, y_train)"
   ]
  },
  {
   "cell_type": "code",
   "execution_count": 144,
   "id": "61c55a78-c37c-4ecc-a925-3d7dd06f6f77",
   "metadata": {},
   "outputs": [
    {
     "data": {
      "text/plain": [
       "0.5526315789473685"
      ]
     },
     "execution_count": 144,
     "metadata": {},
     "output_type": "execute_result"
    }
   ],
   "source": [
    "accuracy_score(y_test, clf_tree.predict(X_test))"
   ]
  },
  {
   "cell_type": "code",
   "execution_count": 145,
   "id": "b84164ac-d982-40c3-9e61-4a93db571a77",
   "metadata": {},
   "outputs": [
    {
     "data": {
      "text/plain": [
       "<sklearn.metrics._plot.confusion_matrix.ConfusionMatrixDisplay at 0x288c9e6cc10>"
      ]
     },
     "execution_count": 145,
     "metadata": {},
     "output_type": "execute_result"
    },
    {
     "data": {
      "image/png": "[encoded data removed]",
      "text/plain": [
       "<Figure size 432x288 with 2 Axes>"
      ]
     },
     "metadata": {
      "needs_background": "light"
     },
     "output_type": "display_data"
    }
   ],
   "source": [
    "plot_confusion_matrix(clf_tree, X_test, y_test, values_format='d', xticks_rotation='vertical')"
   ]
  },
  {
   "cell_type": "markdown",
   "id": "fb56b74f-49af-4bae-98b8-b1bfd6f4e9a7",
   "metadata": {},
   "source": [
    "Decision tree making errors on data engineers, data analystsm but OK on other classes"
   ]
  },
  {
   "cell_type": "code",
   "execution_count": 146,
   "id": "b62cf8a3-66bc-4949-86d4-0f81a61cd9d9",
   "metadata": {},
   "outputs": [
    {
     "data": {
      "text/plain": [
       "[Text(167.4, 190.26, 'X[21] <= 0.5\\ngini = 0.75\\nsamples = 980\\nvalue = [245, 245, 245, 245]'),\n",
       " Text(83.7, 135.9, 'X[0] <= 0.5\\ngini = 0.726\\nsamples = 801\\nvalue = [243, 230, 92, 236]'),\n",
       " Text(41.85, 81.53999999999999, 'X[10] <= 0.5\\ngini = 0.612\\nsamples = 494\\nvalue = [240, 184, 16, 54]'),\n",
       " Text(20.925, 27.180000000000007, 'gini = 0.572\\nsamples = 412\\nvalue = [228, 136, 2, 46]'),\n",
       " Text(62.775000000000006, 27.180000000000007, 'gini = 0.597\\nsamples = 82\\nvalue = [12, 48, 14, 8]'),\n",
       " Text(125.55000000000001, 81.53999999999999, 'X[25] <= 0.5\\ngini = 0.565\\nsamples = 307\\nvalue = [3, 46, 76, 182]'),\n",
       " Text(104.625, 27.180000000000007, 'gini = 0.628\\nsamples = 198\\nvalue = [3, 32, 70, 93]'),\n",
       " Text(146.475, 27.180000000000007, 'gini = 0.314\\nsamples = 109\\nvalue = [0, 14, 6, 89]'),\n",
       " Text(251.10000000000002, 135.9, 'X[42] <= 0.5\\ngini = 0.26\\nsamples = 179\\nvalue = [2, 15, 153, 9]'),\n",
       " Text(209.25, 81.53999999999999, 'X[35] <= 0.5\\ngini = 0.63\\nsamples = 42\\nvalue = [2, 10, 22, 8]'),\n",
       " Text(188.32500000000002, 27.180000000000007, 'gini = 0.582\\nsamples = 38\\nvalue = [2, 10, 22, 4]'),\n",
       " Text(230.175, 27.180000000000007, 'gini = 0.0\\nsamples = 4\\nvalue = [0, 0, 0, 4]'),\n",
       " Text(292.95, 81.53999999999999, 'X[4] <= 0.5\\ngini = 0.084\\nsamples = 137\\nvalue = [0, 5, 131, 1]'),\n",
       " Text(272.02500000000003, 27.180000000000007, 'gini = 0.058\\nsamples = 135\\nvalue = [0, 3, 131, 1]'),\n",
       " Text(313.875, 27.180000000000007, 'gini = 0.0\\nsamples = 2\\nvalue = [0, 2, 0, 0]')]"
      ]
     },
     "execution_count": 146,
     "metadata": {},
     "output_type": "execute_result"
    },
    {
     "data": {
      "image/png": "[encoded data removed]",
      "text/plain": [
       "<Figure size 432x288 with 1 Axes>"
      ]
     },
     "metadata": {
      "needs_background": "light"
     },
     "output_type": "display_data"
    }
   ],
   "source": [
    "from sklearn.tree import plot_tree\n",
    "\n",
    "plot_tree(clf_tree)"
   ]
  },
  {
   "cell_type": "markdown",
   "id": "1af236f9-3e5c-42d0-a377-6570c341dab9",
   "metadata": {},
   "source": [
    "# Use NLTK to build a more automated NLP based pipeline"
   ]
  },
  {
   "cell_type": "markdown",
   "id": "5655b695-2717-4cf2-98aa-57327d5bf86c",
   "metadata": {},
   "source": [
    "## Remove stopwords\n",
    "First check the most frequent words using nltk.probability.FreqDist"
   ]
  },
  {
   "cell_type": "code",
   "execution_count": null,
   "id": "50b3636f-51a1-4324-a79f-e046833ae45b",
   "metadata": {},
   "outputs": [],
   "source": [
    "from nltk.probability import FreqDist\n",
    "\n",
    "text = df.description.iloc[0]\n",
    "text = nltk.word_tokenize(text)\n",
    "fdist = FreqDist(text)\n",
    "print([x[0] for x in fdist.most_common(20)])"
   ]
  },
  {
   "cell_type": "markdown",
   "id": "afff1e2f-8dc4-430c-9025-36be0060f082",
   "metadata": {},
   "source": [
    "Lots of useless words in that list.  Lets remove all the standard English Stopwords"
   ]
  },
  {
   "cell_type": "code",
   "execution_count": null,
   "id": "a1a90988-ec84-4615-ae44-a7793aed71bd",
   "metadata": {},
   "outputs": [],
   "source": [
    "# Remove all occurrances of English stopwords\n",
    "from nltk.corpus import stopwords\n",
    "stop_words=set(stopwords.words(\"english\"))\n",
    "\n",
    "# Iterate through the list of descriptions\n",
    "text = [x for x in text if x not in stop_words]\n",
    "fdist = FreqDist(text)\n",
    "print([x[0] for x in fdist.most_common(20)])"
   ]
  },
  {
   "cell_type": "markdown",
   "id": "3ccccccb-abe4-4e8f-a0a0-f792372c9d52",
   "metadata": {},
   "source": [
    "This looks like it still includes punctuation, remove these entries to get a clearer picture of the top words in the dataset"
   ]
  },
  {
   "cell_type": "markdown",
   "id": "6a31b22a-db28-44a3-a772-0e268add507d",
   "metadata": {},
   "source": [
    "## Remove punctuation\n",
    "Remove stopwords and punctuation together"
   ]
  },
  {
   "cell_type": "code",
   "execution_count": null,
   "id": "c6b754b2-9352-4212-a5e9-58e36338425d",
   "metadata": {},
   "outputs": [],
   "source": [
    "text = [x for x in text if (x not in stop_words) & (x.isalpha())]\n",
    "fdist = FreqDist(text)\n",
    "print([x[0] for x in fdist.most_common(20)])"
   ]
  },
  {
   "cell_type": "code",
   "execution_count": null,
   "id": "cfa1ff8d-2a12-4183-9273-9a19c469e25b",
   "metadata": {
    "tags": []
   },
   "outputs": [],
   "source": [
    "def pre_processing_nltk(document):\n",
    "    '''Pre process a single job description using nltk'''\n",
    "    \n",
    "    # Split into paragraphs using \\n\n",
    "    paragraphs = document.split('\\n')\n",
    "    \n",
    "    # Tokenise each para into sentences, giving a list of sentences\n",
    "    sentences = []\n",
    "    for para in paragraphs:\n",
    "        sentences.extend(nltk.sent_tokenize(para))   # Using Extend instead of Append\n",
    "        \n",
    "    # Tokenize each sentence to get a list of lists of words\n",
    "    sentences = [nltk.word_tokenize(sent) for sent in sentences]\n",
    "    \n",
    "    # Remove stopwords and punctuation\n",
    "    stop_words = set(stopwords.words(\"english\"))\n",
    "    sentences_filt = []\n",
    "    for sent in sentences:\n",
    "        sent = [w for w in sent if (w not in stop_words) & (w.isalpha())]\n",
    "        sentences_filt.append(sent)\n",
    "        \n",
    "    return sentences_filt\n",
    "    \n",
    "# Test that the tokenization result on a one-off job\n",
    "document = df.description.iloc[1]\n",
    "print(f'BEFORE:\"{document[:350]}...\"\\n')\n",
    "sentences = pre_processing_nltk(document)\n",
    "print(f'AFTER: {sentences[0:2]}...')"
   ]
  },
  {
   "cell_type": "code",
   "execution_count": null,
   "id": "f5711e45-5d00-4555-9183-a2fe2771531e",
   "metadata": {},
   "outputs": [],
   "source": [
    "# Remove stopwords and punctuation\n",
    "def remove_stopwords(sentences):\n",
    "    # load stopwords and\n",
    "    stop_words = set(stopwords.words(\"english\"))\n",
    "    sentences_filt = []\n",
    "    for sent in sentences:\n",
    "        sent = [w for w in sent if (w not in stop_words) & (w.isalpha())]\n",
    "        sentences_filt.append(sent)\n",
    "    return sentences_filt\n",
    "            \n",
    "# Test the function works a expected\n",
    "print(f'BEFORE: {sentences[0]}...\\n')\n",
    "sentences_filt = remove_stopwords(sentences)\n",
    "print(f'AFTER:  {sentences_filt[0]}...')"
   ]
  },
  {
   "cell_type": "markdown",
   "id": "f89971cf-fed2-4adc-8798-b7af798cc998",
   "metadata": {},
   "source": [
    "## Apply preprocessing to full df of jobs\n",
    "Will need to iterate through each row in the df, applying the tokeniser"
   ]
  },
  {
   "cell_type": "code",
   "execution_count": null,
   "id": "fb74345a-82c6-4e8b-9e5b-23d1e9e8969c",
   "metadata": {
    "scrolled": true,
    "tags": []
   },
   "outputs": [],
   "source": [
    "# Iterate through all jobs\n",
    "def pre_process(df, verbose=False):\n",
    "    for index, row in df.iterrows():\n",
    "        document = row.description\n",
    "        doc_s = document.replace('\\n',' ')\n",
    "        if verbose: print(f'BEFORE:   \"{doc_s[:50]}...\"')\n",
    "\n",
    "        sentences = tokenize(document)\n",
    "        if verbose: print(f'TOKENs:   {sentences[0][:7]}...')\n",
    "\n",
    "        sentences_filt = remove_stopwords(sentences)\n",
    "        if verbose: print(f'STOPWRDS: {sentences_filt[0][:7]}...')\n",
    "\n",
    "        if verbose: print(f'Number of sentences: {len(sentences_filt)}\\n')\n",
    "    return sentences_filt\n",
    "\n",
    "sentences_filt = pre_process(df, verbose=True)"
   ]
  },
  {
   "cell_type": "code",
   "execution_count": null,
   "id": "31151771-63b4-4306-91ab-b13ff83523e0",
   "metadata": {},
   "outputs": [],
   "source": [
    "df2 = pre_processing_basic(df)\n",
    "\n",
    "for index, row in df2.iterrows():\n",
    "    this_sentences = tokenize(document)\n",
    "    this_sentences = remove_stopwords(sentences)\n",
    "    \n"
   ]
  },
  {
   "cell_type": "markdown",
   "id": "f153432f-99b9-46e1-aa59-3a8846863d14",
   "metadata": {},
   "source": [
    "# Data exploration\n",
    "\n",
    "Try a few things\n",
    "- Wordcloud\n",
    "- nltk freqdistoud"
   ]
  },
  {
   "cell_type": "markdown",
   "id": "be47e9c4-eb05-41ca-890d-eff509c90faa",
   "metadata": {},
   "source": [
    "## Wordcloud\n",
    "Create a wordcloud for all job description text."
   ]
  },
  {
   "cell_type": "code",
   "execution_count": null,
   "id": "1d5fb1b9-837b-49ec-a7b8-f5a4c5f03a7e",
   "metadata": {},
   "outputs": [],
   "source": [
    "# Read the whole text.\n",
    "text = ' '.join(df['description'].tolist())\n",
    "\n",
    "# Generate a word cloud image\n",
    "wordcloud = WordCloud(max_font_size=100, width=800, height=800).generate(text)\n",
    "WordCloud()\n",
    "plt.figure(figsize=[10,10])\n",
    "plt.imshow(wordcloud, interpolation=\"bilinear\")\n",
    "plt.axis(\"off\")\n",
    "plt.show()"
   ]
  },
  {
   "cell_type": "markdown",
   "id": "d9475ccd-a1c2-4416-be41-1aa8f878bc44",
   "metadata": {},
   "source": [
    "Create a wordcloud for all jobtitle text only\n",
    "\n",
    "Analyst, "
   ]
  },
  {
   "cell_type": "code",
   "execution_count": null,
   "id": "5b0fe6d6-bcb0-43a2-8ac9-ef50b0922c79",
   "metadata": {},
   "outputs": [],
   "source": [
    "# Read the job title only]\n",
    "text = ' '.join(df['title'].tolist())\n",
    "\n",
    "# Generate a word cloud image\n",
    "wordcloud = WordCloud().generate(text)\n",
    "\n",
    "# Display the generated image:\n",
    "# the matplotlib way:\n",
    "wordcloud = WordCloud(max_font_size=100, width=800, height=800).generate(text)\n",
    "plt.figure(figsize=[10,10])\n",
    "plt.imshow(wordcloud, interpolation=\"bilinear\")\n",
    "plt.axis('off')\n",
    "plt.show()\n"
   ]
  },
  {
   "cell_type": "markdown",
   "id": "1fdd40ed-7dfd-4842-a6b6-44871eb3fd82",
   "metadata": {
    "tags": []
   },
   "source": [
    "# Feature Engineering"
   ]
  },
  {
   "cell_type": "markdown",
   "id": "f437cc66-4b64-464f-b8f4-2b361a1f14e0",
   "metadata": {},
   "source": [
    "Added many boolean features to indicate presence of some manual keywords in the data. "
   ]
  },
  {
   "cell_type": "code",
   "execution_count": null,
   "id": "27e9650d-75dc-4732-9dc8-4c5cdd61de27",
   "metadata": {},
   "outputs": [],
   "source": [
    "df.columns"
   ]
  },
  {
   "cell_type": "markdown",
   "id": "3405dcee-5ea4-425c-a4d2-feda7a73dc1e",
   "metadata": {},
   "source": [
    "# Using NLP to auto extract text-based features\n",
    "I will now try to use NLTK's functions to extract more automatic text based features\n",
    "\n",
    "For each job description\n",
    "- Function-ise some data cleaning code\n",
    "  - Make sure stop words are removed\n",
    "  - Lower case\n",
    "  - Remove punctuation\n",
    "- Tokenise the sentences\n",
    "- Tokenise the words in each sentence\n",
    "- Lemmatise the words\n",
    "- For each sentence, construct bigrams and trigrams\n",
    "- Filter down to the X most frequent occurrances, for each job title. (Job titles to classify should just be the ones in the `query_title` column\n",
    "- Combine these with the manual keyword columns, and assemble into a feature vector\n",
    "- Finish by expressing this as an Sklearn pipeline"
   ]
  },
  {
   "cell_type": "markdown",
   "id": "0e9c94d4-d842-4d28-8c93-c246a26c4b93",
   "metadata": {
    "tags": []
   },
   "source": [
    "## Information extraction\n",
    "The objective here should be to try to extract info on skills.  So we can build a classifier that looks at the advert description text, and based on the list of skills identified"
   ]
  },
  {
   "cell_type": "markdown",
   "id": "8b2506ef-2b82-4d14-8f2f-52c31b522e3f",
   "metadata": {
    "tags": []
   },
   "source": [
    "## Tokenisation"
   ]
  },
  {
   "cell_type": "code",
   "execution_count": null,
   "id": "7a5a03c6-1d7a-492d-a203-dcaca04b3f30",
   "metadata": {
    "tags": []
   },
   "outputs": [],
   "source": [
    "def ie_preprocess(document):\n",
    "    # Use list comprehension to \n",
    "#     sentences = [p for p in text.split('\\n') if p]\n",
    "    paras = []\n",
    "    for para in document.split('\\n'):\n",
    "        paras.extend(nltk.sent_tokenize(para))\n",
    "#         paras.append(para)\n",
    "    sentences = paras    \n",
    "    sentences = [nltk.word_tokenize(sent) for sent in sentences]\n",
    "#     sentences = [nltk.pos_tag(sent) for sent in sentences]\n",
    "    return sentences\n",
    "    \n",
    "# Start from scratch\n",
    "text = df.description.iloc[0]\n",
    "\n",
    "a = ie_preprocess(text)\n",
    "# pp = pprint.PrettyPrinter()\n",
    "# pp.pprint(a)\n",
    "a\n"
   ]
  },
  {
   "cell_type": "code",
   "execution_count": null,
   "id": "28f9b6b2-88b2-405a-bbfa-177c9b1540d3",
   "metadata": {
    "tags": []
   },
   "outputs": [],
   "source": [
    "grammar = \"NP: {<DT>?<JJ>*<NN>}\"\n",
    "\n",
    "cp = nltk.RegexpParser(grammar)\n",
    "result = cp.parse(a)"
   ]
  },
  {
   "cell_type": "markdown",
   "id": "03897d5c-8dd7-4e58-b333-f56c24288395",
   "metadata": {},
   "source": [
    "# Create a custom SKlearn transformer based on NLTL"
   ]
  },
  {
   "cell_type": "markdown",
   "id": "16f6cf6c-12e5-4712-93ef-e858de2b8a55",
   "metadata": {},
   "source": [
    "https://bbengfort.github.io/2016/05/text-classification-nltk-sckit-learn/ used as inspiration for the NLTK transformer structure to interface with sklearn pipelines"
   ]
  },
  {
   "cell_type": "code",
   "execution_count": null,
   "id": "08ad3af2-b42b-4cd8-941a-9ce599d7eb92",
   "metadata": {},
   "outputs": [],
   "source": [
    "import time\n",
    "\n",
    "def timeit(func):\n",
    "    \"\"\"\n",
    "    Simple timing decorator\n",
    "    \"\"\"\n",
    "    def wrapper(*args, **kwargs):\n",
    "        start  = time.time()\n",
    "        result = func(*args, **kwargs)\n",
    "        delta  = time.time() - start\n",
    "        return result, delta\n",
    "    return wrapper"
   ]
  },
  {
   "cell_type": "code",
   "execution_count": null,
   "id": "8e7e5607-f5e4-4639-9491-290e7f4bebbd",
   "metadata": {},
   "outputs": [],
   "source": [
    "import string\n",
    "\n",
    "from nltk.corpus import stopwords as sw\n",
    "from nltk.corpus import wordnet as wn\n",
    "from nltk import wordpunct_tokenize\n",
    "from nltk import WordNetLemmatizer\n",
    "from nltk import sent_tokenize\n",
    "from nltk import pos_tag\n",
    "\n",
    "from sklearn.base import BaseEstimator, TransformerMixin\n",
    "\n",
    "\n",
    "class NLTKPreprocessor(BaseEstimator, TransformerMixin):\n",
    "\n",
    "    def __init__(self, stopwords=None, punct=None,\n",
    "                 lower=True, strip=True):\n",
    "        self.lower      = lower\n",
    "        self.strip      = strip\n",
    "        self.stopwords  = stopwords or set(sw.words('english'))\n",
    "        self.punct      = punct or set(string.punctuation)\n",
    "        self.lemmatizer = WordNetLemmatizer()\n",
    "\n",
    "    def fit(self, X, y=None):\n",
    "        return self\n",
    "\n",
    "    def inverse_transform(self, X):\n",
    "        return [\" \".join(doc) for doc in X]\n",
    "\n",
    "    def transform(self, X):\n",
    "        return [\n",
    "            list(self.tokenize(doc)) for doc in X\n",
    "        ]\n",
    "\n",
    "    def tokenize(self, document):\n",
    "        # Break the document into sentences\n",
    "        for sent in sent_tokenize(document):\n",
    "            # Break the sentence into part of speech tagged tokens\n",
    "            for token, tag in pos_tag(wordpunct_tokenize(sent)):\n",
    "                # Apply preprocessing to the token\n",
    "                token = token.lower() if self.lower else token\n",
    "                token = token.strip() if self.strip else token\n",
    "                token = token.strip('_') if self.strip else token\n",
    "                token = token.strip('*') if self.strip else token\n",
    "\n",
    "                # If stopword, ignore token and continue\n",
    "                if token in self.stopwords:\n",
    "                    continue\n",
    "\n",
    "                # If punctuation, ignore token and continue\n",
    "                if all(char in self.punct for char in token):\n",
    "                    continue\n",
    "\n",
    "                # Lemmatize the token and yield\n",
    "                lemma = self.lemmatize(token, tag)\n",
    "                yield lemma\n",
    "\n",
    "    def lemmatize(self, token, tag):\n",
    "        tag = {\n",
    "            'N': wn.NOUN,\n",
    "            'V': wn.VERB,\n",
    "            'R': wn.ADV,\n",
    "            'J': wn.ADJ\n",
    "        }.get(tag[0], wn.NOUN)\n",
    "\n",
    "        return self.lemmatizer.lemmatize(token, tag)"
   ]
  },
  {
   "cell_type": "code",
   "execution_count": null,
   "id": "3bc79caa-651b-4138-b07d-3264ea34035a",
   "metadata": {},
   "outputs": [],
   "source": [
    "from sklearn.pipeline import Pipeline\n",
    "from sklearn.preprocessing import LabelEncoder\n",
    "from sklearn.linear_model import SGDClassifier\n",
    "from sklearn.metrics import classification_report as clsr\n",
    "from sklearn.feature_extraction.text import TfidfVectorizer\n",
    "from sklearn.model_selection import train_test_split as tts\n",
    "\n",
    "@timeit\n",
    "def build_and_evaluate(X, y,\n",
    "    classifier=SGDClassifier, outpath=None, verbose=True):\n",
    "\n",
    "    @timeit\n",
    "    def build(classifier, X, y=None):\n",
    "        \"\"\"\n",
    "        Inner build function that builds a single model.\n",
    "        \"\"\"\n",
    "        if isinstance(classifier, type):\n",
    "            classifier = classifier()\n",
    "\n",
    "        model = Pipeline([\n",
    "            ('preprocessor', NLTKPreprocessor()),\n",
    "            ('vectorizer', TfidfVectorizer(\n",
    "                tokenizer=identity, preprocessor=None, lowercase=False\n",
    "            )),\n",
    "            ('classifier', classifier),\n",
    "        ])\n",
    "\n",
    "        model.fit(X, y)\n",
    "        return model\n",
    "\n",
    "    # Label encode the targets\n",
    "    labels = LabelEncoder()\n",
    "    y = labels.fit_transform(y)\n",
    "\n",
    "    # Begin evaluation\n",
    "    if verbose: print(\"Building for evaluation\")\n",
    "    X_train, X_test, y_train, y_test = tts(X, y, test_size=0.2)\n",
    "    model, secs = build(classifier, X_train, y_train)\n",
    "\n",
    "    if verbose:\n",
    "        print(\"Evaluation model fit in {:0.3f} seconds\".format(secs))\n",
    "        print(\"Classification Report:\\n\")\n",
    "\n",
    "    y_pred = model.predict(X_test)\n",
    "    print(clsr(y_test, y_pred, target_names=labels.classes_))\n",
    "\n",
    "    if verbose:\n",
    "        print(\"Building complete model and saving ...\")\n",
    "    model, secs = build(classifier, X, y)\n",
    "    model.labels_ = labels\n",
    "\n",
    "    if verbose:\n",
    "        print(\"Complete model fit in {:0.3f} seconds\".format(secs))\n",
    "\n",
    "    if outpath:\n",
    "        with open(outpath, 'wb') as f:\n",
    "            pickle.dump(model, f)\n",
    "\n",
    "        print(\"Model written out to {}\".format(outpath))\n",
    "\n",
    "    return model"
   ]
  },
  {
   "cell_type": "code",
   "execution_count": null,
   "id": "3736f41a-ba69-470c-b8db-a7c1b82e1604",
   "metadata": {},
   "outputs": [],
   "source": [
    "from nltk.corpus import movie_reviews as reviews\n",
    "\n",
    "X = [reviews.raw(fileid) for fileid in reviews.fileids()]\n",
    "y = [reviews.categories(fileid)[0] for fileid in reviews.fileids()]\n",
    "\n",
    "model = build_and_evaluate(X,y, outpath=None)"
   ]
  },
  {
   "cell_type": "code",
   "execution_count": null,
   "id": "a2507b70-570e-47e0-8553-740585313ba5",
   "metadata": {},
   "outputs": [],
   "source": []
  }
 ],
 "metadata": {
  "kernelspec": {
   "display_name": "Python 3",
   "language": "python",
   "name": "python3"
  },
  "language_info": {
   "codemirror_mode": {
    "name": "ipython",
    "version": 3
   },
   "file_extension": ".py",
   "mimetype": "text/x-python",
   "name": "python",
   "nbconvert_exporter": "python",
   "pygments_lexer": "ipython3",
   "version": "3.8.10"
  },
  "toc-autonumbering": true,
  "toc-showmarkdowntxt": false,
  "toc-showtags": false
 },
 "nbformat": 4,
 "nbformat_minor": 5
}
