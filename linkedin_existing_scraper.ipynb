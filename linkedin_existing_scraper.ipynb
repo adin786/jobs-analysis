{
 "cells": [
  {
   "cell_type": "markdown",
   "metadata": {},
   "source": [
    "# Jobs-scraping\n",
    "First start scraping some data using linkedin jobs scraper off github\n",
    "requires `linkedin-jobs-scraper` from github.  Installed using \n",
    "```\n",
    "pip install linkedin-jobs-scraper\n",
    "```"
   ]
  },
  {
   "cell_type": "code",
   "execution_count": 1,
   "metadata": {},
   "outputs": [],
   "source": [
    "import logging\n",
    "from linkedin_jobs_scraper import LinkedinScraper\n",
    "from linkedin_jobs_scraper.events import Events, EventData\n",
    "from linkedin_jobs_scraper.query import Query, QueryOptions, QueryFilters\n",
    "from linkedin_jobs_scraper.filters import RelevanceFilters, TimeFilters, TypeFilters, ExperienceLevelFilters, RemoteFilters\n",
    "import pandas as pd"
   ]
  },
  {
   "cell_type": "code",
   "execution_count": null,
   "metadata": {},
   "outputs": [],
   "source": [
    "# Change root logger level (default is WARN)\n",
    "logging.basicConfig(level = logging.WARNING)"
   ]
  },
  {
   "cell_type": "code",
   "execution_count": 3,
   "metadata": {},
   "outputs": [
    {
     "name": "stderr",
     "output_type": "stream",
     "text": [
      "WARNING:root:abc\n"
     ]
    }
   ],
   "source": [
    "logging.warning('abc')"
   ]
  },
  {
   "cell_type": "code",
   "execution_count": 4,
   "metadata": {},
   "outputs": [],
   "source": [
    "df = pd.DataFrame()\n",
    "def on_data(data: EventData):\n",
    "    global df\n",
    "    print('[ON_DATA]', data.title, data.company, data.date, data.link, len(data.description))\n",
    "    df = df.append({'title':data.title,\n",
    "                    'company':data.company,\n",
    "                    'date':data.date,\n",
    "                    'link':data.link,\n",
    "                    'description':data.description,\n",
    "                    'location':data.location,\n",
    "                    'industries':data.industries,\n",
    "                    'employment_type':data.employment_type,\n",
    "                    'job_function':data.job_function,\n",
    "                    'seniority_level':data.seniority_level,\n",
    "                    'description_html':data.description_html,\n",
    "                    'place':data.place,\n",
    "                   }, ignore_index=True)\n",
    "\n",
    "def on_error(error):\n",
    "    print('[ON_ERROR]', error)\n",
    "\n",
    "def on_end():\n",
    "    print('[ON_END]')"
   ]
  },
  {
   "cell_type": "code",
   "execution_count": 9,
   "metadata": {},
   "outputs": [
    {
     "name": "stderr",
     "output_type": "stream",
     "text": [
      "INFO:li:scraper:('Using strategy AnonymousStrategy',)\n"
     ]
    }
   ],
   "source": [
    "scraper = LinkedinScraper(\n",
    "    chrome_executable_path=None, # Custom Chrome executable path (e.g. /foo/bar/bin/chromedriver) \n",
    "    chrome_options=None,  # Custom Chrome options here\n",
    "    headless=True,  # Overrides headless mode only if chrome_options is None\n",
    "    max_workers=1,  # How many threads will be spawned to run queries concurrently (one Chrome driver for each thread)\n",
    "    slow_mo=2.1,  # Slow down the scraper to avoid 'Too many requests (429)' errors\n",
    ")\n",
    "\n",
    "# Add event listeners\n",
    "scraper.on(Events.DATA, on_data)\n",
    "scraper.on(Events.ERROR, on_error)\n",
    "scraper.on(Events.END, on_end)"
   ]
  },
  {
   "cell_type": "code",
   "execution_count": 14,
   "metadata": {},
   "outputs": [],
   "source": [
    "queries = [\n",
    "    Query(\n",
    "        query='Data Scientist',\n",
    "        options=QueryOptions(\n",
    "            locations=['United Kingdom', 'Scotland'],\n",
    "            optimize=True,  # Blocks requests for resources like images and stylesheet\n",
    "            limit=30,  # Limit the number of jobs to scrape\n",
    "            filters=QueryFilters(\n",
    "                relevance=RelevanceFilters.RECENT,\n",
    "                time=TimeFilters.MONTH,\n",
    "            )\n",
    "        )\n",
    "    )\n",
    "]"
   ]
  },
  {
   "cell_type": "code",
   "execution_count": 15,
   "metadata": {
    "tags": []
   },
   "outputs": [
    {
     "name": "stderr",
     "output_type": "stream",
     "text": [
      "INFO:li:scraper:('Starting new query', \"Query(query=Data Scientist options=QueryOptions(limit=30 locations=['United Kingdom', 'Scotland'] filters=QueryFilters(relevance=RelevanceFilters.RECENT time=TimeFilters.MONTH) optimize=True))\")\n",
      "INFO:li:scraper:('[Data Scientist][United Kingdom]', 'Opening https://www.linkedin.com/jobs/search?keywords=Data+Scientist&location=United+Kingdom&sortBy=DD&f_TPR=r2592000')\n",
      "INFO:li:scraper:('[Data Scientist][United Kingdom]', 'Trying first selectors set')\n",
      "INFO:li:scraper:('[Data Scientist][United Kingdom]', 'Trying second selectors set')\n",
      "INFO:li:scraper:('[Data Scientist][United Kingdom]', 'OK')\n",
      "INFO:li:scraper:('[Data Scientist][United Kingdom]', 'Starting pagination loop')\n",
      "INFO:li:scraper:('[Data Scientist][United Kingdom]', 'Found 25 jobs')\n",
      "INFO:li:scraper:('[Data Scientist][United Kingdom][1]', 'Processed')\n"
     ]
    },
    {
     "name": "stdout",
     "output_type": "stream",
     "text": [
      "[ON_DATA] Software Systems Engineer Bennett & Game Recruitment Limited 2021-06-23 https://uk.linkedin.com/jobs/view/software-systems-engineer-at-bennett-game-recruitment-limited-2615249436?refId=mjpmwticEknuzDZEudPb8A%3D%3D&trackingId=Akj6uYVbe2HU%2F5SHD6b2ug%3D%3D&position=1&pageNum=0&trk=public_jobs_jserp-result_search-card 1631\n"
     ]
    },
    {
     "name": "stderr",
     "output_type": "stream",
     "text": [
      "INFO:li:scraper:('[Data Scientist][United Kingdom][2]', 'Processed')\n"
     ]
    },
    {
     "name": "stdout",
     "output_type": "stream",
     "text": [
      "[ON_DATA] Data Support Engineer - Security Cleared Project People 2021-06-23 https://uk.linkedin.com/jobs/view/data-support-engineer-security-cleared-at-project-people-2615204512?refId=mjpmwticEknuzDZEudPb8A%3D%3D&trackingId=%2F8BgUNmSzgR0JD8zkhzdPw%3D%3D&position=2&pageNum=0&trk=public_jobs_jserp-result_search-card 1804\n"
     ]
    },
    {
     "name": "stderr",
     "output_type": "stream",
     "text": [
      "INFO:li:scraper:('[Data Scientist][United Kingdom][3]', 'Processed')\n"
     ]
    },
    {
     "name": "stdout",
     "output_type": "stream",
     "text": [
      "[ON_DATA] Distributed Systems Engineer - Data Cloudflare 2021-06-23 https://uk.linkedin.com/jobs/view/distributed-systems-engineer-data-at-cloudflare-2604296044?refId=mjpmwticEknuzDZEudPb8A%3D%3D&trackingId=t6JgxNSOFV5SFtKIBUiLSw%3D%3D&position=3&pageNum=0&trk=public_jobs_jserp-result_search-card 5883\n"
     ]
    },
    {
     "name": "stderr",
     "output_type": "stream",
     "text": [
      "INFO:li:scraper:('[Data Scientist][United Kingdom][4]', 'Processed')\n"
     ]
    },
    {
     "name": "stdout",
     "output_type": "stream",
     "text": [
      "[ON_DATA] Data Engineer Moneyfarm 2021-06-23 https://uk.linkedin.com/jobs/view/data-engineer-at-moneyfarm-2615184991?refId=mjpmwticEknuzDZEudPb8A%3D%3D&trackingId=nfaiHleiarGyY7Ew8oI8Rw%3D%3D&position=4&pageNum=0&trk=public_jobs_jserp-result_search-card 4709\n"
     ]
    },
    {
     "name": "stderr",
     "output_type": "stream",
     "text": [
      "INFO:li:scraper:('[Data Scientist][United Kingdom][5]', 'Processed')\n"
     ]
    },
    {
     "name": "stdout",
     "output_type": "stream",
     "text": [
      "[ON_DATA] Software Engineer - London nCino, Inc. 2021-06-23 https://uk.linkedin.com/jobs/view/software-engineer-london-at-ncino-inc-2604287156?refId=mjpmwticEknuzDZEudPb8A%3D%3D&trackingId=D8%2BK5MwBj6D%2BwuFh%2FBx%2BMA%3D%3D&position=5&pageNum=0&trk=public_jobs_jserp-result_search-card 3915\n"
     ]
    },
    {
     "name": "stderr",
     "output_type": "stream",
     "text": [
      "INFO:li:scraper:('[Data Scientist][United Kingdom][6]', 'Processed')\n"
     ]
    },
    {
     "name": "stdout",
     "output_type": "stream",
     "text": [
      "[ON_DATA] Data Engineer Showpad 2021-06-23 https://uk.linkedin.com/jobs/view/data-engineer-at-showpad-2615188062?refId=mjpmwticEknuzDZEudPb8A%3D%3D&trackingId=4miM59KsxrHYRvo5yKjLKQ%3D%3D&position=6&pageNum=0&trk=public_jobs_jserp-result_search-card 3597\n"
     ]
    },
    {
     "name": "stderr",
     "output_type": "stream",
     "text": [
      "INFO:li:scraper:('[Data Scientist][United Kingdom][7]', 'Processed')\n"
     ]
    },
    {
     "name": "stdout",
     "output_type": "stream",
     "text": [
      "[ON_DATA] Data and Performance Analyst (Contract) HYDE 2021-06-23 https://uk.linkedin.com/jobs/view/data-and-performance-analyst-contract-at-hyde-2615186029?refId=mjpmwticEknuzDZEudPb8A%3D%3D&trackingId=L3FCn58C7s2eRa8zrhy93A%3D%3D&position=7&pageNum=0&trk=public_jobs_jserp-result_search-card 2240\n"
     ]
    },
    {
     "name": "stderr",
     "output_type": "stream",
     "text": [
      "INFO:li:scraper:('[Data Scientist][United Kingdom][8]', 'Processed')\n"
     ]
    },
    {
     "name": "stdout",
     "output_type": "stream",
     "text": [
      "[ON_DATA] Software Engineer Optima Dev 2021-06-23 https://uk.linkedin.com/jobs/view/software-engineer-at-optima-dev-2615183418?refId=mjpmwticEknuzDZEudPb8A%3D%3D&trackingId=wVY6zjh3Yj%2FA9ct7Oket3Q%3D%3D&position=8&pageNum=0&trk=public_jobs_jserp-result_search-card 1136\n"
     ]
    },
    {
     "name": "stderr",
     "output_type": "stream",
     "text": [
      "ERROR:li:scraper:('[Data Scientist][United Kingdom][9]', JavascriptException(\"javascript error: Cannot read property 'scrollIntoView' of null\\n  (Session info: headless chrome=91.0.4472.114)\", None, None), 'Traceback (most recent call last):\\n  File \"C:\\\\Users\\\\adin7\\\\.conda\\\\envs\\\\jobs-analysis\\\\lib\\\\site-packages\\\\linkedin_jobs_scraper\\\\strategies\\\\anonymous_strategy.py\", line 260, in run\\n    job_id, job_link, job_title, job_company, job_place, job_date = driver.execute_script(\\n  File \"C:\\\\Users\\\\adin7\\\\.conda\\\\envs\\\\jobs-analysis\\\\lib\\\\site-packages\\\\selenium\\\\webdriver\\\\remote\\\\webdriver.py\", line 634, in execute_script\\n    return self.execute(command, {\\n  File \"C:\\\\Users\\\\adin7\\\\.conda\\\\envs\\\\jobs-analysis\\\\lib\\\\site-packages\\\\selenium\\\\webdriver\\\\remote\\\\webdriver.py\", line 321, in execute\\n    self.error_handler.check_response(response)\\n  File \"C:\\\\Users\\\\adin7\\\\.conda\\\\envs\\\\jobs-analysis\\\\lib\\\\site-packages\\\\selenium\\\\webdriver\\\\remote\\\\errorhandler.py\", line 242, in check_response\\n    r...\n",
      "Traceback (most recent call last):\n",
      "  File \"C:\\Users\\adin7\\.conda\\envs\\jobs-analysis\\lib\\site-packages\\linkedin_jobs_scraper\\strategies\\anonymous_strategy.py\", line 260, in run\n",
      "    job_id, job_link, job_title, job_company, job_place, job_date = driver.execute_script(\n",
      "  File \"C:\\Users\\adin7\\.conda\\envs\\jobs-analysis\\lib\\site-packages\\selenium\\webdriver\\remote\\webdriver.py\", line 634, in execute_script\n",
      "    return self.execute(command, {\n",
      "  File \"C:\\Users\\adin7\\.conda\\envs\\jobs-analysis\\lib\\site-packages\\selenium\\webdriver\\remote\\webdriver.py\", line 321, in execute\n",
      "    self.error_handler.check_response(response)\n",
      "  File \"C:\\Users\\adin7\\.conda\\envs\\jobs-analysis\\lib\\site-packages\\selenium\\webdriver\\remote\\errorhandler.py\", line 242, in check_response\n",
      "    raise exception_class(message, screen, stacktrace)\n",
      "selenium.common.exceptions.JavascriptException: Message: javascript error: Cannot read property 'scrollIntoView' of null\n",
      "  (Session info: headless chrome=91.0.4472.114)\n",
      "\n"
     ]
    },
    {
     "name": "stdout",
     "output_type": "stream",
     "text": [
      "[ON_ERROR] Message: javascript error: Cannot read property 'scrollIntoView' of null\n",
      "  (Session info: headless chrome=91.0.4472.114)\n",
      "\n",
      "Traceback (most recent call last):\n",
      "  File \"C:\\Users\\adin7\\.conda\\envs\\jobs-analysis\\lib\\site-packages\\linkedin_jobs_scraper\\strategies\\anonymous_strategy.py\", line 260, in run\n",
      "    job_id, job_link, job_title, job_company, job_place, job_date = driver.execute_script(\n",
      "  File \"C:\\Users\\adin7\\.conda\\envs\\jobs-analysis\\lib\\site-packages\\selenium\\webdriver\\remote\\webdriver.py\", line 634, in execute_script\n",
      "    return self.execute(command, {\n",
      "  File \"C:\\Users\\adin7\\.conda\\envs\\jobs-analysis\\lib\\site-packages\\selenium\\webdriver\\remote\\webdriver.py\", line 321, in execute\n",
      "    self.error_handler.check_response(response)\n",
      "  File \"C:\\Users\\adin7\\.conda\\envs\\jobs-analysis\\lib\\site-packages\\selenium\\webdriver\\remote\\errorhandler.py\", line 242, in check_response\n",
      "    raise exception_class(message, screen, stacktrace)\n",
      "selenium.common.exceptions.JavascriptException: Message: javascript error: Cannot read property 'scrollIntoView' of null\n",
      "  (Session info: headless chrome=91.0.4472.114)\n",
      "\n",
      "\n"
     ]
    },
    {
     "name": "stderr",
     "output_type": "stream",
     "text": [
      "INFO:li:scraper:('[Data Scientist][United Kingdom][9]', 'Processed')\n"
     ]
    },
    {
     "name": "stdout",
     "output_type": "stream",
     "text": [
      "[ON_DATA] Software Developer suspend. 2021-06-23 https://uk.linkedin.com/jobs/view/software-developer-at-suspend-2610065755?refId=mjpmwticEknuzDZEudPb8A%3D%3D&trackingId=oNyGnHgCA98yEXuRy9ghag%3D%3D&position=10&pageNum=0&trk=public_jobs_jserp-result_search-card 1033\n"
     ]
    },
    {
     "name": "stderr",
     "output_type": "stream",
     "text": [
      "INFO:li:scraper:('[Data Scientist][United Kingdom][10]', 'Processed')\n"
     ]
    },
    {
     "name": "stdout",
     "output_type": "stream",
     "text": [
      "[ON_DATA] Software Developer Spark-it 2021-06-23 https://uk.linkedin.com/jobs/view/software-developer-at-spark-it-2610065468?refId=mjpmwticEknuzDZEudPb8A%3D%3D&trackingId=jqgF0ZFluIurB854eKRSUg%3D%3D&position=11&pageNum=0&trk=public_jobs_jserp-result_search-card 52\n"
     ]
    },
    {
     "name": "stderr",
     "output_type": "stream",
     "text": [
      "INFO:li:scraper:('[Data Scientist][United Kingdom][11]', 'Processed')\n"
     ]
    },
    {
     "name": "stdout",
     "output_type": "stream",
     "text": [
      "[ON_DATA] Software Engineer N-able 2021-06-23 https://uk.linkedin.com/jobs/view/software-engineer-at-n-able-2604282347?refId=mjpmwticEknuzDZEudPb8A%3D%3D&trackingId=Lvn7xgunhK98KyUqMk%2Fy6A%3D%3D&position=12&pageNum=0&trk=public_jobs_jserp-result_search-card 4108\n"
     ]
    },
    {
     "name": "stderr",
     "output_type": "stream",
     "text": [
      "INFO:li:scraper:('[Data Scientist][United Kingdom][12]', 'Processed')\n"
     ]
    },
    {
     "name": "stdout",
     "output_type": "stream",
     "text": [
      "[ON_DATA] Senior Market Researcher, Customer Insights Amazon 2021-06-23 https://uk.linkedin.com/jobs/view/senior-market-researcher-customer-insights-at-amazon-2604277942?refId=mjpmwticEknuzDZEudPb8A%3D%3D&trackingId=pLV7AetS9TzrRJ498Jhzug%3D%3D&position=13&pageNum=0&trk=public_jobs_jserp-result_search-card 3679\n"
     ]
    },
    {
     "name": "stderr",
     "output_type": "stream",
     "text": [
      "ERROR:li:scraper:('[Data Scientist][United Kingdom][13]', JavascriptException(\"javascript error: Cannot read property 'scrollIntoView' of null\\n  (Session info: headless chrome=91.0.4472.114)\", None, None), 'Traceback (most recent call last):\\n  File \"C:\\\\Users\\\\adin7\\\\.conda\\\\envs\\\\jobs-analysis\\\\lib\\\\site-packages\\\\linkedin_jobs_scraper\\\\strategies\\\\anonymous_strategy.py\", line 260, in run\\n    job_id, job_link, job_title, job_company, job_place, job_date = driver.execute_script(\\n  File \"C:\\\\Users\\\\adin7\\\\.conda\\\\envs\\\\jobs-analysis\\\\lib\\\\site-packages\\\\selenium\\\\webdriver\\\\remote\\\\webdriver.py\", line 634, in execute_script\\n    return self.execute(command, {\\n  File \"C:\\\\Users\\\\adin7\\\\.conda\\\\envs\\\\jobs-analysis\\\\lib\\\\site-packages\\\\selenium\\\\webdriver\\\\remote\\\\webdriver.py\", line 321, in execute\\n    self.error_handler.check_response(response)\\n  File \"C:\\\\Users\\\\adin7\\\\.conda\\\\envs\\\\jobs-analysis\\\\lib\\\\site-packages\\\\selenium\\\\webdriver\\\\remote\\\\errorhandler.py\", line 242, in check_response\\n    ...\n",
      "Traceback (most recent call last):\n",
      "  File \"C:\\Users\\adin7\\.conda\\envs\\jobs-analysis\\lib\\site-packages\\linkedin_jobs_scraper\\strategies\\anonymous_strategy.py\", line 260, in run\n",
      "    job_id, job_link, job_title, job_company, job_place, job_date = driver.execute_script(\n",
      "  File \"C:\\Users\\adin7\\.conda\\envs\\jobs-analysis\\lib\\site-packages\\selenium\\webdriver\\remote\\webdriver.py\", line 634, in execute_script\n",
      "    return self.execute(command, {\n",
      "  File \"C:\\Users\\adin7\\.conda\\envs\\jobs-analysis\\lib\\site-packages\\selenium\\webdriver\\remote\\webdriver.py\", line 321, in execute\n",
      "    self.error_handler.check_response(response)\n",
      "  File \"C:\\Users\\adin7\\.conda\\envs\\jobs-analysis\\lib\\site-packages\\selenium\\webdriver\\remote\\errorhandler.py\", line 242, in check_response\n",
      "    raise exception_class(message, screen, stacktrace)\n",
      "selenium.common.exceptions.JavascriptException: Message: javascript error: Cannot read property 'scrollIntoView' of null\n",
      "  (Session info: headless chrome=91.0.4472.114)\n",
      "\n"
     ]
    },
    {
     "name": "stdout",
     "output_type": "stream",
     "text": [
      "[ON_ERROR] Message: javascript error: Cannot read property 'scrollIntoView' of null\n",
      "  (Session info: headless chrome=91.0.4472.114)\n",
      "\n",
      "Traceback (most recent call last):\n",
      "  File \"C:\\Users\\adin7\\.conda\\envs\\jobs-analysis\\lib\\site-packages\\linkedin_jobs_scraper\\strategies\\anonymous_strategy.py\", line 260, in run\n",
      "    job_id, job_link, job_title, job_company, job_place, job_date = driver.execute_script(\n",
      "  File \"C:\\Users\\adin7\\.conda\\envs\\jobs-analysis\\lib\\site-packages\\selenium\\webdriver\\remote\\webdriver.py\", line 634, in execute_script\n",
      "    return self.execute(command, {\n",
      "  File \"C:\\Users\\adin7\\.conda\\envs\\jobs-analysis\\lib\\site-packages\\selenium\\webdriver\\remote\\webdriver.py\", line 321, in execute\n",
      "    self.error_handler.check_response(response)\n",
      "  File \"C:\\Users\\adin7\\.conda\\envs\\jobs-analysis\\lib\\site-packages\\selenium\\webdriver\\remote\\errorhandler.py\", line 242, in check_response\n",
      "    raise exception_class(message, screen, stacktrace)\n",
      "selenium.common.exceptions.JavascriptException: Message: javascript error: Cannot read property 'scrollIntoView' of null\n",
      "  (Session info: headless chrome=91.0.4472.114)\n",
      "\n",
      "\n"
     ]
    },
    {
     "name": "stderr",
     "output_type": "stream",
     "text": [
      "INFO:li:scraper:('[Data Scientist][United Kingdom][13]', 'Processed')\n"
     ]
    },
    {
     "name": "stdout",
     "output_type": "stream",
     "text": [
      "[ON_DATA] Research and Development Scientist Aptamer Group 2021-06-23 https://uk.linkedin.com/jobs/view/research-and-development-scientist-at-aptamer-group-2615178421?refId=mjpmwticEknuzDZEudPb8A%3D%3D&trackingId=ZqAfbBxR8A7SP6PaU7UFzg%3D%3D&position=15&pageNum=0&trk=public_jobs_jserp-result_search-card 3392\n"
     ]
    },
    {
     "name": "stderr",
     "output_type": "stream",
     "text": [
      "INFO:li:scraper:('[Data Scientist][United Kingdom][14]', 'Processed')\n"
     ]
    },
    {
     "name": "stdout",
     "output_type": "stream",
     "text": [
      "[ON_DATA] C# & SQL Software Developer Ashdown 2021-06-23 https://uk.linkedin.com/jobs/view/c%23-sql-software-developer-at-ashdown-2615178239?refId=mjpmwticEknuzDZEudPb8A%3D%3D&trackingId=IYSyXiP%2FzuKLgvhFP7Rb1Q%3D%3D&position=16&pageNum=0&trk=public_jobs_jserp-result_search-card 1237\n"
     ]
    },
    {
     "name": "stderr",
     "output_type": "stream",
     "text": [
      "INFO:li:scraper:('[Data Scientist][United Kingdom][15]', 'Processed')\n"
     ]
    },
    {
     "name": "stdout",
     "output_type": "stream",
     "text": [
      "[ON_DATA] C# ASP.Net Developer Ashdown 2021-06-23 https://uk.linkedin.com/jobs/view/c%23-asp-net-developer-at-ashdown-2615174478?refId=mjpmwticEknuzDZEudPb8A%3D%3D&trackingId=zC9509r%2BdAdOmpeUYmiUFA%3D%3D&position=17&pageNum=0&trk=public_jobs_jserp-result_search-card 1258\n"
     ]
    },
    {
     "name": "stderr",
     "output_type": "stream",
     "text": [
      "INFO:li:scraper:('[Data Scientist][United Kingdom][16]', 'Processed')\n"
     ]
    },
    {
     "name": "stdout",
     "output_type": "stream",
     "text": [
      "[ON_DATA] Software Developer RE Recruitment 2021-06-23 https://uk.linkedin.com/jobs/view/software-developer-at-re-recruitment-2615171828?refId=mjpmwticEknuzDZEudPb8A%3D%3D&trackingId=tkhMpkMm60VfXSHHDNKSRQ%3D%3D&position=18&pageNum=0&trk=public_jobs_jserp-result_search-card 1542\n"
     ]
    },
    {
     "name": "stderr",
     "output_type": "stream",
     "text": [
      "ERROR:li:scraper:('[Data Scientist][United Kingdom][17]', JavascriptException(\"javascript error: Cannot read property 'scrollIntoView' of null\\n  (Session info: headless chrome=91.0.4472.114)\", None, None), 'Traceback (most recent call last):\\n  File \"C:\\\\Users\\\\adin7\\\\.conda\\\\envs\\\\jobs-analysis\\\\lib\\\\site-packages\\\\linkedin_jobs_scraper\\\\strategies\\\\anonymous_strategy.py\", line 260, in run\\n    job_id, job_link, job_title, job_company, job_place, job_date = driver.execute_script(\\n  File \"C:\\\\Users\\\\adin7\\\\.conda\\\\envs\\\\jobs-analysis\\\\lib\\\\site-packages\\\\selenium\\\\webdriver\\\\remote\\\\webdriver.py\", line 634, in execute_script\\n    return self.execute(command, {\\n  File \"C:\\\\Users\\\\adin7\\\\.conda\\\\envs\\\\jobs-analysis\\\\lib\\\\site-packages\\\\selenium\\\\webdriver\\\\remote\\\\webdriver.py\", line 321, in execute\\n    self.error_handler.check_response(response)\\n  File \"C:\\\\Users\\\\adin7\\\\.conda\\\\envs\\\\jobs-analysis\\\\lib\\\\site-packages\\\\selenium\\\\webdriver\\\\remote\\\\errorhandler.py\", line 242, in check_response\\n    ...\n",
      "Traceback (most recent call last):\n",
      "  File \"C:\\Users\\adin7\\.conda\\envs\\jobs-analysis\\lib\\site-packages\\linkedin_jobs_scraper\\strategies\\anonymous_strategy.py\", line 260, in run\n",
      "    job_id, job_link, job_title, job_company, job_place, job_date = driver.execute_script(\n",
      "  File \"C:\\Users\\adin7\\.conda\\envs\\jobs-analysis\\lib\\site-packages\\selenium\\webdriver\\remote\\webdriver.py\", line 634, in execute_script\n",
      "    return self.execute(command, {\n",
      "  File \"C:\\Users\\adin7\\.conda\\envs\\jobs-analysis\\lib\\site-packages\\selenium\\webdriver\\remote\\webdriver.py\", line 321, in execute\n",
      "    self.error_handler.check_response(response)\n",
      "  File \"C:\\Users\\adin7\\.conda\\envs\\jobs-analysis\\lib\\site-packages\\selenium\\webdriver\\remote\\errorhandler.py\", line 242, in check_response\n",
      "    raise exception_class(message, screen, stacktrace)\n",
      "selenium.common.exceptions.JavascriptException: Message: javascript error: Cannot read property 'scrollIntoView' of null\n",
      "  (Session info: headless chrome=91.0.4472.114)\n",
      "\n"
     ]
    },
    {
     "name": "stdout",
     "output_type": "stream",
     "text": [
      "[ON_ERROR] Message: javascript error: Cannot read property 'scrollIntoView' of null\n",
      "  (Session info: headless chrome=91.0.4472.114)\n",
      "\n",
      "Traceback (most recent call last):\n",
      "  File \"C:\\Users\\adin7\\.conda\\envs\\jobs-analysis\\lib\\site-packages\\linkedin_jobs_scraper\\strategies\\anonymous_strategy.py\", line 260, in run\n",
      "    job_id, job_link, job_title, job_company, job_place, job_date = driver.execute_script(\n",
      "  File \"C:\\Users\\adin7\\.conda\\envs\\jobs-analysis\\lib\\site-packages\\selenium\\webdriver\\remote\\webdriver.py\", line 634, in execute_script\n",
      "    return self.execute(command, {\n",
      "  File \"C:\\Users\\adin7\\.conda\\envs\\jobs-analysis\\lib\\site-packages\\selenium\\webdriver\\remote\\webdriver.py\", line 321, in execute\n",
      "    self.error_handler.check_response(response)\n",
      "  File \"C:\\Users\\adin7\\.conda\\envs\\jobs-analysis\\lib\\site-packages\\selenium\\webdriver\\remote\\errorhandler.py\", line 242, in check_response\n",
      "    raise exception_class(message, screen, stacktrace)\n",
      "selenium.common.exceptions.JavascriptException: Message: javascript error: Cannot read property 'scrollIntoView' of null\n",
      "  (Session info: headless chrome=91.0.4472.114)\n",
      "\n",
      "\n"
     ]
    },
    {
     "name": "stderr",
     "output_type": "stream",
     "text": [
      "INFO:li:scraper:('[Data Scientist][United Kingdom][17]', 'Processed')\n"
     ]
    },
    {
     "name": "stdout",
     "output_type": "stream",
     "text": [
      "[ON_DATA] C# & SQL Software Developer Ashdown 2021-06-23 https://uk.linkedin.com/jobs/view/c%23-sql-software-developer-at-ashdown-2615177059?refId=mjpmwticEknuzDZEudPb8A%3D%3D&trackingId=EuuT9ketx%2FLNNc4g30%2FLMA%3D%3D&position=20&pageNum=0&trk=public_jobs_jserp-result_search-card 1237\n"
     ]
    },
    {
     "name": "stderr",
     "output_type": "stream",
     "text": [
      "ERROR:li:scraper:('[Data Scientist][United Kingdom][18]', JavascriptException(\"javascript error: Cannot read property 'scrollIntoView' of null\\n  (Session info: headless chrome=91.0.4472.114)\", None, None), 'Traceback (most recent call last):\\n  File \"C:\\\\Users\\\\adin7\\\\.conda\\\\envs\\\\jobs-analysis\\\\lib\\\\site-packages\\\\linkedin_jobs_scraper\\\\strategies\\\\anonymous_strategy.py\", line 260, in run\\n    job_id, job_link, job_title, job_company, job_place, job_date = driver.execute_script(\\n  File \"C:\\\\Users\\\\adin7\\\\.conda\\\\envs\\\\jobs-analysis\\\\lib\\\\site-packages\\\\selenium\\\\webdriver\\\\remote\\\\webdriver.py\", line 634, in execute_script\\n    return self.execute(command, {\\n  File \"C:\\\\Users\\\\adin7\\\\.conda\\\\envs\\\\jobs-analysis\\\\lib\\\\site-packages\\\\selenium\\\\webdriver\\\\remote\\\\webdriver.py\", line 321, in execute\\n    self.error_handler.check_response(response)\\n  File \"C:\\\\Users\\\\adin7\\\\.conda\\\\envs\\\\jobs-analysis\\\\lib\\\\site-packages\\\\selenium\\\\webdriver\\\\remote\\\\errorhandler.py\", line 242, in check_response\\n    ...\n",
      "Traceback (most recent call last):\n",
      "  File \"C:\\Users\\adin7\\.conda\\envs\\jobs-analysis\\lib\\site-packages\\linkedin_jobs_scraper\\strategies\\anonymous_strategy.py\", line 260, in run\n",
      "    job_id, job_link, job_title, job_company, job_place, job_date = driver.execute_script(\n",
      "  File \"C:\\Users\\adin7\\.conda\\envs\\jobs-analysis\\lib\\site-packages\\selenium\\webdriver\\remote\\webdriver.py\", line 634, in execute_script\n",
      "    return self.execute(command, {\n",
      "  File \"C:\\Users\\adin7\\.conda\\envs\\jobs-analysis\\lib\\site-packages\\selenium\\webdriver\\remote\\webdriver.py\", line 321, in execute\n",
      "    self.error_handler.check_response(response)\n",
      "  File \"C:\\Users\\adin7\\.conda\\envs\\jobs-analysis\\lib\\site-packages\\selenium\\webdriver\\remote\\errorhandler.py\", line 242, in check_response\n",
      "    raise exception_class(message, screen, stacktrace)\n",
      "selenium.common.exceptions.JavascriptException: Message: javascript error: Cannot read property 'scrollIntoView' of null\n",
      "  (Session info: headless chrome=91.0.4472.114)\n",
      "\n"
     ]
    },
    {
     "name": "stdout",
     "output_type": "stream",
     "text": [
      "[ON_ERROR] Message: javascript error: Cannot read property 'scrollIntoView' of null\n",
      "  (Session info: headless chrome=91.0.4472.114)\n",
      "\n",
      "Traceback (most recent call last):\n",
      "  File \"C:\\Users\\adin7\\.conda\\envs\\jobs-analysis\\lib\\site-packages\\linkedin_jobs_scraper\\strategies\\anonymous_strategy.py\", line 260, in run\n",
      "    job_id, job_link, job_title, job_company, job_place, job_date = driver.execute_script(\n",
      "  File \"C:\\Users\\adin7\\.conda\\envs\\jobs-analysis\\lib\\site-packages\\selenium\\webdriver\\remote\\webdriver.py\", line 634, in execute_script\n",
      "    return self.execute(command, {\n",
      "  File \"C:\\Users\\adin7\\.conda\\envs\\jobs-analysis\\lib\\site-packages\\selenium\\webdriver\\remote\\webdriver.py\", line 321, in execute\n",
      "    self.error_handler.check_response(response)\n",
      "  File \"C:\\Users\\adin7\\.conda\\envs\\jobs-analysis\\lib\\site-packages\\selenium\\webdriver\\remote\\errorhandler.py\", line 242, in check_response\n",
      "    raise exception_class(message, screen, stacktrace)\n",
      "selenium.common.exceptions.JavascriptException: Message: javascript error: Cannot read property 'scrollIntoView' of null\n",
      "  (Session info: headless chrome=91.0.4472.114)\n",
      "\n",
      "\n"
     ]
    },
    {
     "name": "stderr",
     "output_type": "stream",
     "text": [
      "INFO:li:scraper:('[Data Scientist][United Kingdom][18]', 'Processed')\n"
     ]
    },
    {
     "name": "stdout",
     "output_type": "stream",
     "text": [
      "[ON_DATA] Software Engineer Fortive 2021-06-23 https://uk.linkedin.com/jobs/view/software-engineer-at-fortive-2615173453?refId=mjpmwticEknuzDZEudPb8A%3D%3D&trackingId=TaBniZuro%2BF%2FpNf1dAp5uQ%3D%3D&position=22&pageNum=0&trk=public_jobs_jserp-result_search-card 3178\n"
     ]
    },
    {
     "name": "stderr",
     "output_type": "stream",
     "text": [
      "INFO:li:scraper:('[Data Scientist][United Kingdom][19]', 'Processed')\n"
     ]
    },
    {
     "name": "stdout",
     "output_type": "stream",
     "text": [
      "[ON_DATA] Data Analyst WPP 2021-06-23 https://uk.linkedin.com/jobs/view/data-analyst-at-wpp-2604275614?refId=mjpmwticEknuzDZEudPb8A%3D%3D&trackingId=Jd222OAnx7zGjF0jb0C0vg%3D%3D&position=23&pageNum=0&trk=public_jobs_jserp-result_search-card 2665\n"
     ]
    },
    {
     "name": "stderr",
     "output_type": "stream",
     "text": [
      "INFO:li:scraper:('[Data Scientist][United Kingdom][20]', 'Processed')\n"
     ]
    },
    {
     "name": "stdout",
     "output_type": "stream",
     "text": [
      "[ON_DATA] Software Engineer (BPE) (Ref: ICT_TECH E11) Willis Towers Watson 2021-06-23 https://uk.linkedin.com/jobs/view/software-engineer-bpe-ref-ict-tech-e11-at-willis-towers-watson-2604279182?refId=mjpmwticEknuzDZEudPb8A%3D%3D&trackingId=kLqtgVsAfZBqd%2B1Nhe1QYw%3D%3D&position=24&pageNum=0&trk=public_jobs_jserp-result_search-card 3204\n"
     ]
    },
    {
     "name": "stderr",
     "output_type": "stream",
     "text": [
      "ERROR:li:scraper:('[Data Scientist][United Kingdom][21]', JavascriptException(\"javascript error: Cannot read property 'scrollIntoView' of null\\n  (Session info: headless chrome=91.0.4472.114)\", None, None), 'Traceback (most recent call last):\\n  File \"C:\\\\Users\\\\adin7\\\\.conda\\\\envs\\\\jobs-analysis\\\\lib\\\\site-packages\\\\linkedin_jobs_scraper\\\\strategies\\\\anonymous_strategy.py\", line 260, in run\\n    job_id, job_link, job_title, job_company, job_place, job_date = driver.execute_script(\\n  File \"C:\\\\Users\\\\adin7\\\\.conda\\\\envs\\\\jobs-analysis\\\\lib\\\\site-packages\\\\selenium\\\\webdriver\\\\remote\\\\webdriver.py\", line 634, in execute_script\\n    return self.execute(command, {\\n  File \"C:\\\\Users\\\\adin7\\\\.conda\\\\envs\\\\jobs-analysis\\\\lib\\\\site-packages\\\\selenium\\\\webdriver\\\\remote\\\\webdriver.py\", line 321, in execute\\n    self.error_handler.check_response(response)\\n  File \"C:\\\\Users\\\\adin7\\\\.conda\\\\envs\\\\jobs-analysis\\\\lib\\\\site-packages\\\\selenium\\\\webdriver\\\\remote\\\\errorhandler.py\", line 242, in check_response\\n    ...\n",
      "Traceback (most recent call last):\n",
      "  File \"C:\\Users\\adin7\\.conda\\envs\\jobs-analysis\\lib\\site-packages\\linkedin_jobs_scraper\\strategies\\anonymous_strategy.py\", line 260, in run\n",
      "    job_id, job_link, job_title, job_company, job_place, job_date = driver.execute_script(\n",
      "  File \"C:\\Users\\adin7\\.conda\\envs\\jobs-analysis\\lib\\site-packages\\selenium\\webdriver\\remote\\webdriver.py\", line 634, in execute_script\n",
      "    return self.execute(command, {\n",
      "  File \"C:\\Users\\adin7\\.conda\\envs\\jobs-analysis\\lib\\site-packages\\selenium\\webdriver\\remote\\webdriver.py\", line 321, in execute\n",
      "    self.error_handler.check_response(response)\n",
      "  File \"C:\\Users\\adin7\\.conda\\envs\\jobs-analysis\\lib\\site-packages\\selenium\\webdriver\\remote\\errorhandler.py\", line 242, in check_response\n",
      "    raise exception_class(message, screen, stacktrace)\n",
      "selenium.common.exceptions.JavascriptException: Message: javascript error: Cannot read property 'scrollIntoView' of null\n",
      "  (Session info: headless chrome=91.0.4472.114)\n",
      "\n",
      "INFO:li:scraper:('[Data Scientist][United Kingdom][21]', 'Checking for new jobs to load...')\n"
     ]
    },
    {
     "name": "stdout",
     "output_type": "stream",
     "text": [
      "[ON_ERROR] Message: javascript error: Cannot read property 'scrollIntoView' of null\n",
      "  (Session info: headless chrome=91.0.4472.114)\n",
      "\n",
      "Traceback (most recent call last):\n",
      "  File \"C:\\Users\\adin7\\.conda\\envs\\jobs-analysis\\lib\\site-packages\\linkedin_jobs_scraper\\strategies\\anonymous_strategy.py\", line 260, in run\n",
      "    job_id, job_link, job_title, job_company, job_place, job_date = driver.execute_script(\n",
      "  File \"C:\\Users\\adin7\\.conda\\envs\\jobs-analysis\\lib\\site-packages\\selenium\\webdriver\\remote\\webdriver.py\", line 634, in execute_script\n",
      "    return self.execute(command, {\n",
      "  File \"C:\\Users\\adin7\\.conda\\envs\\jobs-analysis\\lib\\site-packages\\selenium\\webdriver\\remote\\webdriver.py\", line 321, in execute\n",
      "    self.error_handler.check_response(response)\n",
      "  File \"C:\\Users\\adin7\\.conda\\envs\\jobs-analysis\\lib\\site-packages\\selenium\\webdriver\\remote\\errorhandler.py\", line 242, in check_response\n",
      "    raise exception_class(message, screen, stacktrace)\n",
      "selenium.common.exceptions.JavascriptException: Message: javascript error: Cannot read property 'scrollIntoView' of null\n",
      "  (Session info: headless chrome=91.0.4472.114)\n",
      "\n",
      "\n"
     ]
    },
    {
     "name": "stderr",
     "output_type": "stream",
     "text": [
      "INFO:li:scraper:('[Data Scientist][United Kingdom][21]', 'Found 50 jobs')\n",
      "INFO:li:scraper:('[Data Scientist][United Kingdom][21]', 'Processed')\n"
     ]
    },
    {
     "name": "stdout",
     "output_type": "stream",
     "text": [
      "[ON_DATA] C# & SQL Software Developer Ashdown 2021-06-23 https://uk.linkedin.com/jobs/view/c%23-sql-software-developer-at-ashdown-2615167602?refId=0T8J%2Fi7WJIy6MaJw5656rQ%3D%3D&trackingId=1hXDEwV0Hfwxd1BhTOwZjw%3D%3D&position=1&pageNum=1&trk=public_jobs_jserp-result_search-card 1237\n"
     ]
    },
    {
     "name": "stderr",
     "output_type": "stream",
     "text": [
      "WARNING:li:scraper:('[Data Scientist][United Kingdom]', '[429] Too many requests', 'You should probably increase scraper \"slow_mo\" value or reduce concurrency')\n",
      "INFO:li:scraper:('[Data Scientist][United Kingdom][22]', 'Processed')\n"
     ]
    },
    {
     "name": "stdout",
     "output_type": "stream",
     "text": [
      "[ON_DATA] C# ASP.Net Developer Ashdown 2021-06-23 https://uk.linkedin.com/jobs/view/c%23-asp-net-developer-at-ashdown-2615167548?refId=0T8J%2Fi7WJIy6MaJw5656rQ%3D%3D&trackingId=zDUfV3GL5zyEVPQ%2FICB8%2FA%3D%3D&position=2&pageNum=1&trk=public_jobs_jserp-result_search-card 1258\n"
     ]
    },
    {
     "name": "stderr",
     "output_type": "stream",
     "text": [
      "ERROR:li:scraper:('[Data Scientist][United Kingdom][23]', JavascriptException(\"javascript error: Cannot read property 'scrollIntoView' of null\\n  (Session info: headless chrome=91.0.4472.114)\", None, None), 'Traceback (most recent call last):\\n  File \"C:\\\\Users\\\\adin7\\\\.conda\\\\envs\\\\jobs-analysis\\\\lib\\\\site-packages\\\\linkedin_jobs_scraper\\\\strategies\\\\anonymous_strategy.py\", line 260, in run\\n    job_id, job_link, job_title, job_company, job_place, job_date = driver.execute_script(\\n  File \"C:\\\\Users\\\\adin7\\\\.conda\\\\envs\\\\jobs-analysis\\\\lib\\\\site-packages\\\\selenium\\\\webdriver\\\\remote\\\\webdriver.py\", line 634, in execute_script\\n    return self.execute(command, {\\n  File \"C:\\\\Users\\\\adin7\\\\.conda\\\\envs\\\\jobs-analysis\\\\lib\\\\site-packages\\\\selenium\\\\webdriver\\\\remote\\\\webdriver.py\", line 321, in execute\\n    self.error_handler.check_response(response)\\n  File \"C:\\\\Users\\\\adin7\\\\.conda\\\\envs\\\\jobs-analysis\\\\lib\\\\site-packages\\\\selenium\\\\webdriver\\\\remote\\\\errorhandler.py\", line 242, in check_response\\n    ...\n",
      "Traceback (most recent call last):\n",
      "  File \"C:\\Users\\adin7\\.conda\\envs\\jobs-analysis\\lib\\site-packages\\linkedin_jobs_scraper\\strategies\\anonymous_strategy.py\", line 260, in run\n",
      "    job_id, job_link, job_title, job_company, job_place, job_date = driver.execute_script(\n",
      "  File \"C:\\Users\\adin7\\.conda\\envs\\jobs-analysis\\lib\\site-packages\\selenium\\webdriver\\remote\\webdriver.py\", line 634, in execute_script\n",
      "    return self.execute(command, {\n",
      "  File \"C:\\Users\\adin7\\.conda\\envs\\jobs-analysis\\lib\\site-packages\\selenium\\webdriver\\remote\\webdriver.py\", line 321, in execute\n",
      "    self.error_handler.check_response(response)\n",
      "  File \"C:\\Users\\adin7\\.conda\\envs\\jobs-analysis\\lib\\site-packages\\selenium\\webdriver\\remote\\errorhandler.py\", line 242, in check_response\n",
      "    raise exception_class(message, screen, stacktrace)\n",
      "selenium.common.exceptions.JavascriptException: Message: javascript error: Cannot read property 'scrollIntoView' of null\n",
      "  (Session info: headless chrome=91.0.4472.114)\n",
      "\n"
     ]
    },
    {
     "name": "stdout",
     "output_type": "stream",
     "text": [
      "[ON_ERROR] Message: javascript error: Cannot read property 'scrollIntoView' of null\n",
      "  (Session info: headless chrome=91.0.4472.114)\n",
      "\n",
      "Traceback (most recent call last):\n",
      "  File \"C:\\Users\\adin7\\.conda\\envs\\jobs-analysis\\lib\\site-packages\\linkedin_jobs_scraper\\strategies\\anonymous_strategy.py\", line 260, in run\n",
      "    job_id, job_link, job_title, job_company, job_place, job_date = driver.execute_script(\n",
      "  File \"C:\\Users\\adin7\\.conda\\envs\\jobs-analysis\\lib\\site-packages\\selenium\\webdriver\\remote\\webdriver.py\", line 634, in execute_script\n",
      "    return self.execute(command, {\n",
      "  File \"C:\\Users\\adin7\\.conda\\envs\\jobs-analysis\\lib\\site-packages\\selenium\\webdriver\\remote\\webdriver.py\", line 321, in execute\n",
      "    self.error_handler.check_response(response)\n",
      "  File \"C:\\Users\\adin7\\.conda\\envs\\jobs-analysis\\lib\\site-packages\\selenium\\webdriver\\remote\\errorhandler.py\", line 242, in check_response\n",
      "    raise exception_class(message, screen, stacktrace)\n",
      "selenium.common.exceptions.JavascriptException: Message: javascript error: Cannot read property 'scrollIntoView' of null\n",
      "  (Session info: headless chrome=91.0.4472.114)\n",
      "\n",
      "\n"
     ]
    },
    {
     "name": "stderr",
     "output_type": "stream",
     "text": [
      "ERROR:li:scraper:('[Data Scientist][United Kingdom][23]', JavascriptException(\"javascript error: Cannot read property 'scrollIntoView' of null\\n  (Session info: headless chrome=91.0.4472.114)\", None, None), 'Traceback (most recent call last):\\n  File \"C:\\\\Users\\\\adin7\\\\.conda\\\\envs\\\\jobs-analysis\\\\lib\\\\site-packages\\\\linkedin_jobs_scraper\\\\strategies\\\\anonymous_strategy.py\", line 260, in run\\n    job_id, job_link, job_title, job_company, job_place, job_date = driver.execute_script(\\n  File \"C:\\\\Users\\\\adin7\\\\.conda\\\\envs\\\\jobs-analysis\\\\lib\\\\site-packages\\\\selenium\\\\webdriver\\\\remote\\\\webdriver.py\", line 634, in execute_script\\n    return self.execute(command, {\\n  File \"C:\\\\Users\\\\adin7\\\\.conda\\\\envs\\\\jobs-analysis\\\\lib\\\\site-packages\\\\selenium\\\\webdriver\\\\remote\\\\webdriver.py\", line 321, in execute\\n    self.error_handler.check_response(response)\\n  File \"C:\\\\Users\\\\adin7\\\\.conda\\\\envs\\\\jobs-analysis\\\\lib\\\\site-packages\\\\selenium\\\\webdriver\\\\remote\\\\errorhandler.py\", line 242, in check_response\\n    ...\n",
      "Traceback (most recent call last):\n",
      "  File \"C:\\Users\\adin7\\.conda\\envs\\jobs-analysis\\lib\\site-packages\\linkedin_jobs_scraper\\strategies\\anonymous_strategy.py\", line 260, in run\n",
      "    job_id, job_link, job_title, job_company, job_place, job_date = driver.execute_script(\n",
      "  File \"C:\\Users\\adin7\\.conda\\envs\\jobs-analysis\\lib\\site-packages\\selenium\\webdriver\\remote\\webdriver.py\", line 634, in execute_script\n",
      "    return self.execute(command, {\n",
      "  File \"C:\\Users\\adin7\\.conda\\envs\\jobs-analysis\\lib\\site-packages\\selenium\\webdriver\\remote\\webdriver.py\", line 321, in execute\n",
      "    self.error_handler.check_response(response)\n",
      "  File \"C:\\Users\\adin7\\.conda\\envs\\jobs-analysis\\lib\\site-packages\\selenium\\webdriver\\remote\\errorhandler.py\", line 242, in check_response\n",
      "    raise exception_class(message, screen, stacktrace)\n",
      "selenium.common.exceptions.JavascriptException: Message: javascript error: Cannot read property 'scrollIntoView' of null\n",
      "  (Session info: headless chrome=91.0.4472.114)\n",
      "\n"
     ]
    },
    {
     "name": "stdout",
     "output_type": "stream",
     "text": [
      "[ON_ERROR] Message: javascript error: Cannot read property 'scrollIntoView' of null\n",
      "  (Session info: headless chrome=91.0.4472.114)\n",
      "\n",
      "Traceback (most recent call last):\n",
      "  File \"C:\\Users\\adin7\\.conda\\envs\\jobs-analysis\\lib\\site-packages\\linkedin_jobs_scraper\\strategies\\anonymous_strategy.py\", line 260, in run\n",
      "    job_id, job_link, job_title, job_company, job_place, job_date = driver.execute_script(\n",
      "  File \"C:\\Users\\adin7\\.conda\\envs\\jobs-analysis\\lib\\site-packages\\selenium\\webdriver\\remote\\webdriver.py\", line 634, in execute_script\n",
      "    return self.execute(command, {\n",
      "  File \"C:\\Users\\adin7\\.conda\\envs\\jobs-analysis\\lib\\site-packages\\selenium\\webdriver\\remote\\webdriver.py\", line 321, in execute\n",
      "    self.error_handler.check_response(response)\n",
      "  File \"C:\\Users\\adin7\\.conda\\envs\\jobs-analysis\\lib\\site-packages\\selenium\\webdriver\\remote\\errorhandler.py\", line 242, in check_response\n",
      "    raise exception_class(message, screen, stacktrace)\n",
      "selenium.common.exceptions.JavascriptException: Message: javascript error: Cannot read property 'scrollIntoView' of null\n",
      "  (Session info: headless chrome=91.0.4472.114)\n",
      "\n",
      "\n"
     ]
    },
    {
     "name": "stderr",
     "output_type": "stream",
     "text": [
      "ERROR:li:scraper:('[Data Scientist][United Kingdom][23]', JavascriptException(\"javascript error: Cannot read property 'scrollIntoView' of null\\n  (Session info: headless chrome=91.0.4472.114)\", None, None), 'Traceback (most recent call last):\\n  File \"C:\\\\Users\\\\adin7\\\\.conda\\\\envs\\\\jobs-analysis\\\\lib\\\\site-packages\\\\linkedin_jobs_scraper\\\\strategies\\\\anonymous_strategy.py\", line 260, in run\\n    job_id, job_link, job_title, job_company, job_place, job_date = driver.execute_script(\\n  File \"C:\\\\Users\\\\adin7\\\\.conda\\\\envs\\\\jobs-analysis\\\\lib\\\\site-packages\\\\selenium\\\\webdriver\\\\remote\\\\webdriver.py\", line 634, in execute_script\\n    return self.execute(command, {\\n  File \"C:\\\\Users\\\\adin7\\\\.conda\\\\envs\\\\jobs-analysis\\\\lib\\\\site-packages\\\\selenium\\\\webdriver\\\\remote\\\\webdriver.py\", line 321, in execute\\n    self.error_handler.check_response(response)\\n  File \"C:\\\\Users\\\\adin7\\\\.conda\\\\envs\\\\jobs-analysis\\\\lib\\\\site-packages\\\\selenium\\\\webdriver\\\\remote\\\\errorhandler.py\", line 242, in check_response\\n    ...\n",
      "Traceback (most recent call last):\n",
      "  File \"C:\\Users\\adin7\\.conda\\envs\\jobs-analysis\\lib\\site-packages\\linkedin_jobs_scraper\\strategies\\anonymous_strategy.py\", line 260, in run\n",
      "    job_id, job_link, job_title, job_company, job_place, job_date = driver.execute_script(\n",
      "  File \"C:\\Users\\adin7\\.conda\\envs\\jobs-analysis\\lib\\site-packages\\selenium\\webdriver\\remote\\webdriver.py\", line 634, in execute_script\n",
      "    return self.execute(command, {\n",
      "  File \"C:\\Users\\adin7\\.conda\\envs\\jobs-analysis\\lib\\site-packages\\selenium\\webdriver\\remote\\webdriver.py\", line 321, in execute\n",
      "    self.error_handler.check_response(response)\n",
      "  File \"C:\\Users\\adin7\\.conda\\envs\\jobs-analysis\\lib\\site-packages\\selenium\\webdriver\\remote\\errorhandler.py\", line 242, in check_response\n",
      "    raise exception_class(message, screen, stacktrace)\n",
      "selenium.common.exceptions.JavascriptException: Message: javascript error: Cannot read property 'scrollIntoView' of null\n",
      "  (Session info: headless chrome=91.0.4472.114)\n",
      "\n"
     ]
    },
    {
     "name": "stdout",
     "output_type": "stream",
     "text": [
      "[ON_ERROR] Message: javascript error: Cannot read property 'scrollIntoView' of null\n",
      "  (Session info: headless chrome=91.0.4472.114)\n",
      "\n",
      "Traceback (most recent call last):\n",
      "  File \"C:\\Users\\adin7\\.conda\\envs\\jobs-analysis\\lib\\site-packages\\linkedin_jobs_scraper\\strategies\\anonymous_strategy.py\", line 260, in run\n",
      "    job_id, job_link, job_title, job_company, job_place, job_date = driver.execute_script(\n",
      "  File \"C:\\Users\\adin7\\.conda\\envs\\jobs-analysis\\lib\\site-packages\\selenium\\webdriver\\remote\\webdriver.py\", line 634, in execute_script\n",
      "    return self.execute(command, {\n",
      "  File \"C:\\Users\\adin7\\.conda\\envs\\jobs-analysis\\lib\\site-packages\\selenium\\webdriver\\remote\\webdriver.py\", line 321, in execute\n",
      "    self.error_handler.check_response(response)\n",
      "  File \"C:\\Users\\adin7\\.conda\\envs\\jobs-analysis\\lib\\site-packages\\selenium\\webdriver\\remote\\errorhandler.py\", line 242, in check_response\n",
      "    raise exception_class(message, screen, stacktrace)\n",
      "selenium.common.exceptions.JavascriptException: Message: javascript error: Cannot read property 'scrollIntoView' of null\n",
      "  (Session info: headless chrome=91.0.4472.114)\n",
      "\n",
      "\n"
     ]
    },
    {
     "name": "stderr",
     "output_type": "stream",
     "text": [
      "INFO:li:scraper:('[Data Scientist][United Kingdom][23]', 'Processed')\n"
     ]
    },
    {
     "name": "stdout",
     "output_type": "stream",
     "text": [
      "[ON_DATA] Software Sales Development Executive x2 - TL/SDE/LON Park Lane Recruitment Ltd 2021-06-23 https://uk.linkedin.com/jobs/view/software-sales-development-executive-x2-tl-sde-lon-at-park-lane-recruitment-ltd-2615160823?refId=0T8J%2Fi7WJIy6MaJw5656rQ%3D%3D&trackingId=e62eaRWaWUp3HheQpdkDdQ%3D%3D&position=6&pageNum=1&trk=public_jobs_jserp-result_search-card 5230\n"
     ]
    },
    {
     "name": "stderr",
     "output_type": "stream",
     "text": [
      "INFO:li:scraper:('[Data Scientist][United Kingdom][24]', 'Processed')\n"
     ]
    },
    {
     "name": "stdout",
     "output_type": "stream",
     "text": [
      "[ON_DATA] Sr. Data Warehouse Engineer Zapnito 2021-06-23 https://uk.linkedin.com/jobs/view/sr-data-warehouse-engineer-at-zapnito-2610047702?refId=0T8J%2Fi7WJIy6MaJw5656rQ%3D%3D&trackingId=9Y7U0ZiIOddUnyR6ahdJ6A%3D%3D&position=7&pageNum=1&trk=public_jobs_jserp-result_search-card 4385\n"
     ]
    },
    {
     "name": "stderr",
     "output_type": "stream",
     "text": [
      "INFO:li:scraper:('[Data Scientist][United Kingdom][25]', 'Processed')\n"
     ]
    },
    {
     "name": "stdout",
     "output_type": "stream",
     "text": [
      "[ON_DATA] Data Cabling Engineer DCS Recruitment 2021-06-23 https://uk.linkedin.com/jobs/view/data-cabling-engineer-at-dcs-recruitment-2615157988?refId=0T8J%2Fi7WJIy6MaJw5656rQ%3D%3D&trackingId=95sSSPBZYMdgm8CYdM3LKw%3D%3D&position=8&pageNum=1&trk=public_jobs_jserp-result_search-card 932\n"
     ]
    },
    {
     "name": "stderr",
     "output_type": "stream",
     "text": [
      "INFO:li:scraper:('[Data Scientist][United Kingdom][26]', 'Processed')\n"
     ]
    },
    {
     "name": "stdout",
     "output_type": "stream",
     "text": [
      "[ON_DATA] Analytical Chemist - Data Verification Rowland Talent Solutions 2021-06-23 https://uk.linkedin.com/jobs/view/analytical-chemist-data-verification-at-rowland-talent-solutions-2615161436?refId=0T8J%2Fi7WJIy6MaJw5656rQ%3D%3D&trackingId=iJHEJ4W6ktW3KswqPfSumw%3D%3D&position=9&pageNum=1&trk=public_jobs_jserp-result_search-card 1188\n"
     ]
    },
    {
     "name": "stderr",
     "output_type": "stream",
     "text": [
      "INFO:li:scraper:('[Data Scientist][United Kingdom][27]', 'Processed')\n"
     ]
    },
    {
     "name": "stdout",
     "output_type": "stream",
     "text": [
      "[ON_DATA] Cloud Engineer Python C++ - R&D Client Server 2021-06-23 https://uk.linkedin.com/jobs/view/cloud-engineer-python-c%2B%2B-r-d-at-client-server-2610048423?refId=0T8J%2Fi7WJIy6MaJw5656rQ%3D%3D&trackingId=jEVLtcSUmcoTqndIB4ApTQ%3D%3D&position=10&pageNum=1&trk=public_jobs_jserp-result_search-card 1956\n"
     ]
    },
    {
     "name": "stderr",
     "output_type": "stream",
     "text": [
      "INFO:li:scraper:('[Data Scientist][United Kingdom][28]', 'Processed')\n"
     ]
    },
    {
     "name": "stdout",
     "output_type": "stream",
     "text": [
      "[ON_DATA] Software Engineer Django JavaScript - Remote Client Server 2021-06-23 https://uk.linkedin.com/jobs/view/software-engineer-django-javascript-remote-at-client-server-2610052096?refId=0T8J%2Fi7WJIy6MaJw5656rQ%3D%3D&trackingId=p1JvrQiUznnVVifauf5l6w%3D%3D&position=11&pageNum=1&trk=public_jobs_jserp-result_search-card 1342\n"
     ]
    },
    {
     "name": "stderr",
     "output_type": "stream",
     "text": [
      "INFO:li:scraper:('[Data Scientist][United Kingdom][29]', 'Processed')\n"
     ]
    },
    {
     "name": "stdout",
     "output_type": "stream",
     "text": [
      "[ON_DATA] Software Engineer Virgin Media 2021-06-23 https://uk.linkedin.com/jobs/view/software-engineer-at-virgin-media-2610053049?refId=0T8J%2Fi7WJIy6MaJw5656rQ%3D%3D&trackingId=inD0wa8zPM3Hr%2BJz%2FNO6Zw%3D%3D&position=12&pageNum=1&trk=public_jobs_jserp-result_search-card 3929\n"
     ]
    },
    {
     "name": "stderr",
     "output_type": "stream",
     "text": [
      "INFO:li:scraper:('[Data Scientist][United Kingdom][30]', 'Processed')\n"
     ]
    },
    {
     "name": "stdout",
     "output_type": "stream",
     "text": [
      "[ON_DATA] Data Engineer Python SQL - Sports Data Client Server 2021-06-23 https://uk.linkedin.com/jobs/view/data-engineer-python-sql-sports-data-at-client-server-2610046701?refId=0T8J%2Fi7WJIy6MaJw5656rQ%3D%3D&trackingId=DpbgZra5YD1%2BeUpCN5UIRQ%3D%3D&position=13&pageNum=1&trk=public_jobs_jserp-result_search-card 1961\n"
     ]
    },
    {
     "name": "stderr",
     "output_type": "stream",
     "text": [
      "INFO:li:scraper:('[Data Scientist][Scotland]', 'Opening https://www.linkedin.com/jobs/search?keywords=Data+Scientist&location=Scotland&sortBy=DD&f_TPR=r2592000')\n",
      "INFO:li:scraper:('[Data Scientist][Scotland]', 'Trying first selectors set')\n",
      "INFO:li:scraper:('[Data Scientist][Scotland]', 'Trying second selectors set')\n",
      "INFO:li:scraper:('[Data Scientist][Scotland]', 'OK')\n",
      "INFO:li:scraper:('[Data Scientist][Scotland]', 'Starting pagination loop')\n",
      "INFO:li:scraper:('[Data Scientist][Scotland]', 'Found 23 jobs')\n",
      "INFO:li:scraper:('[Data Scientist][Scotland][1]', 'Processed')\n"
     ]
    },
    {
     "name": "stdout",
     "output_type": "stream",
     "text": [
      "[ON_DATA] Software Engineer N-able 2021-06-23 https://uk.linkedin.com/jobs/view/software-engineer-at-n-able-2604282347?refId=oWjhr72%2FHzFkGC40DnHogQ%3D%3D&trackingId=QV3EC1bO28Z9teJSHcc4rA%3D%3D&position=1&pageNum=0&trk=public_jobs_jserp-result_search-card 4108\n"
     ]
    },
    {
     "name": "stderr",
     "output_type": "stream",
     "text": [
      "INFO:li:scraper:('[Data Scientist][Scotland][2]', 'Processed')\n"
     ]
    },
    {
     "name": "stdout",
     "output_type": "stream",
     "text": [
      "[ON_DATA] Software Engineer Fortive 2021-06-23 https://uk.linkedin.com/jobs/view/software-engineer-at-fortive-2615173453?refId=oWjhr72%2FHzFkGC40DnHogQ%3D%3D&trackingId=3RBNhDhd5dthjfYZe7cK5Q%3D%3D&position=2&pageNum=0&trk=public_jobs_jserp-result_search-card 3178\n"
     ]
    },
    {
     "name": "stderr",
     "output_type": "stream",
     "text": [
      "ERROR:li:scraper:('[Data Scientist][Scotland][3]', JavascriptException(\"javascript error: Cannot read property 'scrollIntoView' of null\\n  (Session info: headless chrome=91.0.4472.114)\", None, None), 'Traceback (most recent call last):\\n  File \"C:\\\\Users\\\\adin7\\\\.conda\\\\envs\\\\jobs-analysis\\\\lib\\\\site-packages\\\\linkedin_jobs_scraper\\\\strategies\\\\anonymous_strategy.py\", line 260, in run\\n    job_id, job_link, job_title, job_company, job_place, job_date = driver.execute_script(\\n  File \"C:\\\\Users\\\\adin7\\\\.conda\\\\envs\\\\jobs-analysis\\\\lib\\\\site-packages\\\\selenium\\\\webdriver\\\\remote\\\\webdriver.py\", line 634, in execute_script\\n    return self.execute(command, {\\n  File \"C:\\\\Users\\\\adin7\\\\.conda\\\\envs\\\\jobs-analysis\\\\lib\\\\site-packages\\\\selenium\\\\webdriver\\\\remote\\\\webdriver.py\", line 321, in execute\\n    self.error_handler.check_response(response)\\n  File \"C:\\\\Users\\\\adin7\\\\.conda\\\\envs\\\\jobs-analysis\\\\lib\\\\site-packages\\\\selenium\\\\webdriver\\\\remote\\\\errorhandler.py\", line 242, in check_response\\n    raise e...\n",
      "Traceback (most recent call last):\n",
      "  File \"C:\\Users\\adin7\\.conda\\envs\\jobs-analysis\\lib\\site-packages\\linkedin_jobs_scraper\\strategies\\anonymous_strategy.py\", line 260, in run\n",
      "    job_id, job_link, job_title, job_company, job_place, job_date = driver.execute_script(\n",
      "  File \"C:\\Users\\adin7\\.conda\\envs\\jobs-analysis\\lib\\site-packages\\selenium\\webdriver\\remote\\webdriver.py\", line 634, in execute_script\n",
      "    return self.execute(command, {\n",
      "  File \"C:\\Users\\adin7\\.conda\\envs\\jobs-analysis\\lib\\site-packages\\selenium\\webdriver\\remote\\webdriver.py\", line 321, in execute\n",
      "    self.error_handler.check_response(response)\n",
      "  File \"C:\\Users\\adin7\\.conda\\envs\\jobs-analysis\\lib\\site-packages\\selenium\\webdriver\\remote\\errorhandler.py\", line 242, in check_response\n",
      "    raise exception_class(message, screen, stacktrace)\n",
      "selenium.common.exceptions.JavascriptException: Message: javascript error: Cannot read property 'scrollIntoView' of null\n",
      "  (Session info: headless chrome=91.0.4472.114)\n",
      "\n"
     ]
    },
    {
     "name": "stdout",
     "output_type": "stream",
     "text": [
      "[ON_ERROR] Message: javascript error: Cannot read property 'scrollIntoView' of null\n",
      "  (Session info: headless chrome=91.0.4472.114)\n",
      "\n",
      "Traceback (most recent call last):\n",
      "  File \"C:\\Users\\adin7\\.conda\\envs\\jobs-analysis\\lib\\site-packages\\linkedin_jobs_scraper\\strategies\\anonymous_strategy.py\", line 260, in run\n",
      "    job_id, job_link, job_title, job_company, job_place, job_date = driver.execute_script(\n",
      "  File \"C:\\Users\\adin7\\.conda\\envs\\jobs-analysis\\lib\\site-packages\\selenium\\webdriver\\remote\\webdriver.py\", line 634, in execute_script\n",
      "    return self.execute(command, {\n",
      "  File \"C:\\Users\\adin7\\.conda\\envs\\jobs-analysis\\lib\\site-packages\\selenium\\webdriver\\remote\\webdriver.py\", line 321, in execute\n",
      "    self.error_handler.check_response(response)\n",
      "  File \"C:\\Users\\adin7\\.conda\\envs\\jobs-analysis\\lib\\site-packages\\selenium\\webdriver\\remote\\errorhandler.py\", line 242, in check_response\n",
      "    raise exception_class(message, screen, stacktrace)\n",
      "selenium.common.exceptions.JavascriptException: Message: javascript error: Cannot read property 'scrollIntoView' of null\n",
      "  (Session info: headless chrome=91.0.4472.114)\n",
      "\n",
      "\n"
     ]
    },
    {
     "name": "stderr",
     "output_type": "stream",
     "text": [
      "INFO:li:scraper:('[Data Scientist][Scotland][3]', 'Processed')\n"
     ]
    },
    {
     "name": "stdout",
     "output_type": "stream",
     "text": [
      "[ON_DATA] Data Backend Engineer (remote) Yelp 2021-06-23 https://uk.linkedin.com/jobs/view/data-backend-engineer-remote-at-yelp-2604242940?refId=oWjhr72%2FHzFkGC40DnHogQ%3D%3D&trackingId=cCV8d1nZOjwTgUnZXIedlQ%3D%3D&position=4&pageNum=0&trk=public_jobs_jserp-result_search-card 4453\n"
     ]
    },
    {
     "name": "stderr",
     "output_type": "stream",
     "text": [
      "INFO:li:scraper:('[Data Scientist][Scotland][4]', 'Processed')\n"
     ]
    },
    {
     "name": "stdout",
     "output_type": "stream",
     "text": [
      "[ON_DATA] Software Engineer BJSS 2021-06-23 https://uk.linkedin.com/jobs/view/software-engineer-at-bjss-2610018804?refId=oWjhr72%2FHzFkGC40DnHogQ%3D%3D&trackingId=tY0rT0P2S%2FidKykEKTUBBQ%3D%3D&position=5&pageNum=0&trk=public_jobs_jserp-result_search-card 2304\n"
     ]
    },
    {
     "name": "stderr",
     "output_type": "stream",
     "text": [
      "INFO:li:scraper:('[Data Scientist][Scotland][5]', 'Processed')\n"
     ]
    },
    {
     "name": "stdout",
     "output_type": "stream",
     "text": [
      "[ON_DATA] Software Engineer - Golang! 🇬🇧 Couchbase 2021-06-23 https://uk.linkedin.com/jobs/view/software-engineer-golang%21-%F0%9F%87%AC%F0%9F%87%A7-at-couchbase-2577064986?refId=oWjhr72%2FHzFkGC40DnHogQ%3D%3D&trackingId=oNavOnHLP03VjVot6UahAg%3D%3D&position=6&pageNum=0&trk=public_jobs_jserp-result_search-card 6229\n"
     ]
    },
    {
     "name": "stderr",
     "output_type": "stream",
     "text": [
      "INFO:li:scraper:('[Data Scientist][Scotland][6]', 'Processed')\n"
     ]
    },
    {
     "name": "stdout",
     "output_type": "stream",
     "text": [
      "[ON_DATA] Software Engineer Wood Mackenzie 2021-06-23 https://uk.linkedin.com/jobs/view/software-engineer-at-wood-mackenzie-2610018395?refId=oWjhr72%2FHzFkGC40DnHogQ%3D%3D&trackingId=621MawO6OQbsynmppSDurg%3D%3D&position=7&pageNum=0&trk=public_jobs_jserp-result_search-card 6606\n"
     ]
    },
    {
     "name": "stderr",
     "output_type": "stream",
     "text": [
      "INFO:li:scraper:('[Data Scientist][Scotland][7]', 'Processed')\n"
     ]
    },
    {
     "name": "stdout",
     "output_type": "stream",
     "text": [
      "[ON_DATA] Software Engineer - Full Stack JPMorgan Chase & Co. 2021-06-23 https://uk.linkedin.com/jobs/view/software-engineer-full-stack-at-jpmorgan-chase-co-2604231601?refId=oWjhr72%2FHzFkGC40DnHogQ%3D%3D&trackingId=tzBl4N6nrq5OaDIMen9xyw%3D%3D&position=8&pageNum=0&trk=public_jobs_jserp-result_search-card 3180\n"
     ]
    },
    {
     "name": "stderr",
     "output_type": "stream",
     "text": [
      "INFO:li:scraper:('[Data Scientist][Scotland][8]', 'Processed')\n"
     ]
    },
    {
     "name": "stdout",
     "output_type": "stream",
     "text": [
      "[ON_DATA] Data DevOps Engineer (Hadoop Platform) (Bangkok based, Relocation provided) Agoda 2021-06-23 https://uk.linkedin.com/jobs/view/data-devops-engineer-hadoop-platform-bangkok-based-relocation-provided-at-agoda-2604226862?refId=oWjhr72%2FHzFkGC40DnHogQ%3D%3D&trackingId=x1b67w6rnMTQeLdG%2FsPGeg%3D%3D&position=9&pageNum=0&trk=public_jobs_jserp-result_search-card 3906\n"
     ]
    },
    {
     "name": "stderr",
     "output_type": "stream",
     "text": [
      "INFO:li:scraper:('[Data Scientist][Scotland][9]', 'Processed')\n"
     ]
    },
    {
     "name": "stdout",
     "output_type": "stream",
     "text": [
      "[ON_DATA] Software Engineer - UI/React JPMorgan Chase & Co. 2021-06-23 https://uk.linkedin.com/jobs/view/software-engineer-ui-react-at-jpmorgan-chase-co-2604224946?refId=oWjhr72%2FHzFkGC40DnHogQ%3D%3D&trackingId=zD0LUcGKPzMCV2U8BawNtw%3D%3D&position=10&pageNum=0&trk=public_jobs_jserp-result_search-card 2571\n"
     ]
    },
    {
     "name": "stderr",
     "output_type": "stream",
     "text": [
      "INFO:li:scraper:('[Data Scientist][Scotland][10]', 'Processed')\n"
     ]
    },
    {
     "name": "stdout",
     "output_type": "stream",
     "text": [
      "[ON_DATA] Lead Software Engineer (Big Data) JPMorgan Chase & Co. 2021-06-23 https://uk.linkedin.com/jobs/view/lead-software-engineer-big-data-at-jpmorgan-chase-co-2604228137?refId=oWjhr72%2FHzFkGC40DnHogQ%3D%3D&trackingId=WahcaQEOGmVV8NZE7yeTfg%3D%3D&position=11&pageNum=0&trk=public_jobs_jserp-result_search-card 2856\n"
     ]
    },
    {
     "name": "stderr",
     "output_type": "stream",
     "text": [
      "INFO:li:scraper:('[Data Scientist][Scotland][11]', 'Processed')\n"
     ]
    },
    {
     "name": "stdout",
     "output_type": "stream",
     "text": [
      "[ON_DATA] Software Engineer - React JPMorgan Chase & Co. 2021-06-23 https://uk.linkedin.com/jobs/view/software-engineer-react-at-jpmorgan-chase-co-2604227413?refId=oWjhr72%2FHzFkGC40DnHogQ%3D%3D&trackingId=JnCSXUSgHK4FQQsZTxmKXA%3D%3D&position=12&pageNum=0&trk=public_jobs_jserp-result_search-card 2563\n"
     ]
    },
    {
     "name": "stderr",
     "output_type": "stream",
     "text": [
      "INFO:li:scraper:('[Data Scientist][Scotland][12]', 'Processed')\n"
     ]
    },
    {
     "name": "stdout",
     "output_type": "stream",
     "text": [
      "[ON_DATA] Java Software Engineer - Big Data JPMorgan Chase & Co. 2021-06-23 https://uk.linkedin.com/jobs/view/java-software-engineer-big-data-at-jpmorgan-chase-co-2604222936?refId=oWjhr72%2FHzFkGC40DnHogQ%3D%3D&trackingId=HlFqwTAVIrOtWoQVhRTlQQ%3D%3D&position=13&pageNum=0&trk=public_jobs_jserp-result_search-card 4095\n"
     ]
    },
    {
     "name": "stderr",
     "output_type": "stream",
     "text": [
      "INFO:li:scraper:('[Data Scientist][Scotland][13]', 'Processed')\n"
     ]
    },
    {
     "name": "stdout",
     "output_type": "stream",
     "text": [
      "[ON_DATA] Data Analyst BayWa r.e. UK & Ireland 2021-06-23 https://uk.linkedin.com/jobs/view/data-analyst-at-baywa-r-e-uk-ireland-2614799434?refId=oWjhr72%2FHzFkGC40DnHogQ%3D%3D&trackingId=DvhHBw1iJHFE4nXMXo1fdg%3D%3D&position=14&pageNum=0&trk=public_jobs_jserp-result_search-card 1989\n"
     ]
    },
    {
     "name": "stderr",
     "output_type": "stream",
     "text": [
      "INFO:li:scraper:('[Data Scientist][Scotland][14]', 'Processed')\n"
     ]
    },
    {
     "name": "stdout",
     "output_type": "stream",
     "text": [
      "[ON_DATA] Software Engineer - Python - OTC Derivatives JPMorgan Chase & Co. 2021-06-23 https://uk.linkedin.com/jobs/view/software-engineer-python-otc-derivatives-at-jpmorgan-chase-co-2604223836?refId=oWjhr72%2FHzFkGC40DnHogQ%3D%3D&trackingId=%2BcvFFCeZ9%2Ffu03vUQgrbOg%3D%3D&position=15&pageNum=0&trk=public_jobs_jserp-result_search-card 3761\n"
     ]
    },
    {
     "name": "stderr",
     "output_type": "stream",
     "text": [
      "INFO:li:scraper:('[Data Scientist][Scotland][15]', 'Processed')\n"
     ]
    },
    {
     "name": "stdout",
     "output_type": "stream",
     "text": [
      "[ON_DATA] Client Data Analyst - WM Client Operations - ROH1266 JPMorgan Chase & Co. 2021-06-23 https://uk.linkedin.com/jobs/view/client-data-analyst-wm-client-operations-roh1266-at-jpmorgan-chase-co-2604220818?refId=oWjhr72%2FHzFkGC40DnHogQ%3D%3D&trackingId=ECK4iMoW2MGLShDfbrc73w%3D%3D&position=16&pageNum=0&trk=public_jobs_jserp-result_search-card 4483\n"
     ]
    },
    {
     "name": "stderr",
     "output_type": "stream",
     "text": [
      "INFO:li:scraper:('[Data Scientist][Scotland][16]', 'Processed')\n"
     ]
    },
    {
     "name": "stdout",
     "output_type": "stream",
     "text": [
      "[ON_DATA] Internship - Reinforcement Learning Five AI 2021-06-23 https://uk.linkedin.com/jobs/view/internship-reinforcement-learning-at-five-ai-2614797208?refId=oWjhr72%2FHzFkGC40DnHogQ%3D%3D&trackingId=rG2S573sBV6l1WVdkMJEqQ%3D%3D&position=17&pageNum=0&trk=public_jobs_jserp-result_search-card 4032\n"
     ]
    },
    {
     "name": "stderr",
     "output_type": "stream",
     "text": [
      "INFO:li:scraper:('[Data Scientist][Scotland][17]', 'Processed')\n"
     ]
    },
    {
     "name": "stdout",
     "output_type": "stream",
     "text": [
      "[ON_DATA] Senior Researcher in Environmental Governance The James Hutton Institute 2021-06-23 https://uk.linkedin.com/jobs/view/senior-researcher-in-environmental-governance-at-the-james-hutton-institute-2614777921?refId=oWjhr72%2FHzFkGC40DnHogQ%3D%3D&trackingId=HdnZ5AT2WY67Hin5qqENuw%3D%3D&position=18&pageNum=0&trk=public_jobs_jserp-result_search-card 5876\n"
     ]
    },
    {
     "name": "stderr",
     "output_type": "stream",
     "text": [
      "INFO:li:scraper:('[Data Scientist][Scotland][18]', 'Processed')\n"
     ]
    },
    {
     "name": "stdout",
     "output_type": "stream",
     "text": [
      "[ON_DATA] Software Developer First Military Recruitment 2021-06-23 https://uk.linkedin.com/jobs/view/software-developer-at-first-military-recruitment-2614777289?refId=oWjhr72%2FHzFkGC40DnHogQ%3D%3D&trackingId=%2Fc3TokbUsaR%2Bgbj0tlioHQ%3D%3D&position=19&pageNum=0&trk=public_jobs_jserp-result_search-card 2350\n"
     ]
    },
    {
     "name": "stderr",
     "output_type": "stream",
     "text": [
      "ERROR:li:scraper:('[Data Scientist][Scotland][19]', JavascriptException(\"javascript error: Cannot read property 'scrollIntoView' of null\\n  (Session info: headless chrome=91.0.4472.114)\", None, None), 'Traceback (most recent call last):\\n  File \"C:\\\\Users\\\\adin7\\\\.conda\\\\envs\\\\jobs-analysis\\\\lib\\\\site-packages\\\\linkedin_jobs_scraper\\\\strategies\\\\anonymous_strategy.py\", line 260, in run\\n    job_id, job_link, job_title, job_company, job_place, job_date = driver.execute_script(\\n  File \"C:\\\\Users\\\\adin7\\\\.conda\\\\envs\\\\jobs-analysis\\\\lib\\\\site-packages\\\\selenium\\\\webdriver\\\\remote\\\\webdriver.py\", line 634, in execute_script\\n    return self.execute(command, {\\n  File \"C:\\\\Users\\\\adin7\\\\.conda\\\\envs\\\\jobs-analysis\\\\lib\\\\site-packages\\\\selenium\\\\webdriver\\\\remote\\\\webdriver.py\", line 321, in execute\\n    self.error_handler.check_response(response)\\n  File \"C:\\\\Users\\\\adin7\\\\.conda\\\\envs\\\\jobs-analysis\\\\lib\\\\site-packages\\\\selenium\\\\webdriver\\\\remote\\\\errorhandler.py\", line 242, in check_response\\n    raise ...\n",
      "Traceback (most recent call last):\n",
      "  File \"C:\\Users\\adin7\\.conda\\envs\\jobs-analysis\\lib\\site-packages\\linkedin_jobs_scraper\\strategies\\anonymous_strategy.py\", line 260, in run\n",
      "    job_id, job_link, job_title, job_company, job_place, job_date = driver.execute_script(\n",
      "  File \"C:\\Users\\adin7\\.conda\\envs\\jobs-analysis\\lib\\site-packages\\selenium\\webdriver\\remote\\webdriver.py\", line 634, in execute_script\n",
      "    return self.execute(command, {\n",
      "  File \"C:\\Users\\adin7\\.conda\\envs\\jobs-analysis\\lib\\site-packages\\selenium\\webdriver\\remote\\webdriver.py\", line 321, in execute\n",
      "    self.error_handler.check_response(response)\n",
      "  File \"C:\\Users\\adin7\\.conda\\envs\\jobs-analysis\\lib\\site-packages\\selenium\\webdriver\\remote\\errorhandler.py\", line 242, in check_response\n",
      "    raise exception_class(message, screen, stacktrace)\n",
      "selenium.common.exceptions.JavascriptException: Message: javascript error: Cannot read property 'scrollIntoView' of null\n",
      "  (Session info: headless chrome=91.0.4472.114)\n",
      "\n"
     ]
    },
    {
     "name": "stdout",
     "output_type": "stream",
     "text": [
      "[ON_ERROR] Message: javascript error: Cannot read property 'scrollIntoView' of null\n",
      "  (Session info: headless chrome=91.0.4472.114)\n",
      "\n",
      "Traceback (most recent call last):\n",
      "  File \"C:\\Users\\adin7\\.conda\\envs\\jobs-analysis\\lib\\site-packages\\linkedin_jobs_scraper\\strategies\\anonymous_strategy.py\", line 260, in run\n",
      "    job_id, job_link, job_title, job_company, job_place, job_date = driver.execute_script(\n",
      "  File \"C:\\Users\\adin7\\.conda\\envs\\jobs-analysis\\lib\\site-packages\\selenium\\webdriver\\remote\\webdriver.py\", line 634, in execute_script\n",
      "    return self.execute(command, {\n",
      "  File \"C:\\Users\\adin7\\.conda\\envs\\jobs-analysis\\lib\\site-packages\\selenium\\webdriver\\remote\\webdriver.py\", line 321, in execute\n",
      "    self.error_handler.check_response(response)\n",
      "  File \"C:\\Users\\adin7\\.conda\\envs\\jobs-analysis\\lib\\site-packages\\selenium\\webdriver\\remote\\errorhandler.py\", line 242, in check_response\n",
      "    raise exception_class(message, screen, stacktrace)\n",
      "selenium.common.exceptions.JavascriptException: Message: javascript error: Cannot read property 'scrollIntoView' of null\n",
      "  (Session info: headless chrome=91.0.4472.114)\n",
      "\n",
      "\n"
     ]
    },
    {
     "name": "stderr",
     "output_type": "stream",
     "text": [
      "ERROR:li:scraper:('[Data Scientist][Scotland][19]', JavascriptException(\"javascript error: Cannot read property 'scrollIntoView' of null\\n  (Session info: headless chrome=91.0.4472.114)\", None, None), 'Traceback (most recent call last):\\n  File \"C:\\\\Users\\\\adin7\\\\.conda\\\\envs\\\\jobs-analysis\\\\lib\\\\site-packages\\\\linkedin_jobs_scraper\\\\strategies\\\\anonymous_strategy.py\", line 260, in run\\n    job_id, job_link, job_title, job_company, job_place, job_date = driver.execute_script(\\n  File \"C:\\\\Users\\\\adin7\\\\.conda\\\\envs\\\\jobs-analysis\\\\lib\\\\site-packages\\\\selenium\\\\webdriver\\\\remote\\\\webdriver.py\", line 634, in execute_script\\n    return self.execute(command, {\\n  File \"C:\\\\Users\\\\adin7\\\\.conda\\\\envs\\\\jobs-analysis\\\\lib\\\\site-packages\\\\selenium\\\\webdriver\\\\remote\\\\webdriver.py\", line 321, in execute\\n    self.error_handler.check_response(response)\\n  File \"C:\\\\Users\\\\adin7\\\\.conda\\\\envs\\\\jobs-analysis\\\\lib\\\\site-packages\\\\selenium\\\\webdriver\\\\remote\\\\errorhandler.py\", line 242, in check_response\\n    raise ...\n",
      "Traceback (most recent call last):\n",
      "  File \"C:\\Users\\adin7\\.conda\\envs\\jobs-analysis\\lib\\site-packages\\linkedin_jobs_scraper\\strategies\\anonymous_strategy.py\", line 260, in run\n",
      "    job_id, job_link, job_title, job_company, job_place, job_date = driver.execute_script(\n",
      "  File \"C:\\Users\\adin7\\.conda\\envs\\jobs-analysis\\lib\\site-packages\\selenium\\webdriver\\remote\\webdriver.py\", line 634, in execute_script\n",
      "    return self.execute(command, {\n",
      "  File \"C:\\Users\\adin7\\.conda\\envs\\jobs-analysis\\lib\\site-packages\\selenium\\webdriver\\remote\\webdriver.py\", line 321, in execute\n",
      "    self.error_handler.check_response(response)\n",
      "  File \"C:\\Users\\adin7\\.conda\\envs\\jobs-analysis\\lib\\site-packages\\selenium\\webdriver\\remote\\errorhandler.py\", line 242, in check_response\n",
      "    raise exception_class(message, screen, stacktrace)\n",
      "selenium.common.exceptions.JavascriptException: Message: javascript error: Cannot read property 'scrollIntoView' of null\n",
      "  (Session info: headless chrome=91.0.4472.114)\n",
      "\n"
     ]
    },
    {
     "name": "stdout",
     "output_type": "stream",
     "text": [
      "[ON_ERROR] Message: javascript error: Cannot read property 'scrollIntoView' of null\n",
      "  (Session info: headless chrome=91.0.4472.114)\n",
      "\n",
      "Traceback (most recent call last):\n",
      "  File \"C:\\Users\\adin7\\.conda\\envs\\jobs-analysis\\lib\\site-packages\\linkedin_jobs_scraper\\strategies\\anonymous_strategy.py\", line 260, in run\n",
      "    job_id, job_link, job_title, job_company, job_place, job_date = driver.execute_script(\n",
      "  File \"C:\\Users\\adin7\\.conda\\envs\\jobs-analysis\\lib\\site-packages\\selenium\\webdriver\\remote\\webdriver.py\", line 634, in execute_script\n",
      "    return self.execute(command, {\n",
      "  File \"C:\\Users\\adin7\\.conda\\envs\\jobs-analysis\\lib\\site-packages\\selenium\\webdriver\\remote\\webdriver.py\", line 321, in execute\n",
      "    self.error_handler.check_response(response)\n",
      "  File \"C:\\Users\\adin7\\.conda\\envs\\jobs-analysis\\lib\\site-packages\\selenium\\webdriver\\remote\\errorhandler.py\", line 242, in check_response\n",
      "    raise exception_class(message, screen, stacktrace)\n",
      "selenium.common.exceptions.JavascriptException: Message: javascript error: Cannot read property 'scrollIntoView' of null\n",
      "  (Session info: headless chrome=91.0.4472.114)\n",
      "\n",
      "\n"
     ]
    },
    {
     "name": "stderr",
     "output_type": "stream",
     "text": [
      "ERROR:li:scraper:('[Data Scientist][Scotland][19]', JavascriptException(\"javascript error: Cannot read property 'scrollIntoView' of null\\n  (Session info: headless chrome=91.0.4472.114)\", None, None), 'Traceback (most recent call last):\\n  File \"C:\\\\Users\\\\adin7\\\\.conda\\\\envs\\\\jobs-analysis\\\\lib\\\\site-packages\\\\linkedin_jobs_scraper\\\\strategies\\\\anonymous_strategy.py\", line 260, in run\\n    job_id, job_link, job_title, job_company, job_place, job_date = driver.execute_script(\\n  File \"C:\\\\Users\\\\adin7\\\\.conda\\\\envs\\\\jobs-analysis\\\\lib\\\\site-packages\\\\selenium\\\\webdriver\\\\remote\\\\webdriver.py\", line 634, in execute_script\\n    return self.execute(command, {\\n  File \"C:\\\\Users\\\\adin7\\\\.conda\\\\envs\\\\jobs-analysis\\\\lib\\\\site-packages\\\\selenium\\\\webdriver\\\\remote\\\\webdriver.py\", line 321, in execute\\n    self.error_handler.check_response(response)\\n  File \"C:\\\\Users\\\\adin7\\\\.conda\\\\envs\\\\jobs-analysis\\\\lib\\\\site-packages\\\\selenium\\\\webdriver\\\\remote\\\\errorhandler.py\", line 242, in check_response\\n    raise ...\n",
      "Traceback (most recent call last):\n",
      "  File \"C:\\Users\\adin7\\.conda\\envs\\jobs-analysis\\lib\\site-packages\\linkedin_jobs_scraper\\strategies\\anonymous_strategy.py\", line 260, in run\n",
      "    job_id, job_link, job_title, job_company, job_place, job_date = driver.execute_script(\n",
      "  File \"C:\\Users\\adin7\\.conda\\envs\\jobs-analysis\\lib\\site-packages\\selenium\\webdriver\\remote\\webdriver.py\", line 634, in execute_script\n",
      "    return self.execute(command, {\n",
      "  File \"C:\\Users\\adin7\\.conda\\envs\\jobs-analysis\\lib\\site-packages\\selenium\\webdriver\\remote\\webdriver.py\", line 321, in execute\n",
      "    self.error_handler.check_response(response)\n",
      "  File \"C:\\Users\\adin7\\.conda\\envs\\jobs-analysis\\lib\\site-packages\\selenium\\webdriver\\remote\\errorhandler.py\", line 242, in check_response\n",
      "    raise exception_class(message, screen, stacktrace)\n",
      "selenium.common.exceptions.JavascriptException: Message: javascript error: Cannot read property 'scrollIntoView' of null\n",
      "  (Session info: headless chrome=91.0.4472.114)\n",
      "\n"
     ]
    },
    {
     "name": "stdout",
     "output_type": "stream",
     "text": [
      "[ON_ERROR] Message: javascript error: Cannot read property 'scrollIntoView' of null\n",
      "  (Session info: headless chrome=91.0.4472.114)\n",
      "\n",
      "Traceback (most recent call last):\n",
      "  File \"C:\\Users\\adin7\\.conda\\envs\\jobs-analysis\\lib\\site-packages\\linkedin_jobs_scraper\\strategies\\anonymous_strategy.py\", line 260, in run\n",
      "    job_id, job_link, job_title, job_company, job_place, job_date = driver.execute_script(\n",
      "  File \"C:\\Users\\adin7\\.conda\\envs\\jobs-analysis\\lib\\site-packages\\selenium\\webdriver\\remote\\webdriver.py\", line 634, in execute_script\n",
      "    return self.execute(command, {\n",
      "  File \"C:\\Users\\adin7\\.conda\\envs\\jobs-analysis\\lib\\site-packages\\selenium\\webdriver\\remote\\webdriver.py\", line 321, in execute\n",
      "    self.error_handler.check_response(response)\n",
      "  File \"C:\\Users\\adin7\\.conda\\envs\\jobs-analysis\\lib\\site-packages\\selenium\\webdriver\\remote\\errorhandler.py\", line 242, in check_response\n",
      "    raise exception_class(message, screen, stacktrace)\n",
      "selenium.common.exceptions.JavascriptException: Message: javascript error: Cannot read property 'scrollIntoView' of null\n",
      "  (Session info: headless chrome=91.0.4472.114)\n",
      "\n",
      "\n"
     ]
    },
    {
     "name": "stderr",
     "output_type": "stream",
     "text": [
      "INFO:li:scraper:('[Data Scientist][Scotland][19]', 'Processed')\n",
      "INFO:li:scraper:('[Data Scientist][Scotland][19]', 'Checking for new jobs to load...')\n"
     ]
    },
    {
     "name": "stdout",
     "output_type": "stream",
     "text": [
      "[ON_DATA] ServiceNow Technical Specialist / Developer - Multiple Locations Accenture 2021-06-23 https://uk.linkedin.com/jobs/view/servicenow-technical-specialist-developer-multiple-locations-at-accenture-2573317910?refId=oWjhr72%2FHzFkGC40DnHogQ%3D%3D&trackingId=sZs5Cl4SelMiZnOlrnkz5g%3D%3D&position=23&pageNum=0&trk=public_jobs_jserp-result_search-card 6067\n"
     ]
    },
    {
     "name": "stderr",
     "output_type": "stream",
     "text": [
      "INFO:li:scraper:('[Data Scientist][Scotland][19]', 'Found 48 jobs')\n",
      "INFO:li:scraper:('[Data Scientist][Scotland][20]', 'Processed')\n"
     ]
    },
    {
     "name": "stdout",
     "output_type": "stream",
     "text": [
      "[ON_DATA] Software Development Engineer - Privacy and Security Amazon 2021-06-23 https://uk.linkedin.com/jobs/view/software-development-engineer-privacy-and-security-at-amazon-2431528477?refId=bkSWdP0UNnHrLz88CQy%2F8Q%3D%3D&trackingId=%2FywofP38YW4pztwoxREQdw%3D%3D&position=1&pageNum=1&trk=public_jobs_jserp-result_search-card 4535\n"
     ]
    },
    {
     "name": "stderr",
     "output_type": "stream",
     "text": [
      "INFO:li:scraper:('[Data Scientist][Scotland][21]', 'Processed')\n"
     ]
    },
    {
     "name": "stdout",
     "output_type": "stream",
     "text": [
      "[ON_DATA] Researcher 1A Glasgow Caledonian University 2021-06-23 https://uk.linkedin.com/jobs/view/researcher-1a-at-glasgow-caledonian-university-2614675407?refId=bkSWdP0UNnHrLz88CQy%2F8Q%3D%3D&trackingId=iEvCvhV6NCdKKktRB%2BzSJw%3D%3D&position=2&pageNum=1&trk=public_jobs_jserp-result_search-card 4915\n"
     ]
    },
    {
     "name": "stderr",
     "output_type": "stream",
     "text": [
      "WARNING:li:scraper:('[Data Scientist][Scotland]', '[429] Too many requests', 'You should probably increase scraper \"slow_mo\" value or reduce concurrency')\n",
      "ERROR:li:scraper:('[Data Scientist][Scotland][22]', 'Timeout on loading job details')\n",
      "NoneType: None\n",
      "INFO:li:scraper:('[Data Scientist][Scotland][22]', 'Processed')\n"
     ]
    },
    {
     "name": "stdout",
     "output_type": "stream",
     "text": [
      "[ON_DATA] Software Engineer - SRE (Golang) Couchbase 2021-06-23 https://uk.linkedin.com/jobs/view/software-engineer-sre-golang-at-couchbase-2577070183?refId=bkSWdP0UNnHrLz88CQy%2F8Q%3D%3D&trackingId=W%2Fdyy%2B8aCJJ2mb4CWaa5Jg%3D%3D&position=4&pageNum=1&trk=public_jobs_jserp-result_search-card 8714\n"
     ]
    },
    {
     "name": "stderr",
     "output_type": "stream",
     "text": [
      "INFO:li:scraper:('[Data Scientist][Scotland][23]', 'Processed')\n"
     ]
    },
    {
     "name": "stdout",
     "output_type": "stream",
     "text": [
      "[ON_DATA] Full Stack Software Developer Juralio 2021-06-23 https://uk.linkedin.com/jobs/view/full-stack-software-developer-at-juralio-2614617162?refId=bkSWdP0UNnHrLz88CQy%2F8Q%3D%3D&trackingId=yT9kxFU06xEWRNJqMq5%2F%2Fw%3D%3D&position=5&pageNum=1&trk=public_jobs_jserp-result_search-card 4511\n"
     ]
    },
    {
     "name": "stderr",
     "output_type": "stream",
     "text": [
      "INFO:li:scraper:('[Data Scientist][Scotland][24]', 'Processed')\n"
     ]
    },
    {
     "name": "stdout",
     "output_type": "stream",
     "text": [
      "[ON_DATA] Data Engineer - Google & Spark - Multiple Locations Accenture 2021-06-23 https://uk.linkedin.com/jobs/view/data-engineer-google-spark-multiple-locations-at-accenture-2573324020?refId=bkSWdP0UNnHrLz88CQy%2F8Q%3D%3D&trackingId=rHJab0HSK1fy4fQ7UhPZNg%3D%3D&position=6&pageNum=1&trk=public_jobs_jserp-result_search-card 4038\n"
     ]
    },
    {
     "name": "stderr",
     "output_type": "stream",
     "text": [
      "INFO:li:scraper:('[Data Scientist][Scotland][25]', 'Processed')\n"
     ]
    },
    {
     "name": "stdout",
     "output_type": "stream",
     "text": [
      "[ON_DATA] Software Development Engineer - DOIT Team Amazon 2021-06-23 https://uk.linkedin.com/jobs/view/software-development-engineer-doit-team-at-amazon-2431592728?refId=bkSWdP0UNnHrLz88CQy%2F8Q%3D%3D&trackingId=NAcxMaQIFi%2FyhVb6J5US6Q%3D%3D&position=7&pageNum=1&trk=public_jobs_jserp-result_search-card 2968\n"
     ]
    },
    {
     "name": "stderr",
     "output_type": "stream",
     "text": [
      "INFO:li:scraper:('[Data Scientist][Scotland][26]', 'Processed')\n"
     ]
    },
    {
     "name": "stdout",
     "output_type": "stream",
     "text": [
      "[ON_DATA] Data Engineer - AWS - Multiple Location Accenture 2021-06-23 https://uk.linkedin.com/jobs/view/data-engineer-aws-multiple-location-at-accenture-2573323026?refId=bkSWdP0UNnHrLz88CQy%2F8Q%3D%3D&trackingId=XKz7wmVHVWsbVD9sa3csow%3D%3D&position=8&pageNum=1&trk=public_jobs_jserp-result_search-card 5047\n"
     ]
    },
    {
     "name": "stderr",
     "output_type": "stream",
     "text": [
      "INFO:li:scraper:('[Data Scientist][Scotland][27]', 'Processed')\n"
     ]
    },
    {
     "name": "stdout",
     "output_type": "stream",
     "text": [
      "[ON_DATA] Data Scientist Kleboe Jardine Ltd 2021-06-23 https://uk.linkedin.com/jobs/view/data-scientist-at-kleboe-jardine-ltd-2614469931?refId=bkSWdP0UNnHrLz88CQy%2F8Q%3D%3D&trackingId=wB6mTaj6bOWPevS6deZZSA%3D%3D&position=9&pageNum=1&trk=public_jobs_jserp-result_search-card 1330\n"
     ]
    },
    {
     "name": "stderr",
     "output_type": "stream",
     "text": [
      "INFO:li:scraper:('[Data Scientist][Scotland][28]', 'Processed')\n"
     ]
    },
    {
     "name": "stdout",
     "output_type": "stream",
     "text": [
      "[ON_DATA] Data Analyst Cross Resourcing 2021-06-23 https://uk.linkedin.com/jobs/view/data-analyst-at-cross-resourcing-2614392964?refId=bkSWdP0UNnHrLz88CQy%2F8Q%3D%3D&trackingId=jkgs%2FOu4tbor68QkOkqEMQ%3D%3D&position=10&pageNum=1&trk=public_jobs_jserp-result_search-card 2219\n"
     ]
    },
    {
     "name": "stderr",
     "output_type": "stream",
     "text": [
      "ERROR:li:scraper:('[Data Scientist][Scotland][29]', JavascriptException(\"javascript error: Cannot read property 'scrollIntoView' of null\\n  (Session info: headless chrome=91.0.4472.114)\", None, None), 'Traceback (most recent call last):\\n  File \"C:\\\\Users\\\\adin7\\\\.conda\\\\envs\\\\jobs-analysis\\\\lib\\\\site-packages\\\\linkedin_jobs_scraper\\\\strategies\\\\anonymous_strategy.py\", line 260, in run\\n    job_id, job_link, job_title, job_company, job_place, job_date = driver.execute_script(\\n  File \"C:\\\\Users\\\\adin7\\\\.conda\\\\envs\\\\jobs-analysis\\\\lib\\\\site-packages\\\\selenium\\\\webdriver\\\\remote\\\\webdriver.py\", line 634, in execute_script\\n    return self.execute(command, {\\n  File \"C:\\\\Users\\\\adin7\\\\.conda\\\\envs\\\\jobs-analysis\\\\lib\\\\site-packages\\\\selenium\\\\webdriver\\\\remote\\\\webdriver.py\", line 321, in execute\\n    self.error_handler.check_response(response)\\n  File \"C:\\\\Users\\\\adin7\\\\.conda\\\\envs\\\\jobs-analysis\\\\lib\\\\site-packages\\\\selenium\\\\webdriver\\\\remote\\\\errorhandler.py\", line 242, in check_response\\n    raise ...\n",
      "Traceback (most recent call last):\n",
      "  File \"C:\\Users\\adin7\\.conda\\envs\\jobs-analysis\\lib\\site-packages\\linkedin_jobs_scraper\\strategies\\anonymous_strategy.py\", line 260, in run\n",
      "    job_id, job_link, job_title, job_company, job_place, job_date = driver.execute_script(\n",
      "  File \"C:\\Users\\adin7\\.conda\\envs\\jobs-analysis\\lib\\site-packages\\selenium\\webdriver\\remote\\webdriver.py\", line 634, in execute_script\n",
      "    return self.execute(command, {\n",
      "  File \"C:\\Users\\adin7\\.conda\\envs\\jobs-analysis\\lib\\site-packages\\selenium\\webdriver\\remote\\webdriver.py\", line 321, in execute\n",
      "    self.error_handler.check_response(response)\n",
      "  File \"C:\\Users\\adin7\\.conda\\envs\\jobs-analysis\\lib\\site-packages\\selenium\\webdriver\\remote\\errorhandler.py\", line 242, in check_response\n",
      "    raise exception_class(message, screen, stacktrace)\n",
      "selenium.common.exceptions.JavascriptException: Message: javascript error: Cannot read property 'scrollIntoView' of null\n",
      "  (Session info: headless chrome=91.0.4472.114)\n",
      "\n"
     ]
    },
    {
     "name": "stdout",
     "output_type": "stream",
     "text": [
      "[ON_ERROR] Message: javascript error: Cannot read property 'scrollIntoView' of null\n",
      "  (Session info: headless chrome=91.0.4472.114)\n",
      "\n",
      "Traceback (most recent call last):\n",
      "  File \"C:\\Users\\adin7\\.conda\\envs\\jobs-analysis\\lib\\site-packages\\linkedin_jobs_scraper\\strategies\\anonymous_strategy.py\", line 260, in run\n",
      "    job_id, job_link, job_title, job_company, job_place, job_date = driver.execute_script(\n",
      "  File \"C:\\Users\\adin7\\.conda\\envs\\jobs-analysis\\lib\\site-packages\\selenium\\webdriver\\remote\\webdriver.py\", line 634, in execute_script\n",
      "    return self.execute(command, {\n",
      "  File \"C:\\Users\\adin7\\.conda\\envs\\jobs-analysis\\lib\\site-packages\\selenium\\webdriver\\remote\\webdriver.py\", line 321, in execute\n",
      "    self.error_handler.check_response(response)\n",
      "  File \"C:\\Users\\adin7\\.conda\\envs\\jobs-analysis\\lib\\site-packages\\selenium\\webdriver\\remote\\errorhandler.py\", line 242, in check_response\n",
      "    raise exception_class(message, screen, stacktrace)\n",
      "selenium.common.exceptions.JavascriptException: Message: javascript error: Cannot read property 'scrollIntoView' of null\n",
      "  (Session info: headless chrome=91.0.4472.114)\n",
      "\n",
      "\n"
     ]
    },
    {
     "name": "stderr",
     "output_type": "stream",
     "text": [
      "ERROR:li:scraper:('[Data Scientist][Scotland][29]', JavascriptException(\"javascript error: Cannot read property 'scrollIntoView' of null\\n  (Session info: headless chrome=91.0.4472.114)\", None, None), 'Traceback (most recent call last):\\n  File \"C:\\\\Users\\\\adin7\\\\.conda\\\\envs\\\\jobs-analysis\\\\lib\\\\site-packages\\\\linkedin_jobs_scraper\\\\strategies\\\\anonymous_strategy.py\", line 260, in run\\n    job_id, job_link, job_title, job_company, job_place, job_date = driver.execute_script(\\n  File \"C:\\\\Users\\\\adin7\\\\.conda\\\\envs\\\\jobs-analysis\\\\lib\\\\site-packages\\\\selenium\\\\webdriver\\\\remote\\\\webdriver.py\", line 634, in execute_script\\n    return self.execute(command, {\\n  File \"C:\\\\Users\\\\adin7\\\\.conda\\\\envs\\\\jobs-analysis\\\\lib\\\\site-packages\\\\selenium\\\\webdriver\\\\remote\\\\webdriver.py\", line 321, in execute\\n    self.error_handler.check_response(response)\\n  File \"C:\\\\Users\\\\adin7\\\\.conda\\\\envs\\\\jobs-analysis\\\\lib\\\\site-packages\\\\selenium\\\\webdriver\\\\remote\\\\errorhandler.py\", line 242, in check_response\\n    raise ...\n",
      "Traceback (most recent call last):\n",
      "  File \"C:\\Users\\adin7\\.conda\\envs\\jobs-analysis\\lib\\site-packages\\linkedin_jobs_scraper\\strategies\\anonymous_strategy.py\", line 260, in run\n",
      "    job_id, job_link, job_title, job_company, job_place, job_date = driver.execute_script(\n",
      "  File \"C:\\Users\\adin7\\.conda\\envs\\jobs-analysis\\lib\\site-packages\\selenium\\webdriver\\remote\\webdriver.py\", line 634, in execute_script\n",
      "    return self.execute(command, {\n",
      "  File \"C:\\Users\\adin7\\.conda\\envs\\jobs-analysis\\lib\\site-packages\\selenium\\webdriver\\remote\\webdriver.py\", line 321, in execute\n",
      "    self.error_handler.check_response(response)\n",
      "  File \"C:\\Users\\adin7\\.conda\\envs\\jobs-analysis\\lib\\site-packages\\selenium\\webdriver\\remote\\errorhandler.py\", line 242, in check_response\n",
      "    raise exception_class(message, screen, stacktrace)\n",
      "selenium.common.exceptions.JavascriptException: Message: javascript error: Cannot read property 'scrollIntoView' of null\n",
      "  (Session info: headless chrome=91.0.4472.114)\n",
      "\n"
     ]
    },
    {
     "name": "stdout",
     "output_type": "stream",
     "text": [
      "[ON_ERROR] Message: javascript error: Cannot read property 'scrollIntoView' of null\n",
      "  (Session info: headless chrome=91.0.4472.114)\n",
      "\n",
      "Traceback (most recent call last):\n",
      "  File \"C:\\Users\\adin7\\.conda\\envs\\jobs-analysis\\lib\\site-packages\\linkedin_jobs_scraper\\strategies\\anonymous_strategy.py\", line 260, in run\n",
      "    job_id, job_link, job_title, job_company, job_place, job_date = driver.execute_script(\n",
      "  File \"C:\\Users\\adin7\\.conda\\envs\\jobs-analysis\\lib\\site-packages\\selenium\\webdriver\\remote\\webdriver.py\", line 634, in execute_script\n",
      "    return self.execute(command, {\n",
      "  File \"C:\\Users\\adin7\\.conda\\envs\\jobs-analysis\\lib\\site-packages\\selenium\\webdriver\\remote\\webdriver.py\", line 321, in execute\n",
      "    self.error_handler.check_response(response)\n",
      "  File \"C:\\Users\\adin7\\.conda\\envs\\jobs-analysis\\lib\\site-packages\\selenium\\webdriver\\remote\\errorhandler.py\", line 242, in check_response\n",
      "    raise exception_class(message, screen, stacktrace)\n",
      "selenium.common.exceptions.JavascriptException: Message: javascript error: Cannot read property 'scrollIntoView' of null\n",
      "  (Session info: headless chrome=91.0.4472.114)\n",
      "\n",
      "\n"
     ]
    },
    {
     "name": "stderr",
     "output_type": "stream",
     "text": [
      "ERROR:li:scraper:('[Data Scientist][Scotland][29]', JavascriptException(\"javascript error: Cannot read property 'scrollIntoView' of null\\n  (Session info: headless chrome=91.0.4472.114)\", None, None), 'Traceback (most recent call last):\\n  File \"C:\\\\Users\\\\adin7\\\\.conda\\\\envs\\\\jobs-analysis\\\\lib\\\\site-packages\\\\linkedin_jobs_scraper\\\\strategies\\\\anonymous_strategy.py\", line 260, in run\\n    job_id, job_link, job_title, job_company, job_place, job_date = driver.execute_script(\\n  File \"C:\\\\Users\\\\adin7\\\\.conda\\\\envs\\\\jobs-analysis\\\\lib\\\\site-packages\\\\selenium\\\\webdriver\\\\remote\\\\webdriver.py\", line 634, in execute_script\\n    return self.execute(command, {\\n  File \"C:\\\\Users\\\\adin7\\\\.conda\\\\envs\\\\jobs-analysis\\\\lib\\\\site-packages\\\\selenium\\\\webdriver\\\\remote\\\\webdriver.py\", line 321, in execute\\n    self.error_handler.check_response(response)\\n  File \"C:\\\\Users\\\\adin7\\\\.conda\\\\envs\\\\jobs-analysis\\\\lib\\\\site-packages\\\\selenium\\\\webdriver\\\\remote\\\\errorhandler.py\", line 242, in check_response\\n    raise ...\n",
      "Traceback (most recent call last):\n",
      "  File \"C:\\Users\\adin7\\.conda\\envs\\jobs-analysis\\lib\\site-packages\\linkedin_jobs_scraper\\strategies\\anonymous_strategy.py\", line 260, in run\n",
      "    job_id, job_link, job_title, job_company, job_place, job_date = driver.execute_script(\n",
      "  File \"C:\\Users\\adin7\\.conda\\envs\\jobs-analysis\\lib\\site-packages\\selenium\\webdriver\\remote\\webdriver.py\", line 634, in execute_script\n",
      "    return self.execute(command, {\n",
      "  File \"C:\\Users\\adin7\\.conda\\envs\\jobs-analysis\\lib\\site-packages\\selenium\\webdriver\\remote\\webdriver.py\", line 321, in execute\n",
      "    self.error_handler.check_response(response)\n",
      "  File \"C:\\Users\\adin7\\.conda\\envs\\jobs-analysis\\lib\\site-packages\\selenium\\webdriver\\remote\\errorhandler.py\", line 242, in check_response\n",
      "    raise exception_class(message, screen, stacktrace)\n",
      "selenium.common.exceptions.JavascriptException: Message: javascript error: Cannot read property 'scrollIntoView' of null\n",
      "  (Session info: headless chrome=91.0.4472.114)\n",
      "\n"
     ]
    },
    {
     "name": "stdout",
     "output_type": "stream",
     "text": [
      "[ON_ERROR] Message: javascript error: Cannot read property 'scrollIntoView' of null\n",
      "  (Session info: headless chrome=91.0.4472.114)\n",
      "\n",
      "Traceback (most recent call last):\n",
      "  File \"C:\\Users\\adin7\\.conda\\envs\\jobs-analysis\\lib\\site-packages\\linkedin_jobs_scraper\\strategies\\anonymous_strategy.py\", line 260, in run\n",
      "    job_id, job_link, job_title, job_company, job_place, job_date = driver.execute_script(\n",
      "  File \"C:\\Users\\adin7\\.conda\\envs\\jobs-analysis\\lib\\site-packages\\selenium\\webdriver\\remote\\webdriver.py\", line 634, in execute_script\n",
      "    return self.execute(command, {\n",
      "  File \"C:\\Users\\adin7\\.conda\\envs\\jobs-analysis\\lib\\site-packages\\selenium\\webdriver\\remote\\webdriver.py\", line 321, in execute\n",
      "    self.error_handler.check_response(response)\n",
      "  File \"C:\\Users\\adin7\\.conda\\envs\\jobs-analysis\\lib\\site-packages\\selenium\\webdriver\\remote\\errorhandler.py\", line 242, in check_response\n",
      "    raise exception_class(message, screen, stacktrace)\n",
      "selenium.common.exceptions.JavascriptException: Message: javascript error: Cannot read property 'scrollIntoView' of null\n",
      "  (Session info: headless chrome=91.0.4472.114)\n",
      "\n",
      "\n"
     ]
    },
    {
     "name": "stderr",
     "output_type": "stream",
     "text": [
      "INFO:li:scraper:('[Data Scientist][Scotland][29]', 'Processed')\n"
     ]
    },
    {
     "name": "stdout",
     "output_type": "stream",
     "text": [
      "[ON_DATA] Data Engineer/Developer Leverhulme Research Centre for Forensic Science University of Dundee 2021-06-23 https://uk.linkedin.com/jobs/view/data-engineer-developer-leverhulme-research-centre-for-forensic-science-at-university-of-dundee-2614304190?refId=bkSWdP0UNnHrLz88CQy%2F8Q%3D%3D&trackingId=h1LVOZMPKD%2FM8fauxW17iA%3D%3D&position=14&pageNum=1&trk=public_jobs_jserp-result_search-card 3314\n"
     ]
    },
    {
     "name": "stderr",
     "output_type": "stream",
     "text": [
      "ERROR:li:scraper:('[Data Scientist][Scotland][30]', JavascriptException(\"javascript error: Cannot read property 'scrollIntoView' of null\\n  (Session info: headless chrome=91.0.4472.114)\", None, None), 'Traceback (most recent call last):\\n  File \"C:\\\\Users\\\\adin7\\\\.conda\\\\envs\\\\jobs-analysis\\\\lib\\\\site-packages\\\\linkedin_jobs_scraper\\\\strategies\\\\anonymous_strategy.py\", line 260, in run\\n    job_id, job_link, job_title, job_company, job_place, job_date = driver.execute_script(\\n  File \"C:\\\\Users\\\\adin7\\\\.conda\\\\envs\\\\jobs-analysis\\\\lib\\\\site-packages\\\\selenium\\\\webdriver\\\\remote\\\\webdriver.py\", line 634, in execute_script\\n    return self.execute(command, {\\n  File \"C:\\\\Users\\\\adin7\\\\.conda\\\\envs\\\\jobs-analysis\\\\lib\\\\site-packages\\\\selenium\\\\webdriver\\\\remote\\\\webdriver.py\", line 321, in execute\\n    self.error_handler.check_response(response)\\n  File \"C:\\\\Users\\\\adin7\\\\.conda\\\\envs\\\\jobs-analysis\\\\lib\\\\site-packages\\\\selenium\\\\webdriver\\\\remote\\\\errorhandler.py\", line 242, in check_response\\n    raise ...\n",
      "Traceback (most recent call last):\n",
      "  File \"C:\\Users\\adin7\\.conda\\envs\\jobs-analysis\\lib\\site-packages\\linkedin_jobs_scraper\\strategies\\anonymous_strategy.py\", line 260, in run\n",
      "    job_id, job_link, job_title, job_company, job_place, job_date = driver.execute_script(\n",
      "  File \"C:\\Users\\adin7\\.conda\\envs\\jobs-analysis\\lib\\site-packages\\selenium\\webdriver\\remote\\webdriver.py\", line 634, in execute_script\n",
      "    return self.execute(command, {\n",
      "  File \"C:\\Users\\adin7\\.conda\\envs\\jobs-analysis\\lib\\site-packages\\selenium\\webdriver\\remote\\webdriver.py\", line 321, in execute\n",
      "    self.error_handler.check_response(response)\n",
      "  File \"C:\\Users\\adin7\\.conda\\envs\\jobs-analysis\\lib\\site-packages\\selenium\\webdriver\\remote\\errorhandler.py\", line 242, in check_response\n",
      "    raise exception_class(message, screen, stacktrace)\n",
      "selenium.common.exceptions.JavascriptException: Message: javascript error: Cannot read property 'scrollIntoView' of null\n",
      "  (Session info: headless chrome=91.0.4472.114)\n",
      "\n"
     ]
    },
    {
     "name": "stdout",
     "output_type": "stream",
     "text": [
      "[ON_ERROR] Message: javascript error: Cannot read property 'scrollIntoView' of null\n",
      "  (Session info: headless chrome=91.0.4472.114)\n",
      "\n",
      "Traceback (most recent call last):\n",
      "  File \"C:\\Users\\adin7\\.conda\\envs\\jobs-analysis\\lib\\site-packages\\linkedin_jobs_scraper\\strategies\\anonymous_strategy.py\", line 260, in run\n",
      "    job_id, job_link, job_title, job_company, job_place, job_date = driver.execute_script(\n",
      "  File \"C:\\Users\\adin7\\.conda\\envs\\jobs-analysis\\lib\\site-packages\\selenium\\webdriver\\remote\\webdriver.py\", line 634, in execute_script\n",
      "    return self.execute(command, {\n",
      "  File \"C:\\Users\\adin7\\.conda\\envs\\jobs-analysis\\lib\\site-packages\\selenium\\webdriver\\remote\\webdriver.py\", line 321, in execute\n",
      "    self.error_handler.check_response(response)\n",
      "  File \"C:\\Users\\adin7\\.conda\\envs\\jobs-analysis\\lib\\site-packages\\selenium\\webdriver\\remote\\errorhandler.py\", line 242, in check_response\n",
      "    raise exception_class(message, screen, stacktrace)\n",
      "selenium.common.exceptions.JavascriptException: Message: javascript error: Cannot read property 'scrollIntoView' of null\n",
      "  (Session info: headless chrome=91.0.4472.114)\n",
      "\n",
      "\n"
     ]
    },
    {
     "name": "stderr",
     "output_type": "stream",
     "text": [
      "INFO:li:scraper:('[Data Scientist][Scotland][30]', 'Processed')\n"
     ]
    },
    {
     "name": "stdout",
     "output_type": "stream",
     "text": [
      "[ON_DATA] Graduate Apprentice - Energy Data Analyst, Pullar House, Perth Perth & Kinross Council 2021-06-23 https://uk.linkedin.com/jobs/view/graduate-apprentice-energy-data-analyst-pullar-house-perth-at-perth-kinross-council-2614012950?refId=bkSWdP0UNnHrLz88CQy%2F8Q%3D%3D&trackingId=gnGvCrqsCqBYf%2BSAis2hvQ%3D%3D&position=16&pageNum=1&trk=public_jobs_jserp-result_search-card 465\n",
      "[ON_END]\n"
     ]
    }
   ],
   "source": [
    "# df = pd.DataFrame()\n",
    "scraper.run(queries)"
   ]
  },
  {
   "cell_type": "code",
   "execution_count": 16,
   "metadata": {},
   "outputs": [
    {
     "data": {
      "text/plain": [
       "(95, 12)"
      ]
     },
     "execution_count": 16,
     "metadata": {},
     "output_type": "execute_result"
    }
   ],
   "source": [
    "df.shape"
   ]
  },
  {
   "cell_type": "code",
   "execution_count": 17,
   "metadata": {
    "scrolled": true,
    "tags": []
   },
   "outputs": [
    {
     "data": {
      "text/html": [
       "<div>\n",
       "<style scoped>\n",
       "    .dataframe tbody tr th:only-of-type {\n",
       "        vertical-align: middle;\n",
       "    }\n",
       "\n",
       "    .dataframe tbody tr th {\n",
       "        vertical-align: top;\n",
       "    }\n",
       "\n",
       "    .dataframe thead th {\n",
       "        text-align: right;\n",
       "    }\n",
       "</style>\n",
       "<table border=\"1\" class=\"dataframe\">\n",
       "  <thead>\n",
       "    <tr style=\"text-align: right;\">\n",
       "      <th></th>\n",
       "      <th>company</th>\n",
       "      <th>date</th>\n",
       "      <th>description</th>\n",
       "      <th>description_html</th>\n",
       "      <th>employment_type</th>\n",
       "      <th>industries</th>\n",
       "      <th>job_function</th>\n",
       "      <th>link</th>\n",
       "      <th>location</th>\n",
       "      <th>place</th>\n",
       "      <th>seniority_level</th>\n",
       "      <th>title</th>\n",
       "    </tr>\n",
       "  </thead>\n",
       "  <tbody>\n",
       "    <tr>\n",
       "      <th>0</th>\n",
       "      <td>Dyson</td>\n",
       "      <td>2021-06-23</td>\n",
       "      <td>About Us\\n\\nOur mission is to bring Dyson tech...</td>\n",
       "      <td>&lt;div class=\"description__text description__tex...</td>\n",
       "      <td>Full-time</td>\n",
       "      <td>Information Technology and Services, Computer ...</td>\n",
       "      <td>Research and Analyst</td>\n",
       "      <td>https://uk.linkedin.com/jobs/view/data-scienti...</td>\n",
       "      <td>United Kingdom</td>\n",
       "      <td>Malmesbury, England, United Kingdom</td>\n",
       "      <td>Entry level</td>\n",
       "      <td>Data Scientist</td>\n",
       "    </tr>\n",
       "    <tr>\n",
       "      <th>1</th>\n",
       "      <td>Burberry</td>\n",
       "      <td>2021-06-22</td>\n",
       "      <td>INTRODUCTION\\n\\nFounded in 1856 by Thomas Burb...</td>\n",
       "      <td>&lt;div class=\"description__text description__tex...</td>\n",
       "      <td>Full-time</td>\n",
       "      <td>Marketing and Advertising, Retail, and Financi...</td>\n",
       "      <td>Engineering and Information Technology</td>\n",
       "      <td>https://uk.linkedin.com/jobs/view/data-scienti...</td>\n",
       "      <td>United Kingdom</td>\n",
       "      <td>London, England, United Kingdom</td>\n",
       "      <td>Entry level</td>\n",
       "      <td>Data Scientist</td>\n",
       "    </tr>\n",
       "    <tr>\n",
       "      <th>2</th>\n",
       "      <td>Kleboe Jardine Ltd</td>\n",
       "      <td>2021-06-23</td>\n",
       "      <td>My client supports international organisations...</td>\n",
       "      <td>&lt;div class=\"description__text description__tex...</td>\n",
       "      <td>Full-time</td>\n",
       "      <td>Hospital &amp; Health Care and Pharmaceuticals</td>\n",
       "      <td>Research, Analyst, and Science</td>\n",
       "      <td>https://uk.linkedin.com/jobs/view/data-scienti...</td>\n",
       "      <td>United Kingdom</td>\n",
       "      <td>Greater Edinburgh Area</td>\n",
       "      <td>Associate</td>\n",
       "      <td>Data Scientist</td>\n",
       "    </tr>\n",
       "    <tr>\n",
       "      <th>3</th>\n",
       "      <td>Evergreen Energy</td>\n",
       "      <td>2021-06-23</td>\n",
       "      <td>About the job\\n\\nEvergreen Energy is looking f...</td>\n",
       "      <td>&lt;div class=\"description__text description__tex...</td>\n",
       "      <td>Full-time</td>\n",
       "      <td>Consumer Services</td>\n",
       "      <td>Engineering and Information Technology</td>\n",
       "      <td>https://uk.linkedin.com/jobs/view/data-scienti...</td>\n",
       "      <td>United Kingdom</td>\n",
       "      <td>Manchester Area, United Kingdom</td>\n",
       "      <td>Mid-Senior level</td>\n",
       "      <td>Data Scientist</td>\n",
       "    </tr>\n",
       "    <tr>\n",
       "      <th>4</th>\n",
       "      <td>PlayStation</td>\n",
       "      <td>2021-06-23</td>\n",
       "      <td>Why PlayStation?\\n\\nPlayStation isn’t just the...</td>\n",
       "      <td>&lt;div class=\"description__text description__tex...</td>\n",
       "      <td>Full-time</td>\n",
       "      <td>Marketing and Advertising, Information Technol...</td>\n",
       "      <td>Engineering and Information Technology</td>\n",
       "      <td>https://uk.linkedin.com/jobs/view/data-scienti...</td>\n",
       "      <td>United Kingdom</td>\n",
       "      <td>London, England, United Kingdom</td>\n",
       "      <td>Mid-Senior level</td>\n",
       "      <td>Data Scientist - Advanced Analytics &amp; Insight</td>\n",
       "    </tr>\n",
       "    <tr>\n",
       "      <th>...</th>\n",
       "      <td>...</td>\n",
       "      <td>...</td>\n",
       "      <td>...</td>\n",
       "      <td>...</td>\n",
       "      <td>...</td>\n",
       "      <td>...</td>\n",
       "      <td>...</td>\n",
       "      <td>...</td>\n",
       "      <td>...</td>\n",
       "      <td>...</td>\n",
       "      <td>...</td>\n",
       "      <td>...</td>\n",
       "    </tr>\n",
       "    <tr>\n",
       "      <th>90</th>\n",
       "      <td>Accenture</td>\n",
       "      <td>2021-06-23</td>\n",
       "      <td>Description - External\\n\\nData Engineer – AWS ...</td>\n",
       "      <td>&lt;div class=\"description__text description__tex...</td>\n",
       "      <td>Full-time</td>\n",
       "      <td>Information Technology and Services, Computer ...</td>\n",
       "      <td>Information Technology and Engineering</td>\n",
       "      <td>https://uk.linkedin.com/jobs/view/data-enginee...</td>\n",
       "      <td>Scotland</td>\n",
       "      <td>Edinburgh, Scotland, United Kingdom</td>\n",
       "      <td>Mid-Senior level</td>\n",
       "      <td>Data Engineer - AWS - Multiple Location</td>\n",
       "    </tr>\n",
       "    <tr>\n",
       "      <th>91</th>\n",
       "      <td>Kleboe Jardine Ltd</td>\n",
       "      <td>2021-06-23</td>\n",
       "      <td>My client supports international organisations...</td>\n",
       "      <td>&lt;div class=\"description__text description__tex...</td>\n",
       "      <td>Full-time</td>\n",
       "      <td>Hospital &amp; Health Care and Pharmaceuticals</td>\n",
       "      <td>Research, Analyst, and Science</td>\n",
       "      <td>https://uk.linkedin.com/jobs/view/data-scienti...</td>\n",
       "      <td>Scotland</td>\n",
       "      <td>Greater Edinburgh Area</td>\n",
       "      <td>Associate</td>\n",
       "      <td>Data Scientist</td>\n",
       "    </tr>\n",
       "    <tr>\n",
       "      <th>92</th>\n",
       "      <td>Cross Resourcing</td>\n",
       "      <td>2021-06-23</td>\n",
       "      <td>This is a remote position.\\n\\nCross Resourcing...</td>\n",
       "      <td>&lt;div class=\"description__text description__tex...</td>\n",
       "      <td>Full-time</td>\n",
       "      <td>Staffing and Recruiting, Law Practice, and Leg...</td>\n",
       "      <td>Information Technology</td>\n",
       "      <td>https://uk.linkedin.com/jobs/view/data-analyst...</td>\n",
       "      <td>Scotland</td>\n",
       "      <td>Partick, Scotland, United Kingdom</td>\n",
       "      <td>Entry level</td>\n",
       "      <td>Data Analyst</td>\n",
       "    </tr>\n",
       "    <tr>\n",
       "      <th>93</th>\n",
       "      <td>University of Dundee</td>\n",
       "      <td>2021-06-23</td>\n",
       "      <td>The School of Science and Engineering has an i...</td>\n",
       "      <td>&lt;div class=\"description__text description__tex...</td>\n",
       "      <td>Full-time</td>\n",
       "      <td>Higher Education, Research, and Hospital &amp; Hea...</td>\n",
       "      <td>Information Technology</td>\n",
       "      <td>https://uk.linkedin.com/jobs/view/data-enginee...</td>\n",
       "      <td>Scotland</td>\n",
       "      <td>Dundee, Scotland, United Kingdom</td>\n",
       "      <td>Entry level</td>\n",
       "      <td>Data Engineer/Developer Leverhulme Research Ce...</td>\n",
       "    </tr>\n",
       "    <tr>\n",
       "      <th>94</th>\n",
       "      <td>Perth &amp; Kinross Council</td>\n",
       "      <td>2021-06-23</td>\n",
       "      <td>Job Description\\n\\nGraduate Apprentice - Energ...</td>\n",
       "      <td>&lt;div class=\"description__text description__tex...</td>\n",
       "      <td>Full-time</td>\n",
       "      <td>Nonprofit Organization Management, Staffing an...</td>\n",
       "      <td>Information Technology</td>\n",
       "      <td>https://uk.linkedin.com/jobs/view/graduate-app...</td>\n",
       "      <td>Scotland</td>\n",
       "      <td>Kinross, Scotland, United Kingdom</td>\n",
       "      <td>Internship</td>\n",
       "      <td>Graduate Apprentice - Energy Data Analyst, Pul...</td>\n",
       "    </tr>\n",
       "  </tbody>\n",
       "</table>\n",
       "<p>95 rows × 12 columns</p>\n",
       "</div>"
      ],
      "text/plain": [
       "                    company        date  \\\n",
       "0                     Dyson  2021-06-23   \n",
       "1                  Burberry  2021-06-22   \n",
       "2        Kleboe Jardine Ltd  2021-06-23   \n",
       "3          Evergreen Energy  2021-06-23   \n",
       "4               PlayStation  2021-06-23   \n",
       "..                      ...         ...   \n",
       "90                Accenture  2021-06-23   \n",
       "91       Kleboe Jardine Ltd  2021-06-23   \n",
       "92         Cross Resourcing  2021-06-23   \n",
       "93     University of Dundee  2021-06-23   \n",
       "94  Perth & Kinross Council  2021-06-23   \n",
       "\n",
       "                                          description  \\\n",
       "0   About Us\\n\\nOur mission is to bring Dyson tech...   \n",
       "1   INTRODUCTION\\n\\nFounded in 1856 by Thomas Burb...   \n",
       "2   My client supports international organisations...   \n",
       "3   About the job\\n\\nEvergreen Energy is looking f...   \n",
       "4   Why PlayStation?\\n\\nPlayStation isn’t just the...   \n",
       "..                                                ...   \n",
       "90  Description - External\\n\\nData Engineer – AWS ...   \n",
       "91  My client supports international organisations...   \n",
       "92  This is a remote position.\\n\\nCross Resourcing...   \n",
       "93  The School of Science and Engineering has an i...   \n",
       "94  Job Description\\n\\nGraduate Apprentice - Energ...   \n",
       "\n",
       "                                     description_html employment_type  \\\n",
       "0   <div class=\"description__text description__tex...       Full-time   \n",
       "1   <div class=\"description__text description__tex...       Full-time   \n",
       "2   <div class=\"description__text description__tex...       Full-time   \n",
       "3   <div class=\"description__text description__tex...       Full-time   \n",
       "4   <div class=\"description__text description__tex...       Full-time   \n",
       "..                                                ...             ...   \n",
       "90  <div class=\"description__text description__tex...       Full-time   \n",
       "91  <div class=\"description__text description__tex...       Full-time   \n",
       "92  <div class=\"description__text description__tex...       Full-time   \n",
       "93  <div class=\"description__text description__tex...       Full-time   \n",
       "94  <div class=\"description__text description__tex...       Full-time   \n",
       "\n",
       "                                           industries  \\\n",
       "0   Information Technology and Services, Computer ...   \n",
       "1   Marketing and Advertising, Retail, and Financi...   \n",
       "2          Hospital & Health Care and Pharmaceuticals   \n",
       "3                                   Consumer Services   \n",
       "4   Marketing and Advertising, Information Technol...   \n",
       "..                                                ...   \n",
       "90  Information Technology and Services, Computer ...   \n",
       "91         Hospital & Health Care and Pharmaceuticals   \n",
       "92  Staffing and Recruiting, Law Practice, and Leg...   \n",
       "93  Higher Education, Research, and Hospital & Hea...   \n",
       "94  Nonprofit Organization Management, Staffing an...   \n",
       "\n",
       "                              job_function  \\\n",
       "0                     Research and Analyst   \n",
       "1   Engineering and Information Technology   \n",
       "2           Research, Analyst, and Science   \n",
       "3   Engineering and Information Technology   \n",
       "4   Engineering and Information Technology   \n",
       "..                                     ...   \n",
       "90  Information Technology and Engineering   \n",
       "91          Research, Analyst, and Science   \n",
       "92                  Information Technology   \n",
       "93                  Information Technology   \n",
       "94                  Information Technology   \n",
       "\n",
       "                                                 link        location  \\\n",
       "0   https://uk.linkedin.com/jobs/view/data-scienti...  United Kingdom   \n",
       "1   https://uk.linkedin.com/jobs/view/data-scienti...  United Kingdom   \n",
       "2   https://uk.linkedin.com/jobs/view/data-scienti...  United Kingdom   \n",
       "3   https://uk.linkedin.com/jobs/view/data-scienti...  United Kingdom   \n",
       "4   https://uk.linkedin.com/jobs/view/data-scienti...  United Kingdom   \n",
       "..                                                ...             ...   \n",
       "90  https://uk.linkedin.com/jobs/view/data-enginee...        Scotland   \n",
       "91  https://uk.linkedin.com/jobs/view/data-scienti...        Scotland   \n",
       "92  https://uk.linkedin.com/jobs/view/data-analyst...        Scotland   \n",
       "93  https://uk.linkedin.com/jobs/view/data-enginee...        Scotland   \n",
       "94  https://uk.linkedin.com/jobs/view/graduate-app...        Scotland   \n",
       "\n",
       "                                  place   seniority_level  \\\n",
       "0   Malmesbury, England, United Kingdom       Entry level   \n",
       "1       London, England, United Kingdom       Entry level   \n",
       "2                Greater Edinburgh Area         Associate   \n",
       "3       Manchester Area, United Kingdom  Mid-Senior level   \n",
       "4       London, England, United Kingdom  Mid-Senior level   \n",
       "..                                  ...               ...   \n",
       "90  Edinburgh, Scotland, United Kingdom  Mid-Senior level   \n",
       "91               Greater Edinburgh Area         Associate   \n",
       "92    Partick, Scotland, United Kingdom       Entry level   \n",
       "93     Dundee, Scotland, United Kingdom       Entry level   \n",
       "94    Kinross, Scotland, United Kingdom        Internship   \n",
       "\n",
       "                                                title  \n",
       "0                                      Data Scientist  \n",
       "1                                      Data Scientist  \n",
       "2                                      Data Scientist  \n",
       "3                                      Data Scientist  \n",
       "4       Data Scientist - Advanced Analytics & Insight  \n",
       "..                                                ...  \n",
       "90            Data Engineer - AWS - Multiple Location  \n",
       "91                                     Data Scientist  \n",
       "92                                       Data Analyst  \n",
       "93  Data Engineer/Developer Leverhulme Research Ce...  \n",
       "94  Graduate Apprentice - Energy Data Analyst, Pul...  \n",
       "\n",
       "[95 rows x 12 columns]"
      ]
     },
     "execution_count": 17,
     "metadata": {},
     "output_type": "execute_result"
    }
   ],
   "source": [
    "df"
   ]
  },
  {
   "cell_type": "markdown",
   "metadata": {},
   "source": [
    "# Save to file"
   ]
  },
  {
   "cell_type": "code",
   "execution_count": null,
   "metadata": {},
   "outputs": [],
   "source": [
    "df.to_csv('scraped_data_edinburgh.csv', index=False)"
   ]
  },
  {
   "cell_type": "code",
   "execution_count": null,
   "metadata": {},
   "outputs": [],
   "source": []
  }
 ],
 "metadata": {
  "kernelspec": {
   "display_name": "Python 3",
   "language": "python",
   "name": "python3"
  },
  "language_info": {
   "codemirror_mode": {
    "name": "ipython",
    "version": 3
   },
   "file_extension": ".py",
   "mimetype": "text/x-python",
   "name": "python",
   "nbconvert_exporter": "python",
   "pygments_lexer": "ipython3",
   "version": "3.8.10"
  }
 },
 "nbformat": 4,
 "nbformat_minor": 4
}
