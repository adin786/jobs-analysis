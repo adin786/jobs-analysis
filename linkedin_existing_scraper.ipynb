{
 "cells": [
  {
   "cell_type": "code",
   "execution_count": null,
   "metadata": {},
   "outputs": [],
   "source": []
  },
  {
   "cell_type": "code",
   "execution_count": 12,
   "metadata": {},
   "outputs": [],
   "source": [
    "import logging\n",
    "from linkedin_jobs_scraper import LinkedinScraper\n",
    "from linkedin_jobs_scraper.events import Events, EventData\n",
    "from linkedin_jobs_scraper.query import Query, QueryOptions, QueryFilters\n",
    "from linkedin_jobs_scraper.filters import RelevanceFilters, TimeFilters, TypeFilters, ExperienceLevelFilters, RemoteFilters\n",
    "import pandas as pd"
   ]
  },
  {
   "cell_type": "code",
   "execution_count": 2,
   "metadata": {},
   "outputs": [],
   "source": [
    "# Change root logger level (default is WARN)\n",
    "logging.basicConfig(level = logging.INFO)"
   ]
  },
  {
   "cell_type": "code",
   "execution_count": 3,
   "metadata": {},
   "outputs": [],
   "source": [
    "def on_data(data: EventData):\n",
    "    print('[ON_DATA]', data.title, data.company, data.date, data.link, len(data.description))\n",
    "\n",
    "def on_error(error):\n",
    "    print('[ON_ERROR]', error)\n",
    "\n",
    "def on_end():\n",
    "    print('[ON_END]')"
   ]
  },
  {
   "cell_type": "code",
   "execution_count": 4,
   "metadata": {},
   "outputs": [
    {
     "name": "stderr",
     "output_type": "stream",
     "text": [
      "INFO:li:scraper:('Using strategy AnonymousStrategy',)\n"
     ]
    }
   ],
   "source": [
    "scraper = LinkedinScraper(\n",
    "    chrome_executable_path=None, # Custom Chrome executable path (e.g. /foo/bar/bin/chromedriver) \n",
    "    chrome_options=None,  # Custom Chrome options here\n",
    "    headless=True,  # Overrides headless mode only if chrome_options is None\n",
    "    max_workers=1,  # How many threads will be spawned to run queries concurrently (one Chrome driver for each thread)\n",
    "    slow_mo=1.3,  # Slow down the scraper to avoid 'Too many requests (429)' errors\n",
    ")\n",
    "\n",
    "# Add event listeners\n",
    "scraper.on(Events.DATA, on_data)\n",
    "scraper.on(Events.ERROR, on_error)\n",
    "scraper.on(Events.END, on_end)"
   ]
  },
  {
   "cell_type": "code",
   "execution_count": 5,
   "metadata": {},
   "outputs": [],
   "source": [
    "queries = [\n",
    "    Query(\n",
    "        options=QueryOptions(\n",
    "            optimize=True,  # Blocks requests for resources like images and stylesheet\n",
    "            limit=27  # Limit the number of jobs to scrape\n",
    "        )\n",
    "    ),\n",
    "    Query(\n",
    "        query='Engineer',\n",
    "        options=QueryOptions(\n",
    "            locations=['United States'],\n",
    "            optimize=False,\n",
    "            limit=5,\n",
    "            filters=QueryFilters(\n",
    "                company_jobs_url='https://www.linkedin.com/jobs/search/?f_C=1441%2C17876832%2C791962%2C2374003%2C18950635%2C16140%2C10440912&geoId=92000000',  # Filter by companies\n",
    "                relevance=RelevanceFilters.RECENT,\n",
    "                time=TimeFilters.MONTH,\n",
    "                type=[TypeFilters.FULL_TIME, TypeFilters.INTERNSHIP],\n",
    "                experience=None,                \n",
    "            )\n",
    "        )\n",
    "    ),\n",
    "]"
   ]
  },
  {
   "cell_type": "code",
   "execution_count": 7,
   "metadata": {
    "scrolled": true
   },
   "outputs": [
    {
     "name": "stderr",
     "output_type": "stream",
     "text": [
      "INFO:li:scraper:('Starting new query', \"Query(query= options=QueryOptions(limit=27 locations=['Worldwide'] optimize=True))\")\n",
      "INFO:li:scraper:('[][Worldwide]', 'Opening https://www.linkedin.com/jobs/search?location=Worldwide')\n",
      "INFO:li:scraper:('[][Worldwide]', 'Trying first selectors set')\n",
      "INFO:li:scraper:('[][Worldwide]', 'Trying second selectors set')\n",
      "INFO:li:scraper:('[][Worldwide]', 'OK')\n",
      "INFO:li:scraper:('[][Worldwide]', 'Starting pagination loop')\n",
      "INFO:li:scraper:('[][Worldwide]', 'Found 14 jobs')\n",
      "ERROR:li:scraper:('[][Worldwide][1]', JavascriptException(\"javascript error: Cannot read property 'scrollIntoView' of null\\n  (Session info: headless chrome=91.0.4472.77)\", None, None), 'Traceback (most recent call last):\\n  File \"/home/azam/miniconda3/envs/py38/lib/python3.8/site-packages/linkedin_jobs_scraper/strategies/anonymous_strategy.py\", line 260, in run\\n    job_id, job_link, job_title, job_company, job_place, job_date = driver.execute_script(\\n  File \"/home/azam/miniconda3/envs/py38/lib/python3.8/site-packages/selenium/webdriver/remote/webdriver.py\", line 634, in execute_script\\n    return self.execute(command, {\\n  File \"/home/azam/miniconda3/envs/py38/lib/python3.8/site-packages/selenium/webdriver/remote/webdriver.py\", line 321, in execute\\n    self.error_handler.check_response(response)\\n  File \"/home/azam/miniconda3/envs/py38/lib/python3.8/site-packages/selenium/webdriver/remote/errorhandler.py\", line 242, in check_response\\n    raise exception_class(message, screen, stacktrace)\\nselenium...\n",
      "Traceback (most recent call last):\n",
      "  File \"/home/azam/miniconda3/envs/py38/lib/python3.8/site-packages/linkedin_jobs_scraper/strategies/anonymous_strategy.py\", line 260, in run\n",
      "    job_id, job_link, job_title, job_company, job_place, job_date = driver.execute_script(\n",
      "  File \"/home/azam/miniconda3/envs/py38/lib/python3.8/site-packages/selenium/webdriver/remote/webdriver.py\", line 634, in execute_script\n",
      "    return self.execute(command, {\n",
      "  File \"/home/azam/miniconda3/envs/py38/lib/python3.8/site-packages/selenium/webdriver/remote/webdriver.py\", line 321, in execute\n",
      "    self.error_handler.check_response(response)\n",
      "  File \"/home/azam/miniconda3/envs/py38/lib/python3.8/site-packages/selenium/webdriver/remote/errorhandler.py\", line 242, in check_response\n",
      "    raise exception_class(message, screen, stacktrace)\n",
      "selenium.common.exceptions.JavascriptException: Message: javascript error: Cannot read property 'scrollIntoView' of null\n",
      "  (Session info: headless chrome=91.0.4472.77)\n",
      "\n"
     ]
    },
    {
     "name": "stdout",
     "output_type": "stream",
     "text": [
      "[ON_ERROR] Message: javascript error: Cannot read property 'scrollIntoView' of null\n",
      "  (Session info: headless chrome=91.0.4472.77)\n",
      "\n",
      "Traceback (most recent call last):\n",
      "  File \"/home/azam/miniconda3/envs/py38/lib/python3.8/site-packages/linkedin_jobs_scraper/strategies/anonymous_strategy.py\", line 260, in run\n",
      "    job_id, job_link, job_title, job_company, job_place, job_date = driver.execute_script(\n",
      "  File \"/home/azam/miniconda3/envs/py38/lib/python3.8/site-packages/selenium/webdriver/remote/webdriver.py\", line 634, in execute_script\n",
      "    return self.execute(command, {\n",
      "  File \"/home/azam/miniconda3/envs/py38/lib/python3.8/site-packages/selenium/webdriver/remote/webdriver.py\", line 321, in execute\n",
      "    self.error_handler.check_response(response)\n",
      "  File \"/home/azam/miniconda3/envs/py38/lib/python3.8/site-packages/selenium/webdriver/remote/errorhandler.py\", line 242, in check_response\n",
      "    raise exception_class(message, screen, stacktrace)\n",
      "selenium.common.exceptions.JavascriptException: Message: javascript error: Cannot read property 'scrollIntoView' of null\n",
      "  (Session info: headless chrome=91.0.4472.77)\n",
      "\n",
      "\n"
     ]
    },
    {
     "name": "stderr",
     "output_type": "stream",
     "text": [
      "INFO:li:scraper:('[][Worldwide][1]', 'Processed')\n"
     ]
    },
    {
     "name": "stdout",
     "output_type": "stream",
     "text": [
      "[ON_DATA] Junior Filmmaker Bull & Wolf Film Co. 2021-05-29 https://uk.linkedin.com/jobs/view/junior-filmmaker-at-bull-wolf-film-co-2572184990?refId=6F7AeiftXJPVr9%2FWae%2BzLQ%3D%3D&trackingId=dAcgSUR6EXAwwSzsdDZfOA%3D%3D&position=2&pageNum=0&trk=public_jobs_jserp-result_search-card 2988\n"
     ]
    },
    {
     "name": "stderr",
     "output_type": "stream",
     "text": [
      "INFO:li:scraper:('[][Worldwide][2]', 'Processed')\n"
     ]
    },
    {
     "name": "stdout",
     "output_type": "stream",
     "text": [
      "[ON_DATA] Talent Acquisition, Contract (6 months) Hike 2021-05-29 https://in.linkedin.com/jobs/view/talent-acquisition-contract-6-months-at-hike-2572231505?refId=6F7AeiftXJPVr9%2FWae%2BzLQ%3D%3D&trackingId=Mgk%2FBfwCw5m%2B9gkPQkTbIQ%3D%3D&position=3&pageNum=0&trk=public_jobs_jserp-result_search-card 5026\n"
     ]
    },
    {
     "name": "stderr",
     "output_type": "stream",
     "text": [
      "INFO:li:scraper:('[][Worldwide][3]', 'Processed')\n"
     ]
    },
    {
     "name": "stdout",
     "output_type": "stream",
     "text": [
      "[ON_DATA] International Auditor Nestlé 2021-05-28 https://ch.linkedin.com/jobs/view/international-auditor-at-nestl%C3%A9-2572191120?refId=6F7AeiftXJPVr9%2FWae%2BzLQ%3D%3D&trackingId=yD9BYEyu9CNAumrADtpDsQ%3D%3D&position=4&pageNum=0&trk=public_jobs_jserp-result_search-card 3236\n"
     ]
    },
    {
     "name": "stderr",
     "output_type": "stream",
     "text": [
      "INFO:li:scraper:('[][Worldwide][4]', 'Processed')\n"
     ]
    },
    {
     "name": "stdout",
     "output_type": "stream",
     "text": [
      "[ON_DATA] Events and Communications Officer Signature Recruitment 2021-05-21 https://uk.linkedin.com/jobs/view/events-and-communications-officer-at-signature-recruitment-2572190148?refId=6F7AeiftXJPVr9%2FWae%2BzLQ%3D%3D&trackingId=qFKZZqcHe6sFOSSyq%2FRwKg%3D%3D&position=5&pageNum=0&trk=public_jobs_jserp-result_search-card 1787\n"
     ]
    },
    {
     "name": "stderr",
     "output_type": "stream",
     "text": [
      "INFO:li:scraper:('[][Worldwide][5]', 'Processed')\n"
     ]
    },
    {
     "name": "stdout",
     "output_type": "stream",
     "text": [
      "[ON_DATA] Producing & Production Assistant EmploySE1 2021-05-29 https://uk.linkedin.com/jobs/view/producing-production-assistant-at-employse1-2572193015?refId=6F7AeiftXJPVr9%2FWae%2BzLQ%3D%3D&trackingId=eRFe3UUNvASqxY6yesu7gg%3D%3D&position=6&pageNum=0&trk=public_jobs_jserp-result_search-card 5350\n"
     ]
    },
    {
     "name": "stderr",
     "output_type": "stream",
     "text": [
      "INFO:li:scraper:('[][Worldwide][6]', 'Processed')\n"
     ]
    },
    {
     "name": "stdout",
     "output_type": "stream",
     "text": [
      "[ON_DATA] Junior Operations Manager VAHA 2021-05-29 https://de.linkedin.com/jobs/view/junior-operations-manager-at-vaha-2572187540?refId=6F7AeiftXJPVr9%2FWae%2BzLQ%3D%3D&trackingId=wDF3HH6f3SJ9NtfnS8cvyw%3D%3D&position=7&pageNum=0&trk=public_jobs_jserp-result_search-card 1934\n"
     ]
    },
    {
     "name": "stderr",
     "output_type": "stream",
     "text": [
      "INFO:li:scraper:('[][Worldwide][7]', 'Processed')\n"
     ]
    },
    {
     "name": "stdout",
     "output_type": "stream",
     "text": [
      "[ON_DATA] Customer Success Specialist Occupop 2021-05-29 https://ie.linkedin.com/jobs/view/customer-success-specialist-at-occupop-2572230392?refId=6F7AeiftXJPVr9%2FWae%2BzLQ%3D%3D&trackingId=ckdte7BXlUGUXoGodQfPVg%3D%3D&position=8&pageNum=0&trk=public_jobs_jserp-result_search-card 2977\n"
     ]
    },
    {
     "name": "stderr",
     "output_type": "stream",
     "text": [
      "INFO:li:scraper:('[][Worldwide][8]', 'Processed')\n"
     ]
    },
    {
     "name": "stdout",
     "output_type": "stream",
     "text": [
      "[ON_DATA] Marketing and Promotions Assistant Ultimate charities 2021-05-29 https://www.linkedin.com/jobs/view/marketing-and-promotions-assistant-at-ultimate-charities-2572181805?refId=6F7AeiftXJPVr9%2FWae%2BzLQ%3D%3D&trackingId=mWQTlrEKkLoUwHxWIsHuUg%3D%3D&position=9&pageNum=0&trk=public_jobs_jserp-result_search-card 1356\n"
     ]
    },
    {
     "name": "stderr",
     "output_type": "stream",
     "text": [
      "INFO:li:scraper:('[][Worldwide][9]', 'Processed')\n"
     ]
    },
    {
     "name": "stdout",
     "output_type": "stream",
     "text": [
      "[ON_DATA] Educational Counselor CognitiveLearning 2021-05-29 https://in.linkedin.com/jobs/view/educational-counselor-at-cognitivelearning-2572234324?refId=6F7AeiftXJPVr9%2FWae%2BzLQ%3D%3D&trackingId=EjTZHnwfT6SWbuwtNmoUoQ%3D%3D&position=10&pageNum=0&trk=public_jobs_jserp-result_search-card 194\n"
     ]
    },
    {
     "name": "stderr",
     "output_type": "stream",
     "text": [
      "INFO:li:scraper:('[][Worldwide][10]', 'Processed')\n"
     ]
    },
    {
     "name": "stdout",
     "output_type": "stream",
     "text": [
      "[ON_DATA] Product Communications Assistant Market Ripple 2021-05-29 https://uk.linkedin.com/jobs/view/product-communications-assistant-at-market-ripple-2572191536?refId=6F7AeiftXJPVr9%2FWae%2BzLQ%3D%3D&trackingId=j1DsnANdXrjTjICpBPlncw%3D%3D&position=11&pageNum=0&trk=public_jobs_jserp-result_search-card 1863\n"
     ]
    },
    {
     "name": "stderr",
     "output_type": "stream",
     "text": [
      "INFO:li:scraper:('[][Worldwide][11]', 'Processed')\n"
     ]
    },
    {
     "name": "stdout",
     "output_type": "stream",
     "text": [
      "[ON_DATA] KOL Specialist Bibit.id 2021-05-29 https://id.linkedin.com/jobs/view/kol-specialist-at-bibit-id-2572199126?refId=6F7AeiftXJPVr9%2FWae%2BzLQ%3D%3D&trackingId=lJ3XcnS1aK7RU8k5NCGVzw%3D%3D&position=12&pageNum=0&trk=public_jobs_jserp-result_search-card 1797\n"
     ]
    },
    {
     "name": "stderr",
     "output_type": "stream",
     "text": [
      "INFO:li:scraper:('[][Worldwide][12]', 'Processed')\n"
     ]
    },
    {
     "name": "stdout",
     "output_type": "stream",
     "text": [
      "[ON_DATA] PR Manager M3 Communications Group, Inc. 2021-05-29 https://bg.linkedin.com/jobs/view/pr-manager-at-m3-communications-group-inc-2572189772?refId=6F7AeiftXJPVr9%2FWae%2BzLQ%3D%3D&trackingId=CCHVdhTLNCX5ommBXmwc7A%3D%3D&position=13&pageNum=0&trk=public_jobs_jserp-result_search-card 1648\n"
     ]
    },
    {
     "name": "stderr",
     "output_type": "stream",
     "text": [
      "INFO:li:scraper:('[][Worldwide][13]', 'Processed')\n",
      "INFO:li:scraper:('[][Worldwide][13]', 'Checking for new jobs to load...')\n"
     ]
    },
    {
     "name": "stdout",
     "output_type": "stream",
     "text": [
      "[ON_DATA] Creative Lead / Manager Myntra 2021-05-29 https://in.linkedin.com/jobs/view/creative-lead-manager-at-myntra-2572254044?refId=6F7AeiftXJPVr9%2FWae%2BzLQ%3D%3D&trackingId=uV%2FHQ2WMaNU8vbV1cWw4NA%3D%3D&position=14&pageNum=0&trk=public_jobs_jserp-result_search-card 3157\n"
     ]
    },
    {
     "name": "stderr",
     "output_type": "stream",
     "text": [
      "INFO:li:scraper:('[][Worldwide][13]', 'Found 25 jobs')\n",
      "INFO:li:scraper:('[][Worldwide][14]', 'Processed')\n"
     ]
    },
    {
     "name": "stdout",
     "output_type": "stream",
     "text": [
      "[ON_DATA] Research Assistant The Philipp University of Marburg 2021-05-05 https://au.linkedin.com/jobs/view/research-assistant-at-the-philipp-university-of-marburg-2572192645?refId=1A%2FgcRb4Yc%2B%2B9rU5ZwN%2F9w%3D%3D&trackingId=8NfNMx218htjidaY3b2%2BeA%3D%3D&position=1&pageNum=1&trk=public_jobs_jserp-result_search-card 1852\n"
     ]
    },
    {
     "name": "stderr",
     "output_type": "stream",
     "text": [
      "INFO:li:scraper:('[][Worldwide][15]', 'Processed')\n"
     ]
    },
    {
     "name": "stdout",
     "output_type": "stream",
     "text": [
      "[ON_DATA] Global Internal Communications Specialist Fiverr 2021-05-29 https://il.linkedin.com/jobs/view/global-internal-communications-specialist-at-fiverr-2572197486?refId=1A%2FgcRb4Yc%2B%2B9rU5ZwN%2F9w%3D%3D&trackingId=1yS58DgjjRlwLYZU5q%2FgpQ%3D%3D&position=2&pageNum=1&trk=public_jobs_jserp-result_search-card 2977\n"
     ]
    },
    {
     "name": "stderr",
     "output_type": "stream",
     "text": [
      "INFO:li:scraper:('[][Worldwide][16]', 'Processed')\n"
     ]
    },
    {
     "name": "stdout",
     "output_type": "stream",
     "text": [
      "[ON_DATA] Graduate in Sales Leonteq 2021-05-29 https://ch.linkedin.com/jobs/view/graduate-in-sales-at-leonteq-2572200302?refId=1A%2FgcRb4Yc%2B%2B9rU5ZwN%2F9w%3D%3D&trackingId=ihxjpNNSKSyPlwdAcJpwMA%3D%3D&position=3&pageNum=1&trk=public_jobs_jserp-result_search-card 792\n"
     ]
    },
    {
     "name": "stderr",
     "output_type": "stream",
     "text": [
      "INFO:li:scraper:('[][Worldwide][17]', 'Processed')\n"
     ]
    },
    {
     "name": "stdout",
     "output_type": "stream",
     "text": [
      "[ON_DATA] Customer Service Co-Ordinator Nouvo Recruitment 2021-05-29 https://uk.linkedin.com/jobs/view/customer-service-co-ordinator-at-nouvo-recruitment-2572185905?refId=1A%2FgcRb4Yc%2B%2B9rU5ZwN%2F9w%3D%3D&trackingId=lgT4RZAAdvoi%2FHd60BtPIA%3D%3D&position=4&pageNum=1&trk=public_jobs_jserp-result_search-card 2085\n"
     ]
    },
    {
     "name": "stderr",
     "output_type": "stream",
     "text": [
      "INFO:li:scraper:('[][Worldwide][18]', 'Processed')\n"
     ]
    },
    {
     "name": "stdout",
     "output_type": "stream",
     "text": [
      "[ON_DATA] Service Coordinator McSport 2021-05-29 https://ie.linkedin.com/jobs/view/service-coordinator-at-mcsport-2572230424?refId=1A%2FgcRb4Yc%2B%2B9rU5ZwN%2F9w%3D%3D&trackingId=1aWYyldJQG7jZe1%2F%2BX765A%3D%3D&position=5&pageNum=1&trk=public_jobs_jserp-result_search-card 2060\n"
     ]
    },
    {
     "name": "stderr",
     "output_type": "stream",
     "text": [
      "INFO:li:scraper:('[][Worldwide][19]', 'Processed')\n"
     ]
    },
    {
     "name": "stdout",
     "output_type": "stream",
     "text": [
      "[ON_DATA] Corporate & Investment Banking Summer Analyst Intern - Summer 2021 - New York Santander Bank, N.A. 2021-05-29 https://www.linkedin.com/jobs/view/corporate-investment-banking-summer-analyst-intern-summer-2021-new-york-at-santander-bank-n-a-2572192857?refId=1A%2FgcRb4Yc%2B%2B9rU5ZwN%2F9w%3D%3D&trackingId=gSuUnSK8Mf%2BKI2HeVhBeDg%3D%3D&position=6&pageNum=1&trk=public_jobs_jserp-result_search-card 4236\n"
     ]
    },
    {
     "name": "stderr",
     "output_type": "stream",
     "text": [
      "INFO:li:scraper:('[][Worldwide][20]', 'Processed')\n"
     ]
    },
    {
     "name": "stdout",
     "output_type": "stream",
     "text": [
      "[ON_DATA] B School Off Campus Hiring - Consulting Deloitte India (Offices of the US) 2021-05-29 https://in.linkedin.com/jobs/view/b-school-off-campus-hiring-consulting-at-deloitte-india-offices-of-the-us-2572230543?refId=1A%2FgcRb4Yc%2B%2B9rU5ZwN%2F9w%3D%3D&trackingId=KIEr3XcFsrLCm8G8yhZkOg%3D%3D&position=7&pageNum=1&trk=public_jobs_jserp-result_search-card 10445\n"
     ]
    },
    {
     "name": "stderr",
     "output_type": "stream",
     "text": [
      "INFO:li:scraper:('[][Worldwide][21]', 'Processed')\n"
     ]
    },
    {
     "name": "stdout",
     "output_type": "stream",
     "text": [
      "[ON_DATA] 1 fixed-term research assistant Sapienza Università di Roma 2021-05-14 https://it.linkedin.com/jobs/view/1-fixed-term-research-assistant-at-sapienza-universit%C3%A0-di-roma-2572186964?refId=1A%2FgcRb4Yc%2B%2B9rU5ZwN%2F9w%3D%3D&trackingId=UuW3%2FaYPDxhl5ESy4i0WAA%3D%3D&position=8&pageNum=1&trk=public_jobs_jserp-result_search-card 179\n"
     ]
    },
    {
     "name": "stderr",
     "output_type": "stream",
     "text": [
      "INFO:li:scraper:('[][Worldwide][22]', 'Processed')\n"
     ]
    },
    {
     "name": "stdout",
     "output_type": "stream",
     "text": [
      "[ON_DATA] Junior Recruitment Consultant RULE Recruitment 2021-05-22 https://uk.linkedin.com/jobs/view/junior-recruitment-consultant-at-rule-recruitment-2572188000?refId=1A%2FgcRb4Yc%2B%2B9rU5ZwN%2F9w%3D%3D&trackingId=2ca6O%2Bdhl7czL5nnUj6ljA%3D%3D&position=9&pageNum=1&trk=public_jobs_jserp-result_search-card 3280\n"
     ]
    },
    {
     "name": "stderr",
     "output_type": "stream",
     "text": [
      "INFO:li:scraper:('[][Worldwide][23]', 'Processed')\n"
     ]
    },
    {
     "name": "stdout",
     "output_type": "stream",
     "text": [
      "[ON_DATA] Customer Service Executive Telecontinent Sdn Bhd 2021-05-29 https://my.linkedin.com/jobs/view/customer-service-executive-at-telecontinent-sdn-bhd-2572185243?refId=1A%2FgcRb4Yc%2B%2B9rU5ZwN%2F9w%3D%3D&trackingId=qSbEVAYB5T0%2FQ6XqKIbhqQ%3D%3D&position=10&pageNum=1&trk=public_jobs_jserp-result_search-card 1645\n"
     ]
    },
    {
     "name": "stderr",
     "output_type": "stream",
     "text": [
      "INFO:li:scraper:('[][Worldwide][24]', 'Processed')\n"
     ]
    },
    {
     "name": "stdout",
     "output_type": "stream",
     "text": [
      "[ON_DATA] Corporate Secretarial Executive - Kuala Lumpur Chrisjac Recruitment Services 2021-05-29 https://my.linkedin.com/jobs/view/corporate-secretarial-executive-kuala-lumpur-at-chrisjac-recruitment-services-2572229267?refId=1A%2FgcRb4Yc%2B%2B9rU5ZwN%2F9w%3D%3D&trackingId=nAAzuoms0dE%2FLaEtKentaw%3D%3D&position=11&pageNum=1&trk=public_jobs_jserp-result_search-card 2200\n"
     ]
    },
    {
     "name": "stderr",
     "output_type": "stream",
     "text": [
      "INFO:li:scraper:('[][Worldwide][25]', 'Processed')\n"
     ]
    },
    {
     "name": "stdout",
     "output_type": "stream",
     "text": [
      "[ON_DATA] Project Coordinator 24/7 Networks 2021-05-29 https://www.linkedin.com/jobs/view/project-coordinator-at-24-7-networks-2571973018?refId=%2FfI%2FsfkVYR735ms1Z%2BL3%2FA%3D%3D&trackingId=gg0L2tfqs%2BuZShpSu8%2Bo2A%3D%3D&position=1&pageNum=2&trk=public_jobs_jserp-result_search-card 2324\n"
     ]
    },
    {
     "name": "stderr",
     "output_type": "stream",
     "text": [
      "INFO:li:scraper:('[][Worldwide][26]', 'Processed')\n"
     ]
    },
    {
     "name": "stdout",
     "output_type": "stream",
     "text": [
      "[ON_DATA] Strategic Planner Roads to Success 2021-05-29 https://www.linkedin.com/jobs/view/strategic-planner-at-roads-to-success-2572184090?refId=%2FfI%2FsfkVYR735ms1Z%2BL3%2FA%3D%3D&trackingId=uvy2KxH51MxCr%2BL%2Bhbi83A%3D%3D&position=2&pageNum=2&trk=public_jobs_jserp-result_search-card 3264\n"
     ]
    },
    {
     "name": "stderr",
     "output_type": "stream",
     "text": [
      "INFO:li:scraper:('[][Worldwide][27]', 'Processed')\n",
      "INFO:li:scraper:('Starting new query', \"Query(query=Engineer options=QueryOptions(limit=5 locations=['United States'] filters=QueryFilters(company_jobs_url=https://www.linkedin.com/jobs/search/?f_C=1441%2C17876832%2C791962%2C2374003%2C18950635%2C16140%2C10440912&geoId=92000000 relevance=RelevanceFilters.RECENT time=TimeFilters.MONTH type=[<TypeFilters.FULL_TIME: 'F'>, <TypeFilters.INTERNSHIP: 'I'>]) optimize=False))\")\n"
     ]
    },
    {
     "name": "stdout",
     "output_type": "stream",
     "text": [
      "[ON_DATA] Project Coordinator Beatport 2021-05-21 https://www.linkedin.com/jobs/view/project-coordinator-at-beatport-2571971029?refId=%2FfI%2FsfkVYR735ms1Z%2BL3%2FA%3D%3D&trackingId=3T6Xrzz3EuchjFQj7CtdaA%3D%3D&position=3&pageNum=2&trk=public_jobs_jserp-result_search-card 5836\n",
      "[ON_END]\n"
     ]
    },
    {
     "name": "stderr",
     "output_type": "stream",
     "text": [
      "INFO:li:scraper:('[Engineer][United States]', 'Opening https://www.linkedin.com/jobs/search?keywords=Engineer&location=United+States&f_C=1441%2C17876832%2C791962%2C2374003%2C18950635%2C16140%2C10440912&sortBy=DD&f_TPR=r2592000&f_JT=F%2CI')\n",
      "INFO:li:scraper:('[Engineer][United States]', 'Trying first selectors set')\n",
      "INFO:li:scraper:('[Engineer][United States]', 'Trying second selectors set')\n",
      "INFO:li:scraper:('[Engineer][United States]', 'OK')\n",
      "INFO:li:scraper:('[Engineer][United States]', 'Starting pagination loop')\n",
      "INFO:li:scraper:('[Engineer][United States]', 'Found 25 jobs')\n",
      "INFO:li:scraper:('[Engineer][United States][1]', 'Processed')\n"
     ]
    },
    {
     "name": "stdout",
     "output_type": "stream",
     "text": [
      "[ON_DATA] Commercial Counsel, YouTube YouTube 2021-05-29 https://www.linkedin.com/jobs/view/commercial-counsel-youtube-at-youtube-2560770884?refId=YTwnoIQAw%2Bf8UkT0GZzkTg%3D%3D&trackingId=on8EIJeN3kHA3VVDXdEGzQ%3D%3D&position=1&pageNum=0&trk=public_jobs_jserp-result_search-card 3555\n"
     ]
    },
    {
     "name": "stderr",
     "output_type": "stream",
     "text": [
      "INFO:li:scraper:('[Engineer][United States][2]', 'Processed')\n"
     ]
    },
    {
     "name": "stdout",
     "output_type": "stream",
     "text": [
      "[ON_DATA] Commercial Counsel, YouTube YouTube 2021-05-29 https://www.linkedin.com/jobs/view/commercial-counsel-youtube-at-youtube-2560774600?refId=YTwnoIQAw%2Bf8UkT0GZzkTg%3D%3D&trackingId=YihF8fO8exAxx0GFQ4dDMQ%3D%3D&position=2&pageNum=0&trk=public_jobs_jserp-result_search-card 3555\n"
     ]
    },
    {
     "name": "stderr",
     "output_type": "stream",
     "text": [
      "INFO:li:scraper:('[Engineer][United States][3]', 'Processed')\n"
     ]
    },
    {
     "name": "stdout",
     "output_type": "stream",
     "text": [
      "[ON_DATA] Commercial Counsel, YouTube YouTube 2021-05-29 https://www.linkedin.com/jobs/view/commercial-counsel-youtube-at-youtube-2560772693?refId=YTwnoIQAw%2Bf8UkT0GZzkTg%3D%3D&trackingId=bpokqkSH54vRhw1IjiG2VQ%3D%3D&position=3&pageNum=0&trk=public_jobs_jserp-result_search-card 3555\n"
     ]
    },
    {
     "name": "stderr",
     "output_type": "stream",
     "text": [
      "INFO:li:scraper:('[Engineer][United States][4]', 'Processed')\n"
     ]
    },
    {
     "name": "stdout",
     "output_type": "stream",
     "text": [
      "[ON_DATA] Engineering Manager, Google Cloud Security Google 2021-05-28 https://www.linkedin.com/jobs/view/engineering-manager-google-cloud-security-at-google-2439790382?refId=YTwnoIQAw%2Bf8UkT0GZzkTg%3D%3D&trackingId=bfuen5lEv%2B9o7BJi9Ws%2Fvg%3D%3D&position=4&pageNum=0&trk=public_jobs_jserp-result_search-card 4017\n"
     ]
    },
    {
     "name": "stderr",
     "output_type": "stream",
     "text": [
      "INFO:li:scraper:('[Engineer][United States][5]', 'Processed')\n"
     ]
    },
    {
     "name": "stdout",
     "output_type": "stream",
     "text": [
      "[ON_DATA] Senior Software Engineer, Infrastructure Google 2021-05-28 https://www.linkedin.com/jobs/view/senior-software-engineer-infrastructure-at-google-2439791267?refId=YTwnoIQAw%2Bf8UkT0GZzkTg%3D%3D&trackingId=K9onZz4WlMuBOgg2vzgRNQ%3D%3D&position=5&pageNum=0&trk=public_jobs_jserp-result_search-card 4455\n",
      "[ON_END]\n"
     ]
    }
   ],
   "source": [
    "data = pd.DataFrame()\n",
    "scraper.run(queries)"
   ]
  },
  {
   "cell_type": "code",
   "execution_count": 9,
   "metadata": {},
   "outputs": [
    {
     "name": "stdout",
     "output_type": "stream",
     "text": [
      "Help on LinkedinScraper in module linkedin_jobs_scraper.linkedin_scraper object:\n",
      "\n",
      "class LinkedinScraper(builtins.object)\n",
      " |  LinkedinScraper(chrome_executable_path=None, chrome_options: selenium.webdriver.chrome.options.Options = None, headless: bool = True, proxies: List[str] = None, max_workers: int = 2, slow_mo: float = 0.4)\n",
      " |  \n",
      " |  Args:\n",
      " |      chrome_options (selenium.webdriver.chrome.options.Options): Options to be passed to the Chrome driver.\n",
      " |          If None, default options will be used.\n",
      " |      headless (bool): Overrides headless mode only if chrome_options is None. If chrome_options is passed in\n",
      " |          the constructor, this flag is ignored.\n",
      " |      max_workers (int): Number of threads spawned to execute concurrent queries. Each thread will use a\n",
      " |          different Chrome driver instance.\n",
      " |      slow_mo (float): Slow down the scraper execution, mainly to avoid 429 (Too many requests) errors.\n",
      " |  \n",
      " |  Methods defined here:\n",
      " |  \n",
      " |  __init__(self, chrome_executable_path=None, chrome_options: selenium.webdriver.chrome.options.Options = None, headless: bool = True, proxies: List[str] = None, max_workers: int = 2, slow_mo: float = 0.4)\n",
      " |      Initialize self.  See help(type(self)) for accurate signature.\n",
      " |  \n",
      " |  add_proxy(self, proxy: str)\n",
      " |      Add a proxy\n",
      " |      :param proxy:\n",
      " |      :return: None\n",
      " |  \n",
      " |  emit(self, event: linkedin_jobs_scraper.events.events.Events, *args) -> None\n",
      " |      Execute callbacks for the given event\n",
      " |      :param event: str\n",
      " |      :param args: args\n",
      " |      :return: None\n",
      " |  \n",
      " |  get_proxies(self)\n",
      " |      Get proxies\n",
      " |      :return: List[str]\n",
      " |  \n",
      " |  on(self, event: linkedin_jobs_scraper.events.events.Events, cb: Callable, once=False) -> None\n",
      " |      Add callback for the given event\n",
      " |      :param event: str\n",
      " |      :param cb: Callable\n",
      " |      :param once: bool\n",
      " |      :return: None\n",
      " |  \n",
      " |  once(self, event: linkedin_jobs_scraper.events.events.Events, cb: Callable) -> None\n",
      " |      Add once callback for the given event\n",
      " |      :param event: str\n",
      " |      :param cb: Callable\n",
      " |      :return: None\n",
      " |  \n",
      " |  remove_all_listeners(self, event: linkedin_jobs_scraper.events.events.Events) -> None\n",
      " |      Remove all listeners for the given event\n",
      " |      :param event: str\n",
      " |      :return: None\n",
      " |  \n",
      " |  remove_listener(self, event: linkedin_jobs_scraper.events.events.Events, cb: Callable) -> bool\n",
      " |      Remove listener for the given event\n",
      " |      :param event: str\n",
      " |      :param cb: Callable\n",
      " |      :return:\n",
      " |  \n",
      " |  remove_proxy(self, proxy: str)\n",
      " |      Remove a proxy\n",
      " |      :param proxy:\n",
      " |      :return: None\n",
      " |  \n",
      " |  run(self, queries: Union[linkedin_jobs_scraper.query.query.Query, List[linkedin_jobs_scraper.query.query.Query]], options: linkedin_jobs_scraper.query.query.QueryOptions = None) -> None\n",
      " |      Run a query or a list of queries\n",
      " |      :param queries: Union[Query, List[Query]]\n",
      " |      :param options: QueryOptions\n",
      " |      :return: None\n",
      " |  \n",
      " |  set_proxies(self, proxies: List[str])\n",
      " |      Set proxies\n",
      " |      :param proxies:\n",
      " |      :return: None\n",
      " |  \n",
      " |  ----------------------------------------------------------------------\n",
      " |  Data descriptors defined here:\n",
      " |  \n",
      " |  __dict__\n",
      " |      dictionary for instance variables (if defined)\n",
      " |  \n",
      " |  __weakref__\n",
      " |      list of weak references to the object (if defined)\n",
      "\n"
     ]
    }
   ],
   "source": [
    "help(scraper)"
   ]
  },
  {
   "cell_type": "code",
   "execution_count": 11,
   "metadata": {},
   "outputs": [
    {
     "ename": "AttributeError",
     "evalue": "'LinkedinScraper' object has no attribute 'jobs'",
     "output_type": "error",
     "traceback": [
      "\u001b[0;31m-------------------------------------------------------------------\u001b[0m",
      "\u001b[0;31mAttributeError\u001b[0m                    Traceback (most recent call last)",
      "\u001b[0;32m<ipython-input-11-6e44befa2480>\u001b[0m in \u001b[0;36m<module>\u001b[0;34m\u001b[0m\n\u001b[0;32m----> 1\u001b[0;31m \u001b[0mscraper\u001b[0m\u001b[0;34m.\u001b[0m\u001b[0mjobs\u001b[0m\u001b[0;34m\u001b[0m\u001b[0;34m\u001b[0m\u001b[0m\n\u001b[0m",
      "\u001b[0;31mAttributeError\u001b[0m: 'LinkedinScraper' object has no attribute 'jobs'"
     ]
    }
   ],
   "source": [
    "scraper.jobs"
   ]
  },
  {
   "cell_type": "raw",
   "metadata": {},
   "source": []
  }
 ],
 "metadata": {
  "kernelspec": {
   "display_name": "Python 3",
   "language": "python",
   "name": "python3"
  },
  "language_info": {
   "codemirror_mode": {
    "name": "ipython",
    "version": 3
   },
   "file_extension": ".py",
   "mimetype": "text/x-python",
   "name": "python",
   "nbconvert_exporter": "python",
   "pygments_lexer": "ipython3",
   "version": "3.8.5"
  }
 },
 "nbformat": 4,
 "nbformat_minor": 4
}
