{
 "cells": [
  {
   "cell_type": "markdown",
   "id": "f571ae72-5293-4a56-ba32-1b9a832784f0",
   "metadata": {},
   "source": [
    "# NLP based analysis\n",
    "This is a continuation of the previous notebook, moving on to building an NLP based classifier"
   ]
  },
  {
   "cell_type": "markdown",
   "id": "f99eebe5-afd9-4d0b-b239-b95ec8f69b3c",
   "metadata": {},
   "source": [
    "# NLP model building (CHECKPOINT)\n",
    "Devekio a model using just text data, no manual feature engineering of specific \"skills\" mentioned in text."
   ]
  },
  {
   "cell_type": "code",
   "execution_count": 1,
   "id": "476dfe8f-84d2-4afe-840c-241416d31c7d",
   "metadata": {},
   "outputs": [],
   "source": [
    "# Imports\n",
    "import pandas as pd\n",
    "import seaborn as sns\n",
    "import matplotlib.pyplot as plt\n",
    "import nltk\n",
    "from nltk.corpus import stopwords"
   ]
  },
  {
   "cell_type": "code",
   "execution_count": 2,
   "id": "1b11714c-70ae-4573-a83e-89c0939bce9f",
   "metadata": {},
   "outputs": [],
   "source": [
    "# Import sklearn\n",
    "from sklearn.model_selection import train_test_split, cross_val_score\n",
    "from sklearn.preprocessing import StandardScaler, OrdinalEncoder, OneHotEncoder, LabelEncoder\n",
    "from sklearn.impute import SimpleImputer\n",
    "from sklearn.metrics import accuracy_score, plot_confusion_matrix, f1_score \n",
    "from sklearn.metrics import plot_roc_curve, roc_auc_score, precision_score, recall_score\n",
    "from sklearn.metrics import precision_recall_fscore_support, plot_precision_recall_curve\n",
    "from sklearn.model_selection import GridSearchCV, RandomizedSearchCV\n",
    "from sklearn.inspection import permutation_importance\n",
    "from sklearn.feature_extraction.text import CountVectorizer\n",
    "\n",
    "from sklearn.pipeline import Pipeline\n",
    "from sklearn.compose import ColumnTransformer\n",
    "from sklearn.svm import SVC\n",
    "from sklearn.linear_model import SGDClassifier\n",
    "from sklearn.linear_model import LogisticRegression\n",
    "from sklearn.tree import DecisionTreeClassifier\n",
    "from sklearn.ensemble import RandomForestClassifier\n",
    "from sklearn.dummy import DummyClassifier"
   ]
  },
  {
   "cell_type": "markdown",
   "id": "0f849481-946c-47bd-a46c-b905d7c05ef0",
   "metadata": {},
   "source": [
    "## Load in preprocessed data\n",
    "Read the saved .csv file and tidy things up to suit my classification task.\n",
    "- I will drop any jobs that aren't data scientist/engineer/analyst or business analyst\n",
    "- "
   ]
  },
  {
   "cell_type": "code",
   "execution_count": 3,
   "id": "1f5b255f-6079-4b92-b34c-c6df1ef40c9f",
   "metadata": {
    "scrolled": true,
    "tags": []
   },
   "outputs": [
    {
     "name": "stdout",
     "output_type": "stream",
     "text": [
      "Data read from .csv\n",
      ">> (2422 rows, 58 columns)\n",
      "\n"
     ]
    }
   ],
   "source": [
    "df = pd.read_csv('df_preprocessed.csv', index_col=0)\n",
    "print(f'Data read from .csv\\n>> ({len(df)} rows, {len(df.columns)} columns)\\n')\n"
   ]
  },
  {
   "cell_type": "code",
   "execution_count": 4,
   "id": "5751e91d-5217-478c-b627-0122e214a9fd",
   "metadata": {},
   "outputs": [
    {
     "name": "stdout",
     "output_type": "stream",
     "text": [
      "Dropped rows outside of selection\n",
      ">> (992 rows, 58 columns remaining)\n"
     ]
    }
   ],
   "source": [
    "# Drop everything but Data Analyst, Data Scientist, Data Engineer, Business Analyst\n",
    "df = df.drop(df[~df.title_simplified.isin(['data scientist', \n",
    "                                           'data analyst', \n",
    "                                           'data engineer', \n",
    "                                           'business analyst'])].index)\n",
    "print(f'Dropped rows outside of selection\\n>> ({len(df)} rows, {len(df.columns)} columns remaining)')"
   ]
  },
  {
   "cell_type": "markdown",
   "id": "30c4f804-8640-4b53-9b4e-00c56a316373",
   "metadata": {
    "tags": []
   },
   "source": [
    "## Write NLP preprocessing funcs to operate with full df of adverts\n",
    "Will need to iterate through each row in the df, applying the tokeniser"
   ]
  },
  {
   "cell_type": "code",
   "execution_count": 5,
   "id": "4760a8a8-a359-4e1e-ad61-7496c067b186",
   "metadata": {},
   "outputs": [],
   "source": [
    "# Remove stopwords and punctuation\n",
    "def remove_stopwords_doc(doc):\n",
    "    # load stopwords and\n",
    "    stop_words = set(stopwords.words(\"english\"))\n",
    "    words = [w for w in doc if (w not in stop_words) & (w.isalpha())]\n",
    "    return words"
   ]
  },
  {
   "cell_type": "code",
   "execution_count": 6,
   "id": "4fe0bd3a-d30b-4581-a7e4-a12711541b9e",
   "metadata": {
    "scrolled": true,
    "tags": []
   },
   "outputs": [],
   "source": [
    "# loop through each advert\n",
    "def nlp_pre_process(df, verbose=False):\n",
    "    '''Loops through each add and tokenizes, removes stopwords, non alphabeticals, '''\n",
    "    stop_words = set(stopwords.words(\"english\"))\n",
    "    sent_f_list = []\n",
    "    \n",
    "    for index, row in df.iterrows():\n",
    "        document = row.description.lower()\n",
    "        document = document.replace('\\n',' ')\n",
    "#         words = nltk.word_tokenize(document)\n",
    "#         words = [w for w in words if (w not in stop_words) & (w.isalpha())]\n",
    "#         if verbose: print(f'BEFORE:   \"{document[:80]}...\"')\n",
    "#         if verbose: print(f'Number of WORDS: {len(words)}')\n",
    "        \n",
    "        # Do the same but on a per-sentence basis.\n",
    "        # Might eventually put n-grams in this loop.\n",
    "        sents = nltk.sent_tokenize(document)\n",
    "        sents = [remove_stopwords_doc(nltk.word_tokenize(sent)) for sent in sents]\n",
    "        sent_f = []\n",
    "        for sent in sents:\n",
    "            sent_f.append(remove_stopwords_doc(sent))\n",
    "        sent_f = [sent for sents in sent_f for sent in sents]\n",
    "        word_set = set(sent_f)\n",
    "        if verbose: print(f'Tokenised:              {sent_f[:10]}...')\n",
    "        if verbose: print(f'Number of SENTENCES:    {len(sents)}')       \n",
    "        if verbose: print(f'Number of UNIQUE WORDS: {len(word_set)}\\n')\n",
    "        sent_f_list.append(sent_f)\n",
    "                        \n",
    "    return sent_f_list"
   ]
  },
  {
   "cell_type": "code",
   "execution_count": 7,
   "id": "9091f563-07f0-4466-b41e-495f28eaee2a",
   "metadata": {},
   "outputs": [
    {
     "name": "stdout",
     "output_type": "stream",
     "text": [
      "Tokenised:              ['join', 'us', 'data', 'scientist', 'identifying', 'working', 'large', 'complex', 'data', 'sets']...\n",
      "Number of SENTENCES:    8\n",
      "Number of UNIQUE WORDS: 222\n",
      "\n",
      "Tokenised:              ['client', 'supports', 'international', 'organisations', 'pharmaceutical', 'healthcare', 'industries', 'across', 'range', 'bespoke']...\n",
      "Number of SENTENCES:    4\n",
      "Number of UNIQUE WORDS: 112\n",
      "\n"
     ]
    }
   ],
   "source": [
    "# Test the func on just 2 job ads first\n",
    "sent_list = nlp_pre_process(df.head(2), verbose=True)"
   ]
  },
  {
   "cell_type": "code",
   "execution_count": 8,
   "id": "7cc6b470-1f31-4d0d-bdcd-49df74eefe1f",
   "metadata": {},
   "outputs": [],
   "source": [
    "# Vectorise the tokens to make compatible with classifier training \n",
    "def dummy(doc):\n",
    "    return doc\n",
    "count_vect = CountVectorizer(tokenizer=dummy, preprocessor=dummy)\n",
    "X = count_vect.fit_transform(sent_list)\n",
    "\n",
    "def nlp_vectorize(df, verbose=False):\n",
    "    sent_list = nlp_pre_process(df, verbose=verbose)\n",
    "    count_vect = CountVectorizer(tokenizer=dummy, preprocessor=dummy)\n",
    "    X = count_vect.fit_transform(sent_list)\n",
    "    return X"
   ]
  },
  {
   "cell_type": "code",
   "execution_count": 9,
   "id": "63eb2b03-0f1f-46c5-b2a9-c74d24cf1faf",
   "metadata": {},
   "outputs": [],
   "source": [
    "# Assign X, y\n",
    "y = df.title_simplified\n",
    "X = nlp_vectorize(df)"
   ]
  },
  {
   "cell_type": "code",
   "execution_count": 10,
   "id": "18f80677-bce7-4b54-8ca5-d7f10375def3",
   "metadata": {},
   "outputs": [],
   "source": [
    "# train_test_split\n",
    "X_train, X_test, y_train, y_test = train_test_split(X, y, test_size=0.2, random_state=42)"
   ]
  },
  {
   "cell_type": "markdown",
   "id": "cd9af642-07e1-4b57-80e7-c0efa54aa27b",
   "metadata": {},
   "source": [
    "## Retry NB model"
   ]
  },
  {
   "cell_type": "code",
   "execution_count": 11,
   "id": "98339a83-a22e-4a98-b9d5-9cb856016dcf",
   "metadata": {},
   "outputs": [],
   "source": [
    "from sklearn.naive_bayes import MultinomialNB\n",
    "clf_nb = MultinomialNB()"
   ]
  },
  {
   "cell_type": "code",
   "execution_count": 12,
   "id": "9d586aa1-c27f-4b3e-bf3a-1574973518f9",
   "metadata": {},
   "outputs": [],
   "source": [
    "clf_nb.fit(X_train, y_train);"
   ]
  },
  {
   "cell_type": "code",
   "execution_count": 13,
   "id": "4f748346-6695-49f5-8ce7-0475d585c939",
   "metadata": {},
   "outputs": [
    {
     "data": {
      "text/plain": [
       "0.8442211055276382"
      ]
     },
     "execution_count": 13,
     "metadata": {},
     "output_type": "execute_result"
    }
   ],
   "source": [
    "# Check accuracy metric\n",
    "accuracy_score(y_test, clf_nb.predict(X_test))"
   ]
  },
  {
   "cell_type": "code",
   "execution_count": 14,
   "id": "b8e72684-0d70-48ae-a16a-3f3c9a868656",
   "metadata": {},
   "outputs": [
    {
     "data": {
      "image/png": "[encoded data removed]",
      "text/plain": [
       "<Figure size 432x288 with 2 Axes>"
      ]
     },
     "metadata": {
      "needs_background": "light"
     },
     "output_type": "display_data"
    }
   ],
   "source": [
    "plot_confusion_matrix(clf_nb, X_test, y_test, values_format='d', xticks_rotation='vertical', cmap='rocket');"
   ]
  },
  {
   "cell_type": "markdown",
   "id": "201dfa44-f280-46c4-8025-aef2450dc876",
   "metadata": {},
   "source": [
    "This result looks disturbingly good\n",
    "- Have I overfitted?\n",
    "- Have I made an error?  Is the model classifying the jobs that well? (80%)\n",
    "\n",
    "Should now do some side-by-side analysis of the results"
   ]
  },
  {
   "cell_type": "markdown",
   "id": "d5369450-8611-4efb-9167-41ea9e763a85",
   "metadata": {},
   "source": [
    "**But** we don't know whether it's helpful to \"balance\" the training data, so we need a copy of the model trained \n",
    "\n",
    "*NEED TO CHECK WHATs happening with the "
   ]
  },
  {
   "cell_type": "code",
   "execution_count": 15,
   "id": "16897110-dd7a-460e-b073-afc8be2f436a",
   "metadata": {},
   "outputs": [
    {
     "data": {
      "text/plain": [
       "data scientist      275\n",
       "data analyst        275\n",
       "business analyst    275\n",
       "data engineer       275\n",
       "Name: title_simplified, dtype: int64"
      ]
     },
     "execution_count": 15,
     "metadata": {},
     "output_type": "execute_result"
    }
   ],
   "source": [
    "# Oversampling using SMOTE\n",
    "from imblearn.over_sampling import SMOTE\n",
    "from sklearn.base import clone\n",
    "\n",
    "oversample = SMOTE()\n",
    "\n",
    "X_train_b, y_train_b = oversample.fit_resample(X_train, y_train)\n",
    "y_train_b.value_counts()"
   ]
  },
  {
   "cell_type": "code",
   "execution_count": 16,
   "id": "4270da44-b389-486e-95da-4469cf152970",
   "metadata": {},
   "outputs": [],
   "source": [
    "\n",
    "def evaluate_clf(clf, X_train, y_train, X_test, y_test, name='Model 1'):\n",
    "    '''Convenience function for generating metrics\n",
    "    - clf: sklearn classifier object\n",
    "    - X:   X for full dataset (before train_test_split)\n",
    "    - y:   y for full dataset (before train_test_split)'''\n",
    "        \n",
    "    # As a diagnostic, print the class imbalance ratios in training set\n",
    "    unbalanced_ratio = list(y_train.value_counts())\n",
    "    balanced_ratio = list(y_train_b.value_counts())\n",
    "    ratio_labels = list(y_train_b.value_counts().index)\n",
    "\n",
    "    # Set up axes\n",
    "    fig = plt.figure()\n",
    "    fig.set_size_inches(10,5)\n",
    "    ax1 = fig.add_subplot(1,1,1)\n",
    "    ax1.set_title(name)\n",
    "    \n",
    "    # Train for both the unbalanced dataset\n",
    "    clf.fit(X_train, y_train);\n",
    "    y_pred = clf.predict(X_test)\n",
    "    accuracy = accuracy_score(y_test, y_pred)\n",
    "    metrics = precision_recall_fscore_support(y_test, y_pred, average='weighted', zero_division=0)\n",
    "    plot_confusion_matrix(clf, X_test, y_test, values_format='d', xticks_rotation='vertical', \n",
    "                          cmap='rocket', ax=ax1, colorbar=False);\n",
    "    \n",
    "    # Store results in a \"results\" dict\n",
    "    results = dict()\n",
    "    results['name'] = name\n",
    "    results['class_ratio'] = unbalanced_ratio\n",
    "    results['accuracy'] = accuracy\n",
    "    results['precision'] = metrics[0]\n",
    "    results['recall'] = metrics[1]\n",
    "    results['f1'] = metrics[2]\n",
    "    \n",
    "    return results"
   ]
  },
  {
   "cell_type": "code",
   "execution_count": 17,
   "id": "ba7721f6-269f-4fa6-a229-8df42648b339",
   "metadata": {},
   "outputs": [
    {
     "data": {
      "text/plain": [
       "{'name': 'NaiveBayes (no re-balancing)',\n",
       " 'class_ratio': [275, 238, 237, 43],\n",
       " 'accuracy': 0.8442211055276382,\n",
       " 'precision': 0.8288454852880756,\n",
       " 'recall': 0.8442211055276382,\n",
       " 'f1': 0.835704249207746}"
      ]
     },
     "execution_count": 17,
     "metadata": {},
     "output_type": "execute_result"
    },
    {
     "data": {
      "image/png": "[encoded data removed]",
      "text/plain": [
       "<Figure size 720x360 with 1 Axes>"
      ]
     },
     "metadata": {
      "needs_background": "light"
     },
     "output_type": "display_data"
    }
   ],
   "source": [
    "evaluate_clf(clf_nb, X_train, y_train, X_test, y_test, name='NaiveBayes (no re-balancing)', )"
   ]
  },
  {
   "cell_type": "code",
   "execution_count": 18,
   "id": "604b2cf9-e48b-4a6a-91e6-21f9515f2e30",
   "metadata": {
    "jupyter": {
     "source_hidden": true
    },
    "tags": []
   },
   "outputs": [
    {
     "data": {
      "image/png": "[encoded data removed]",
      "text/plain": [
       "<Figure size 720x360 with 2 Axes>"
      ]
     },
     "metadata": {
      "needs_background": "light"
     },
     "output_type": "display_data"
    }
   ],
   "source": [
    "def compare_confusion(clf=None, X=None, y=None, name='Model 1',\n",
    "                      clf2=None, X2=None, y2=None, name2='Model 2'):\n",
    "    if any([a is None for a in [clf, clf2, X, X2, y, y2]]):\n",
    "        raise ValueError('None values entered')\n",
    "        \n",
    "    # Set up axes\n",
    "    fig = plt.figure()\n",
    "    fig.set_size_inches(10,5)\n",
    "    ax1 = fig.add_subplot(1,2,1)\n",
    "    ax1.set_title(name)\n",
    "    ax2 = fig.add_subplot(1,2,2)\n",
    "    ax2.set_title(name2)\n",
    "    \n",
    "    # Create plots\n",
    "    plot_confusion_matrix(clf, X, y, values_format='d', xticks_rotation='vertical', \n",
    "                          cmap='rocket', ax=ax1, colorbar=False);\n",
    "    plot_confusion_matrix(clf2, X2, y2, values_format='d', xticks_rotation='vertical', \n",
    "                          cmap='rocket', ax=ax2, colorbar=False);\n",
    "    fig.tight_layout()\n",
    "    \n",
    "    \n",
    "compare_confusion(clf_nb, X_train, y_train, 'NB_unbalanced',\n",
    "                 clf_nb, X_train_b, y_train_b, 'NB_balanced')"
   ]
  },
  {
   "cell_type": "code",
   "execution_count": 19,
   "id": "64493f01-c743-4d60-9e65-0e263a6f2878",
   "metadata": {},
   "outputs": [
    {
     "data": {
      "text/plain": [
       "{'name': 'NaiveBayes (after rebalancing)',\n",
       " 'class_ratio': [275, 275, 275, 275],\n",
       " 'accuracy': 0.8492462311557789,\n",
       " 'precision': 0.8467602624257967,\n",
       " 'recall': 0.8492462311557789,\n",
       " 'f1': 0.846636680024669}"
      ]
     },
     "execution_count": 19,
     "metadata": {},
     "output_type": "execute_result"
    },
    {
     "data": {
      "image/png": "[encoded data removed]",
      "text/plain": [
       "<Figure size 720x360 with 1 Axes>"
      ]
     },
     "metadata": {
      "needs_background": "light"
     },
     "output_type": "display_data"
    }
   ],
   "source": [
    "evaluate_clf(clf_nb, X_train_b, y_train_b, X_test, y_test, name='NaiveBayes (after rebalancing)', )"
   ]
  },
  {
   "cell_type": "markdown",
   "id": "4f89dc30-b212-4ef6-94a0-49058d90835a",
   "metadata": {},
   "source": [
    "*NEED TO CHECK ABOUT DATA LEAKAGE IF THE ROLE TITLE IS IN THE DESCRIPTION*?"
   ]
  }
 ],
 "metadata": {
  "kernelspec": {
   "display_name": "Python 3",
   "language": "python",
   "name": "python3"
  },
  "language_info": {
   "codemirror_mode": {
    "name": "ipython",
    "version": 3
   },
   "file_extension": ".py",
   "mimetype": "text/x-python",
   "name": "python",
   "nbconvert_exporter": "python",
   "pygments_lexer": "ipython3",
   "version": "3.8.10"
  }
 },
 "nbformat": 4,
 "nbformat_minor": 5
}
