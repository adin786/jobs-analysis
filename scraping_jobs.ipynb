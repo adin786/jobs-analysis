{
 "cells": [
  {
   "cell_type": "markdown",
   "metadata": {},
   "source": [
    "# Jobs scraper\n",
    "My intention with this project is to scrape jobs data from the web, and pick out trends, keywords etc, to help me optimise my job applications and CV for the jobs that are actually available"
   ]
  },
  {
   "cell_type": "markdown",
   "metadata": {},
   "source": [
    "# Resources\n",
    "- https://github.com/spinlud/py-linkedin-jobs-scraper existing python tool for scraping jobs data from linkedin.\n",
    "- \n",
    "\n"
   ]
  },
  {
   "cell_type": "code",
   "execution_count": 73,
   "metadata": {},
   "outputs": [],
   "source": [
    "import pandas as pd\n",
    "import requests\n",
    "from bs4 import BeautifulSoup\n",
    "import re\n",
    "import time\n",
    "import random\n"
   ]
  },
  {
   "cell_type": "code",
   "execution_count": 2,
   "metadata": {},
   "outputs": [],
   "source": [
    "base_url = 'https://www.linkedin.com/jobs/search?keywords=Data%20Science&location=Glasgow%2C%20Scotland%2C%20United%20Kingdom&geoId=102681496&trk=public_jobs_jobs-search-bar_search-submit&position=1&pageNum=0'\n"
   ]
  },
  {
   "cell_type": "code",
   "execution_count": 46,
   "metadata": {},
   "outputs": [],
   "source": [
    "page = requests.get(base_url)"
   ]
  },
  {
   "cell_type": "code",
   "execution_count": 47,
   "metadata": {},
   "outputs": [
    {
     "data": {
      "text/plain": [
       "<Response [200]>"
      ]
     },
     "execution_count": 47,
     "metadata": {},
     "output_type": "execute_result"
    }
   ],
   "source": [
    "page"
   ]
  },
  {
   "cell_type": "code",
   "execution_count": 48,
   "metadata": {},
   "outputs": [],
   "source": [
    "soup = BeautifulSoup(page.content, 'html.parser')"
   ]
  },
  {
   "cell_type": "code",
   "execution_count": 49,
   "metadata": {
    "scrolled": true
   },
   "outputs": [],
   "source": [
    "job_list = soup.find(class_='jobs-search__results-list')"
   ]
  },
  {
   "cell_type": "code",
   "execution_count": 55,
   "metadata": {},
   "outputs": [],
   "source": [
    "job_listall = soup.find_all(class_='base-card')"
   ]
  },
  {
   "cell_type": "code",
   "execution_count": null,
   "metadata": {},
   "outputs": [],
   "source": [
    "def get_page(url, delay_timer=None, delay=2, output=True):\n",
    "    toc = time.time()\n",
    "    if delay_timer is not None and toc-delay_timer <= delay:\n",
    "        wait = delay-(toc-delay_timer)\n",
    "        print(f'Required delay: {delay}s, current timer: {toc-delay_timer:.1f}s, waiting further {wait:.1f}s')\n",
    "        time.sleep(wait)\n",
    "    elif delay_timer is None:\n",
    "        print(f'No delay timer provided, proceeding')\n",
    "    else:\n",
    "        print(f'Required delay: {delay}s, current timer: {toc-delay_timer:.1f}s, proceeding')\n",
    "    \n",
    "    tic = time.time()\n",
    "    page = requests.get(url)\n",
    "    toc = time.time()\n",
    "    print(f'Request took {toc-tic:.2f}s')\n",
    "    \n",
    "    return page, tic"
   ]
  },
  {
   "cell_type": "code",
   "execution_count": 127,
   "metadata": {
    "tags": []
   },
   "outputs": [
    {
     "name": "stdout",
     "output_type": "stream",
     "text": [
      "No delay timer provided, proceeding\n",
      "Request took 0.61s\n",
      "Data Scientist\n",
      "xs38N/JQdrgvBeKTrNPViQ==\n",
      "Euro Garages Ltd\n",
      "2021-06-05\n",
      "Blackburn, Scotland, United Kingdom\n",
      "Required delay: 2s, current timer: 0.7s, waiting further 1.3s\n",
      "Request took 0.72s\n",
      "Jobpage content extracted\n",
      "Salary:  £38,000\n",
      "---\n",
      "Data Analyst\n",
      "xs38N/JQdrgvBeKTrNPViQ==\n",
      "AXA UK\n",
      "2021-06-04\n",
      "Glasgow, Scotland, United Kingdom\n",
      "Required delay: 2s, current timer: 0.8s, waiting further 1.2s\n",
      "Request took 0.72s\n",
      "Jobpage content extracted\n",
      "No salary value detected\n",
      "---\n"
     ]
    }
   ],
   "source": [
    "page, dt = get_page(base_url)\n",
    "\n",
    "soup = BeautifulSoup(page.content, 'html.parser')\n",
    "\n",
    "job_listall = soup.find_all(class_='base-card')\n",
    "len(job_listall)\n",
    "\n",
    "for i, card in enumerate(job_listall):\n",
    "    if i>1: break\n",
    "    \n",
    "    this_jobname = card.find(class_='base-search-card__title').text.strip()\n",
    "    print(this_jobname)\n",
    "    \n",
    "    link_tag = card.find(class_='base-card__full-link')\n",
    "    this_url = link_tag.get('href')\n",
    "    \n",
    "    this_jobid = card.get('data-search-id')\n",
    "    print(this_jobid)\n",
    "    \n",
    "    this_company = card.find(class_='job-search-card__subtitle').text.strip()\n",
    "    print(this_company)\n",
    "    \n",
    "    this_companyurl = card.find(class_='job-search-card__subtitle').get('href')\n",
    "    \n",
    "    this_jobpostdate = card.find(class_=re.compile('job-search-card__listdate.*')).get('datetime')\n",
    "    print(this_jobpostdate)\n",
    "    \n",
    "    this_joblocation = card.find(class_='job-search-card__location').text.strip()\n",
    "    print(this_joblocation)\n",
    "    \n",
    "    # Request job page\n",
    "    page_job, dt = get_page(this_url,dt)\n",
    "    soup = BeautifulSoup(page_job.content,'html.parser')\n",
    "    \n",
    "    this_jobpagehtml = soup.find(class_='show-more-less-html__markup')\n",
    "    print('Jobpage content extracted')\n",
    "    \n",
    "    this_jobpagehtmlstr = str(this_jobpagehtml)\n",
    "    \n",
    "    match = re.match('[\\S\\n\\t\\v ]*(Salary:)([\\£\\$\\d, ]*)<br/>[\\S\\n\\t\\v ]*',this_jobpagehtmlstr)    \n",
    "    if match is not None:\n",
    "        print(match.group(1), match.group(2))\n",
    "    else:\n",
    "        print('No salary value detected')\n",
    "        \n",
    "    print('---')\n",
    "    "
   ]
  },
  {
   "cell_type": "code",
   "execution_count": 60,
   "metadata": {
    "scrolled": true,
    "tags": []
   },
   "outputs": [
    {
     "name": "stdout",
     "output_type": "stream",
     "text": [
      "<div class=\"base-card base-card--link base-search-card base-search-card--link job-search-card\" data-column=\"1\" data-entity-urn=\"urn:li:jobPosting:2582560990\" data-row=\"1\" data-search-id=\"8csD+jAa44rTCq98U+fqeA==\" data-tracking-id=\"lTo9JVd7dYQJqJHfYe6kEg==\">\n",
      " <a class=\"base-card__full-link\" data-tracking-client-ingraph=\"\" data-tracking-control-name=\"public_jobs_jserp-result_search-card\" data-tracking-will-navigate=\"\" href=\"https://uk.linkedin.com/jobs/view/data-analyst-at-axa-uk-2582560990?refId=8csD%2BjAa44rTCq98U%2BfqeA%3D%3D&amp;trackingId=lTo9JVd7dYQJqJHfYe6kEg%3D%3D&amp;position=1&amp;pageNum=0&amp;trk=public_jobs_jserp-result_search-card\">\n",
      "  <span class=\"screen-reader-text\">\n",
      "   Data Analyst\n",
      "  </span>\n",
      " </a>\n",
      " <div class=\"search-entity-media\">\n",
      "  <img alt=\"\" class=\"artdeco-entity-image artdeco-entity-image--square-4\" data-delayed-url=\"https://media-exp3.licdn.com/dms/image/C4D0BAQHIqvY5mdWEww/company-logo_100_100/0/1622532283499?e=1631145600&amp;v=beta&amp;t=d1Z1p8nJTrwlcugYDXj5avLF_NM9hy5SFTmd56EWvBw\" data-ghost-classes=\"artdeco-entity-image--ghost\" data-ghost-url=\"https://static-exp1.licdn.com/sc/h/9a9u41thxt325ucfh5z8ga4m8\"/>\n",
      " </div>\n",
      " <div class=\"base-search-card__info\">\n",
      "  <h3 class=\"base-search-card__title\">\n",
      "   Data Analyst\n",
      "  </h3>\n",
      "  <h4 class=\"base-search-card__subtitle\">\n",
      "   <a class=\"job-search-card__subtitle\" data-tracking-client-ingraph=\"\" data-tracking-control-name=\"public_jobs_jserp-result_job-search-card-subtitle\" data-tracking-will-navigate=\"\" href=\"https://uk.linkedin.com/company/axa-uk?trk=public_jobs_jserp-result_job-search-card-subtitle\" target=\"_self\">\n",
      "    AXA UK\n",
      "   </a>\n",
      "  </h4>\n",
      "  <!-- -->\n",
      "  <div class=\"base-search-card__metadata\">\n",
      "   <span class=\"job-search-card__location\">\n",
      "    Glasgow, Scotland, United Kingdom\n",
      "   </span>\n",
      "   <!-- -->\n",
      "   <!-- -->\n",
      "   <p class=\"job-search-card__snippet\">\n",
      "    Strong excel skills, experience in working with and manipulating data. Strong oral and written communication skills, autonomy, curiosity,...\n",
      "   </p>\n",
      "   <time class=\"job-search-card__listdate--new\" datetime=\"2021-06-04\">\n",
      "    22 hours ago\n",
      "   </time>\n",
      "   <!-- -->\n",
      "  </div>\n",
      " </div>\n",
      "</div>\n",
      "\n"
     ]
    }
   ],
   "source": [
    "card = job_list.find(class_='base-card')\n",
    "print(card.prettify())"
   ]
  },
  {
   "cell_type": "code",
   "execution_count": 19,
   "metadata": {},
   "outputs": [
    {
     "data": {
      "text/plain": [
       "'https://uk.linkedin.com/jobs/view/data-analyst-at-axa-uk-2582560990?refId=kiWe4aTAtyAluSqGyj0iqQ%3D%3D&trackingId=Xv7hffDgaPCePR7hj8yrmw%3D%3D&position=1&pageNum=0&trk=public_jobs_jserp-result_search-card'"
      ]
     },
     "execution_count": 19,
     "metadata": {},
     "output_type": "execute_result"
    }
   ],
   "source": [
    "link_tag = card.find(class_='base-card__full-link')\n",
    "this_url = link_tag.get('href')\n",
    "this_url"
   ]
  },
  {
   "cell_type": "code",
   "execution_count": 21,
   "metadata": {},
   "outputs": [
    {
     "data": {
      "text/plain": [
       "'kiWe4aTAtyAluSqGyj0iqQ=='"
      ]
     },
     "execution_count": 21,
     "metadata": {},
     "output_type": "execute_result"
    }
   ],
   "source": [
    "this_jobid = card.get('data-search-id')\n",
    "this_jobid"
   ]
  },
  {
   "cell_type": "code",
   "execution_count": 62,
   "metadata": {},
   "outputs": [
    {
     "data": {
      "text/plain": [
       "'Data Science Consultant'"
      ]
     },
     "execution_count": 62,
     "metadata": {},
     "output_type": "execute_result"
    }
   ],
   "source": [
    "this_jobname = card.find(class_='base-search-card__title').text.strip()\n",
    "this_jobname"
   ]
  },
  {
   "cell_type": "code",
   "execution_count": 63,
   "metadata": {},
   "outputs": [
    {
     "data": {
      "text/plain": [
       "'Metrica Recruitment'"
      ]
     },
     "execution_count": 63,
     "metadata": {},
     "output_type": "execute_result"
    }
   ],
   "source": [
    "this_company = card.find(class_='job-search-card__subtitle').text.strip()\n",
    "this_company"
   ]
  },
  {
   "cell_type": "code",
   "execution_count": 64,
   "metadata": {},
   "outputs": [
    {
     "data": {
      "text/plain": [
       "'https://www.linkedin.com/company/metrica-recruitment?trk=public_jobs_jserp-result_job-search-card-subtitle'"
      ]
     },
     "execution_count": 64,
     "metadata": {},
     "output_type": "execute_result"
    }
   ],
   "source": [
    "this_companyurl = card.find(class_='job-search-card__subtitle').get('href')\n",
    "this_companyurl"
   ]
  },
  {
   "cell_type": "code",
   "execution_count": 68,
   "metadata": {},
   "outputs": [
    {
     "data": {
      "text/plain": [
       "'2021-03-12'"
      ]
     },
     "execution_count": 68,
     "metadata": {},
     "output_type": "execute_result"
    }
   ],
   "source": [
    "this_jobpostdate = card.find(class_=re.compile('job-search-card__listdate.*')).get('datetime')\n",
    "this_jobpostdate"
   ]
  },
  {
   "cell_type": "code",
   "execution_count": 66,
   "metadata": {
    "scrolled": true,
    "tags": []
   },
   "outputs": [
    {
     "name": "stdout",
     "output_type": "stream",
     "text": [
      "<div class=\"base-card base-card--link base-search-card base-search-card--link job-search-card\" data-column=\"1\" data-entity-urn=\"urn:li:jobPosting:2458969679\" data-row=\"2\" data-search-id=\"8csD+jAa44rTCq98U+fqeA==\" data-tracking-id=\"nS4Pvb+ieW4lb0LLaJaLOg==\">\n",
      " <a class=\"base-card__full-link\" data-tracking-client-ingraph=\"\" data-tracking-control-name=\"public_jobs_jserp-result_search-card\" data-tracking-will-navigate=\"\" href=\"https://uk.linkedin.com/jobs/view/data-science-consultant-at-metrica-recruitment-2458969679?refId=8csD%2BjAa44rTCq98U%2BfqeA%3D%3D&amp;trackingId=nS4Pvb%2BieW4lb0LLaJaLOg%3D%3D&amp;position=2&amp;pageNum=0&amp;trk=public_jobs_jserp-result_search-card\">\n",
      "  <span class=\"screen-reader-text\">\n",
      "   Data Science Consultant\n",
      "  </span>\n",
      " </a>\n",
      " <div class=\"search-entity-media\">\n",
      "  <img alt=\"\" class=\"artdeco-entity-image artdeco-entity-image--square-4\" data-delayed-url=\"https://media-exp1.licdn.com/dms/image/C560BAQE-QWIVL-b-5A/company-logo_100_100/0/1519905145941?e=1631145600&amp;v=beta&amp;t=TVIcasrjxwhvNbW2q7ur5BlcvnPPB1u2atmxo4UaxXI\" data-ghost-classes=\"artdeco-entity-image--ghost\" data-ghost-url=\"https://static-exp1.licdn.com/sc/h/9a9u41thxt325ucfh5z8ga4m8\"/>\n",
      " </div>\n",
      " <div class=\"base-search-card__info\">\n",
      "  <h3 class=\"base-search-card__title\">\n",
      "   Data Science Consultant\n",
      "  </h3>\n",
      "  <h4 class=\"base-search-card__subtitle\">\n",
      "   <a class=\"job-search-card__subtitle\" data-tracking-client-ingraph=\"\" data-tracking-control-name=\"public_jobs_jserp-result_job-search-card-subtitle\" data-tracking-will-navigate=\"\" href=\"https://www.linkedin.com/company/metrica-recruitment?trk=public_jobs_jserp-result_job-search-card-subtitle\" target=\"_self\">\n",
      "    Metrica Recruitment\n",
      "   </a>\n",
      "  </h4>\n",
      "  <!-- -->\n",
      "  <div class=\"base-search-card__metadata\">\n",
      "   <span class=\"job-search-card__location\">\n",
      "    Glasgow, Scotland, United Kingdom\n",
      "   </span>\n",
      "   <!-- -->\n",
      "   <!-- -->\n",
      "   <p class=\"job-search-card__snippet\">\n",
      "    Over 18 months years of experience in operational research, customer analytics, BI analytics, data science. An excellent level of ...\n",
      "   </p>\n",
      "   <time class=\"job-search-card__listdate\" datetime=\"2021-03-12\">\n",
      "    3 months ago\n",
      "   </time>\n",
      "   <!-- -->\n",
      "  </div>\n",
      " </div>\n",
      "</div>\n",
      "\n"
     ]
    }
   ],
   "source": [
    "print(card.prettify())"
   ]
  },
  {
   "cell_type": "code",
   "execution_count": 33,
   "metadata": {},
   "outputs": [
    {
     "data": {
      "text/plain": [
       "'Glasgow, Scotland, United Kingdom'"
      ]
     },
     "execution_count": 33,
     "metadata": {},
     "output_type": "execute_result"
    }
   ],
   "source": [
    "this_joblocation = card.find(class_='job-search-card__location').text.strip()\n",
    "this_joblocation"
   ]
  },
  {
   "cell_type": "markdown",
   "metadata": {},
   "source": [
    "## Try opening job_url"
   ]
  },
  {
   "cell_type": "code",
   "execution_count": 37,
   "metadata": {},
   "outputs": [],
   "source": [
    "page_job = requests.get(this_url)\n",
    "soup = BeautifulSoup(page_job.content,'html.parser')"
   ]
  },
  {
   "cell_type": "code",
   "execution_count": 84,
   "metadata": {
    "scrolled": true,
    "tags": []
   },
   "outputs": [
    {
     "data": {
      "text/plain": [
       "<div class=\"show-more-less-html__markup show-more-less-html__markup--clamp-after-5\">Are you intrigued by data? Yelp has hundreds of millions of pieces of user-contributed content, millions of users and business listings, and hundreds of thousands of advertising customers – and all of these numbers are constantly growing. Making sense of this data, deducing relationships between variables, and figuring out different interactions is hard work, but these insights are hugely impactful to Yelp’s business. Applied scientists uncover these insights through exploratory research and analysis, and carry the ideas all the way through to production-grade statistical or predictive models. They work in areas including pricing models and auction bidding strategies, learning to rank applications, personalized recommender systems, trust and safety / spam detection, and causal inference.<br/><br/>Yelp engineering culture is driven by our values: we’re a cooperative team that encourages individual authenticity and “unboring” solutions to problems. We enable all new team members to deploy working code their first week, and your impact will only grow from there with the support of your manager, mentor, and team. At the end of the day, we’re all about helping our users, growing as engineers and scientists, and having fun in a collaborative environment.<br/><br/>Sound exciting? Keep reading.<br/><br/><strong><u>Where You Come In<br/></u></strong><ul><li>Identify and own challenging problems, form testable hypotheses, and drive significant business impact</li><li>Lead the design and analysis of experiments or development of causal and predictive models to test your ideas</li><li>Collaborate with product and engineering to affect changes in production systems and provide intelligence to other teams</li><li>Communicate your conclusions to technical and non-technical audiences alike</li><li>Keep the team and our projects current on new developments in ML and statistics by reading papers and attending conferences and local events</li><li>Productionize and automate model pipelines within Python services<br/></li></ul><strong><u>What It Takes To Succeed<br/></u></strong><ul><li>Based or willing to relocate within the United Kingdom</li><li>Experience with data analysis/statistical software and packages (pandas/statsmodels/sklearn within Python, R, etc.)</li><li>Experience with predictive modeling/machine learning, forecasting, or causal inference</li><li>A degree in a quantitative discipline such as Computer Science, Statistics, Econometrics, Applied Math, etc.</li><li>A love for writing beautiful code; you don’t need to be an expert, but experience is a plus and we’ll expect you to learn on the job</li><li>A demonstrated capability for original research, the curiosity to uncover promising solutions to new problems, and the persistence to carry your ideas through to an end goal</li><li>The motivation to develop deep product and business knowledge and to connect abstract modeling and analysis tasks with business value</li><li>Comfortable working in a Unix environment<br/></li></ul><strong><u>What You'll Get<br/></u></strong><ul><li>Full responsibility for projects from day one, an awesome team, and a dynamic work environment</li><li>Competitive salary with equity in the company, a pension scheme, and an optional employee stock purchase program</li><li>25 days paid holiday initially, rising to 29 with service</li><li>Private health insurance, including dental and vision</li><li>Flexible working hours and meeting-free Wednesdays</li><li>Regular 3-day Hackathons and weekly learning groups, always with interesting topics</li><li>£58 per month toward any exercise of your choice</li><li>Quarterly offsites<br/></li></ul><em>Yelp values diversity. We’re proud to be an equal opportunity employer and consider qualified applicants without regard to Race/Ethnic Origin, Sex, Religion/Belief, Disability, Age, Sexual Orientation. <br/><br/></em><em>Note: Yelp does not accept agency resumes. Please do not forward resumes to any recruiting alias or employee. Yelp is not responsible for any fees related to unsolicited resumes.<br/><br/></em></div>"
      ]
     },
     "execution_count": 84,
     "metadata": {},
     "output_type": "execute_result"
    }
   ],
   "source": [
    "this_jobpagecontent = soup.find(class_='show-more-less-html__markup')\n",
    "this_jobpagecontent"
   ]
  },
  {
   "cell_type": "code",
   "execution_count": 85,
   "metadata": {},
   "outputs": [
    {
     "data": {
      "text/plain": [
       "\"Are you intrigued by data? Yelp has hundreds of millions of pieces of user-contributed content, millions of users and business listings, and hundreds of thousands of advertising customers – and all of these numbers are constantly growing. Making sense of this data, deducing relationships between variables, and figuring out different interactions is hard work, but these insights are hugely impactful to Yelp’s business. Applied scientists uncover these insights through exploratory research and analysis, and carry the ideas all the way through to production-grade statistical or predictive models. They work in areas including pricing models and auction bidding strategies, learning to rank applications, personalized recommender systems, trust and safety / spam detection, and causal inference.Yelp engineering culture is driven by our values: we’re a cooperative team that encourages individual authenticity and “unboring” solutions to problems. We enable all new team members to deploy working code their first week, and your impact will only grow from there with the support of your manager, mentor, and team. At the end of the day, we’re all about helping our users, growing as engineers and scientists, and having fun in a collaborative environment.Sound exciting? Keep reading.Where You Come InIdentify and own challenging problems, form testable hypotheses, and drive significant business impactLead the design and analysis of experiments or development of causal and predictive models to test your ideasCollaborate with product and engineering to affect changes in production systems and provide intelligence to other teamsCommunicate your conclusions to technical and non-technical audiences alikeKeep the team and our projects current on new developments in ML and statistics by reading papers and attending conferences and local eventsProductionize and automate model pipelines within Python servicesWhat It Takes To SucceedBased or willing to relocate within the United KingdomExperience with data analysis/statistical software and packages (pandas/statsmodels/sklearn within Python, R, etc.)Experience with predictive modeling/machine learning, forecasting, or causal inferenceA degree in a quantitative discipline such as Computer Science, Statistics, Econometrics, Applied Math, etc.A love for writing beautiful code; you don’t need to be an expert, but experience is a plus and we’ll expect you to learn on the jobA demonstrated capability for original research, the curiosity to uncover promising solutions to new problems, and the persistence to carry your ideas through to an end goalThe motivation to develop deep product and business knowledge and to connect abstract modeling and analysis tasks with business valueComfortable working in a Unix environmentWhat You'll GetFull responsibility for projects from day one, an awesome team, and a dynamic work environmentCompetitive salary with equity in the company, a pension scheme, and an optional employee stock purchase program25 days paid holiday initially, rising to 29 with servicePrivate health insurance, including dental and visionFlexible working hours and meeting-free WednesdaysRegular 3-day Hackathons and weekly learning groups, always with interesting topics£58 per month toward any exercise of your choiceQuarterly offsitesYelp values diversity. We’re proud to be an equal opportunity employer and consider qualified applicants without regard to Race/Ethnic Origin, Sex, Religion/Belief, Disability, Age, Sexual Orientation. Note: Yelp does not accept agency resumes. Please do not forward resumes to any recruiting alias or employee. Yelp is not responsible for any fees related to unsolicited resumes.\""
      ]
     },
     "execution_count": 85,
     "metadata": {},
     "output_type": "execute_result"
    }
   ],
   "source": [
    "this_jobpagecontent.text"
   ]
  },
  {
   "cell_type": "markdown",
   "metadata": {},
   "source": [
    "# Selenium approach\n",
    "I realised I can't get the job description from the HTML, so need a web-browser based scraping method. Using Selenium"
   ]
  },
  {
   "cell_type": "code",
   "execution_count": null,
   "metadata": {},
   "outputs": [],
   "source": []
  }
 ],
 "metadata": {
  "kernelspec": {
   "display_name": "Python 3",
   "language": "python",
   "name": "python3"
  },
  "language_info": {
   "codemirror_mode": {
    "name": "ipython",
    "version": 3
   },
   "file_extension": ".py",
   "mimetype": "text/x-python",
   "name": "python",
   "nbconvert_exporter": "python",
   "pygments_lexer": "ipython3",
   "version": "3.9.5"
  }
 },
 "nbformat": 4,
 "nbformat_minor": 4
}
