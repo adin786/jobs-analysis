{
 "cells": [
  {
   "cell_type": "code",
   "execution_count": 1,
   "source": [
    "%load_ext autoreload\r\n",
    "%autoreload 2\r\n",
    "import indeed.IndeedScraper as ind"
   ],
   "outputs": [],
   "metadata": {}
  },
  {
   "cell_type": "code",
   "execution_count": 2,
   "source": [
    "# Create instance of class\r\n",
    "scraper = ind.SearchPageScraper('Data Scientist', 'Scotland')\r\n",
    "scraper"
   ],
   "outputs": [
    {
     "output_type": "execute_result",
     "data": {
      "text/plain": [
       "IndeedScraper(title=\"data+scientist\", loc=\"Scotland\")\n",
       "  - Empty df, no results loaded"
      ]
     },
     "metadata": {},
     "execution_count": 2
    }
   ],
   "metadata": {}
  },
  {
   "cell_type": "code",
   "execution_count": 3,
   "source": [
    "# Run the scraper and print it\r\n",
    "scraper.scrape(2, verbose=True)\r\n",
    "scraper"
   ],
   "outputs": [
    {
     "output_type": "stream",
     "name": "stdout",
     "text": [
      "Running scraper for [data+scientist] in [Scotland]\n",
      "\n",
      "Page:0 url:https://uk.indeed.com/jobs?q=data+scientist&l=Scotland\n",
      "job: 0 title:Data Scientist - KTP company:University of Strathclyde\n",
      "job: 1 title:Data Scientist       company:Kleboe Jardine\n",
      "job: 2 title:Data Scientist - NLP company:Propel\n",
      "job: 3 title:Data Verification Sc company:Thermo Fisher Scientific\n",
      "job: 4 title:Data Science (Tech)  company:GSK\n",
      "job: 5 title:Senior Data Scientis company:Office for National Statistics\n",
      "job: 6 title:Data Scientist       company:Offshore Renewable Energy Catapult\n",
      "job: 7 title:Applied Scientist (R company:Yelp\n",
      "job: 8 title:Data Scientist Lead  company:JPMorgan Chase Bank, N.A.\n",
      "job: 9 title:Applied Scientist Re company:Amazon Dev Centre(Scotland)Ltd\n",
      "job:10 title:Machine Learning Eng company:JPMorgan Chase Bank, N.A.\n",
      "job:11 title:Discovery Data Scien company:Exscientia\n",
      "job:12 title:Data Scientist       company:Exscientia\n",
      "job:13 title:Senior Applied Data  company:dunnhumby\n",
      "job:14 title:Senior Data Scientis company:SolarWinds\n",
      "\n",
      "Page:1 url:https://uk.indeed.com/jobs?q=data+scientist&l=Scotland&start=10\n",
      "Blank result, retrying (1 of 3 attempts)\n",
      "\n",
      "Page:1 url:https://uk.indeed.com/jobs?q=data+scientist&l=Scotland&start=10\n",
      "job: 0 title:Graduate Apprentice  company:Perth & Kinross Council\n",
      "job: 1 title:Data Scientist       company:NatWest Group\n",
      "job: 2 title:Data Science Analyst company:Yelp\n",
      "job: 3 title:Machine Learning Eng company:smartR.ai LTD\n",
      "job: 4 title:Postdoctoral Data Sc company:University of Edinburgh\n",
      "job: 5 title:Analytics Coordinato company:schuh\n",
      "job: 6 title:Lead Data Scientist  company:Tesco Bank\n",
      "job: 7 title:Data Scientist       company:Wood Mackenzie\n",
      "job: 8 title:Data Scientist       company:MBN Recruitment Solutions\n",
      "job: 9 title:Senior Data Scientis company:Jacobs\n",
      "job:10 title:Senior Data Scientis company:Barclays\n",
      "job:11 title:Lead Data Scientist  company:Newport Group\n",
      "job:12 title:Applied Scientist    company:Amazon Dev Centre(Scotland)Ltd\n",
      "job:13 title:Senior Data Scientis company:Be-IT Resourcing\n",
      "job:14 title:Graduate Statisticia company:Quotient Sciences\n"
     ]
    },
    {
     "output_type": "execute_result",
     "data": {
      "text/plain": [
       "IndeedScraper(title=\"data+scientist\", loc=\"Scotland\")\n",
       "  - 2 jobs scraped from 2 pages"
      ]
     },
     "metadata": {},
     "execution_count": 3
    }
   ],
   "metadata": {}
  },
  {
   "cell_type": "code",
   "execution_count": null,
   "source": [
    "scraper.add_descriptions()"
   ],
   "outputs": [],
   "metadata": {}
  },
  {
   "cell_type": "code",
   "execution_count": 4,
   "source": [
    "scraper.df"
   ],
   "outputs": [
    {
     "output_type": "execute_result",
     "data": {
      "text/plain": [
       "                   title                  id            company  \\\n",
       "0  Senior Data Scientist  p_66b0be07a4d4d381         SolarWinds   \n",
       "1  Graduate Statistician  p_cee6357fe66b1021  Quotient Sciences   \n",
       "\n",
       "                                                 url       location  \\\n",
       "0  https://uk.indeed.com/rc/clk?jk=66b0be07a4d4d3...  Edinburgh EH3   \n",
       "1  https://uk.indeed.com/rc/clk?jk=cee6357fe66b10...      Edinburgh   \n",
       "\n",
       "                                             summary          date  \\\n",
       "0  Perform advanced analytics to draw insights fr...    6 days ago   \n",
       "1  Other project team members will perform tasks ...  30+ days ago   \n",
       "\n",
       "  description description_html  \n",
       "0         NaN              NaN  \n",
       "1         NaN              NaN  "
      ],
      "text/html": [
       "<div>\n",
       "<style scoped>\n",
       "    .dataframe tbody tr th:only-of-type {\n",
       "        vertical-align: middle;\n",
       "    }\n",
       "\n",
       "    .dataframe tbody tr th {\n",
       "        vertical-align: top;\n",
       "    }\n",
       "\n",
       "    .dataframe thead th {\n",
       "        text-align: right;\n",
       "    }\n",
       "</style>\n",
       "<table border=\"1\" class=\"dataframe\">\n",
       "  <thead>\n",
       "    <tr style=\"text-align: right;\">\n",
       "      <th></th>\n",
       "      <th>title</th>\n",
       "      <th>id</th>\n",
       "      <th>company</th>\n",
       "      <th>url</th>\n",
       "      <th>location</th>\n",
       "      <th>summary</th>\n",
       "      <th>date</th>\n",
       "      <th>description</th>\n",
       "      <th>description_html</th>\n",
       "    </tr>\n",
       "  </thead>\n",
       "  <tbody>\n",
       "    <tr>\n",
       "      <th>0</th>\n",
       "      <td>Senior Data Scientist</td>\n",
       "      <td>p_66b0be07a4d4d381</td>\n",
       "      <td>SolarWinds</td>\n",
       "      <td>https://uk.indeed.com/rc/clk?jk=66b0be07a4d4d3...</td>\n",
       "      <td>Edinburgh EH3</td>\n",
       "      <td>Perform advanced analytics to draw insights fr...</td>\n",
       "      <td>6 days ago</td>\n",
       "      <td>NaN</td>\n",
       "      <td>NaN</td>\n",
       "    </tr>\n",
       "    <tr>\n",
       "      <th>1</th>\n",
       "      <td>Graduate Statistician</td>\n",
       "      <td>p_cee6357fe66b1021</td>\n",
       "      <td>Quotient Sciences</td>\n",
       "      <td>https://uk.indeed.com/rc/clk?jk=cee6357fe66b10...</td>\n",
       "      <td>Edinburgh</td>\n",
       "      <td>Other project team members will perform tasks ...</td>\n",
       "      <td>30+ days ago</td>\n",
       "      <td>NaN</td>\n",
       "      <td>NaN</td>\n",
       "    </tr>\n",
       "  </tbody>\n",
       "</table>\n",
       "</div>"
      ]
     },
     "metadata": {},
     "execution_count": 4
    }
   ],
   "metadata": {}
  },
  {
   "cell_type": "code",
   "execution_count": 5,
   "source": [
    "scraper.pages_scraped"
   ],
   "outputs": [
    {
     "output_type": "execute_result",
     "data": {
      "text/plain": [
       "2"
      ]
     },
     "metadata": {},
     "execution_count": 5
    }
   ],
   "metadata": {}
  },
  {
   "cell_type": "code",
   "execution_count": null,
   "source": [
    "scraper.new_query('Data Analyst', 'Glasgow')"
   ],
   "outputs": [],
   "metadata": {}
  },
  {
   "cell_type": "code",
   "execution_count": null,
   "source": [
    "scraper.scrape()"
   ],
   "outputs": [],
   "metadata": {}
  },
  {
   "cell_type": "code",
   "execution_count": null,
   "source": [
    "scraper.drop_duplicates()"
   ],
   "outputs": [],
   "metadata": {}
  },
  {
   "cell_type": "code",
   "execution_count": null,
   "source": [
    "\r\n",
    "# Debugging the blank pages"
   ],
   "outputs": [],
   "metadata": {}
  }
 ],
 "metadata": {
  "orig_nbformat": 4,
  "language_info": {
   "name": "python"
  }
 },
 "nbformat": 4,
 "nbformat_minor": 2
}